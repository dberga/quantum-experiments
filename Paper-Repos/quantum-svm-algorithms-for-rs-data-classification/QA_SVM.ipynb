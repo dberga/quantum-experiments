{
 "cells": [
  {
   "cell_type": "markdown",
   "metadata": {},
   "source": [
    "# Classification with SVM on the D-Wave Advantage Quantum Annealer"
   ]
  },
  {
   "cell_type": "markdown",
   "metadata": {},
   "source": [
    "#### This notebook performs the evaluation and visualization of the results returned from the quantum annealer. The results have to be obtained with another script (e.g. submit_experiments.sh).\n",
    "\n",
    "The classification map that is reported in the paper is the one obtained with the following parameters:\n",
    "\n",
    "- B = 3\n",
    "- K = 2\n",
    "- gamma = -1\n",
    "- xi = 5\n",
    "- E = 0\n",
    "- embedding 2\n",
    "- annealing time = 100\n",
    "- rel. chain strength = 0.5\n",
    "- Energy -45.506845443310596 \n",
    "\n",
    "On test data\n",
    "- Overal accuracy 0.873516\n",
    "- F1 score 0.7344402173456618\n"
   ]
  },
  {
   "cell_type": "markdown",
   "metadata": {},
   "source": [
    "## Import Packages"
   ]
  },
  {
   "cell_type": "code",
   "execution_count": 1,
   "metadata": {},
   "outputs": [],
   "source": [
    "# load_ext autoreload\n",
    "#autoreload 2\n",
    "import numpy as np\n",
    "import glob\n",
    "from utils import *\n",
    "import matplotlib.pyplot as plt\n",
    "from matplotlib import colors\n",
    "from sklearn import preprocessing\n",
    "\n",
    "from sklearn.metrics import accuracy_score\n",
    "from sklearn.metrics import f1_score\n",
    "\n",
    "from quantum_SVM import *   # QA SVM"
   ]
  },
  {
   "cell_type": "markdown",
   "metadata": {},
   "source": [
    "## Load the training and test sets"
   ]
  },
  {
   "cell_type": "code",
   "execution_count": 2,
   "metadata": {},
   "outputs": [
    {
     "name": "stdout",
     "output_type": "stream",
     "text": [
      "X_train (100, 8)\n",
      "Y_train (100,)\n",
      "X_test (250000, 8)\n",
      "Y_test (250000,)\n"
     ]
    },
    {
     "data": {
      "image/png": "[encoded data removed]",
      "text/plain": [
       "<Figure size 432x288 with 1 Axes>"
      ]
     },
     "metadata": {
      "needs_background": "light"
     },
     "output_type": "display_data"
    }
   ],
   "source": [
    "# Load training set\n",
    "key='_tiny'\n",
    "X_train=np.load('data/X_train_tile_4'+key+'.npy')\n",
    "Y_train=np.load('data/Y_train_tile_4'+key+'.npy')\n",
    "\n",
    "print('X_train',X_train.shape) \n",
    "print('Y_train',Y_train.shape) \n",
    "\n",
    "# Load test set\n",
    "X_test=np.load('data/X_test_tile_8_subregion.npy')\n",
    "Y_test=np.load('data/Y_test_tile_8_subregion.npy')\n",
    "\n",
    "print('X_test',X_test.shape) \n",
    "print('Y_test',Y_test.shape) \n",
    "\n",
    "# for training, the labels have to be -1,+1; i.e., replace 0 -> -1\n",
    "Y_train=np.where(Y_train==0,-1,Y_train)\n",
    "\n",
    "groundtruth=np.reshape(Y_test,(500,500))\n",
    "plt.title('Groundtruth')\n",
    "cmap = colors.ListedColormap(['black', 'red'])\n",
    "plt.rcParams[\"figure.figsize\"] = (5,5)\n",
    "view=plt.imshow(groundtruth,cmap=cmap)"
   ]
  },
  {
   "cell_type": "markdown",
   "metadata": {},
   "source": [
    "## QSVM"
   ]
  },
  {
   "cell_type": "markdown",
   "metadata": {},
   "source": [
    "### Parameters"
   ]
  },
  {
   "cell_type": "code",
   "execution_count": 3,
   "metadata": {},
   "outputs": [],
   "source": [
    "outputpath='output/run_calibtrain'+key\n",
    "maxalphas=20 # the 20 lowest-energy results returned by the quantum annealer are stored, but for the evaluation, we can consider less and compare\n",
    "\n",
    "# Parameters \n",
    "Bs=[2,3] #[2,3,5,10]                      Base\n",
    "Ks=[2] #[2,3]                             Number of qubits\n",
    "xis=[0,1,5] #[0,1,5]                      Strength to consider the constraint\n",
    "gammas=[-1] #[-1,0.125,0.25,0.5,1,2,4,8]  Kernel\n",
    "Es=[0,1,2] #[0,1,2]                       Exponent\n",
    "annealing_times=[1,10,100]\n",
    "chain_strengths=[0.2,0.5,1,2,5]\n",
    "embeddings=[0,1,2,3]\n"
   ]
  },
  {
   "cell_type": "code",
   "execution_count": 15,
   "metadata": {},
   "outputs": [
    {
     "name": "stdout",
     "output_type": "stream",
     "text": [
      "Extracting nodes and couplers\n",
      "Saving 200 nodes and 19900 couplers for output/run_calibtrain_tiny_B=2_K=2_xi=0_E=0_gamma=-1.0/\n",
      "running output/run_calibtrain_tiny_B=2_K=2_xi=0_E=0_gamma=-1.0/result_couplers=7500/ with 200 nodes and 7500 couplers for embedding [0, 1, 2, 3]\n"
     ]
    },
    {
     "ename": "TypeError",
     "evalue": "'BinaryQuadraticModel' object is not iterable",
     "output_type": "error",
     "traceback": [
      "\u001b[0;31m---------------------------------------------------------------------------\u001b[0m",
      "\u001b[0;31mTypeError\u001b[0m                                 Traceback (most recent call last)",
      "\u001b[0;32m/tmp/ipykernel_9080/3374752665.py\u001b[0m in \u001b[0;36m<module>\u001b[0;34m\u001b[0m\n\u001b[1;32m      8\u001b[0m                     \u001b[0mpath\u001b[0m \u001b[0;34m=\u001b[0m \u001b[0moutputpath\u001b[0m\u001b[0;34m+\u001b[0m\u001b[0msubpath\u001b[0m\u001b[0;34m+\u001b[0m\u001b[0;34m\"/\"\u001b[0m\u001b[0;34m\u001b[0m\u001b[0;34m\u001b[0m\u001b[0m\n\u001b[1;32m      9\u001b[0m                     \u001b[0mgen_svm_qubos\u001b[0m\u001b[0;34m(\u001b[0m\u001b[0mX_train\u001b[0m\u001b[0;34m,\u001b[0m\u001b[0mY_train\u001b[0m\u001b[0;34m,\u001b[0m\u001b[0mB\u001b[0m\u001b[0;34m,\u001b[0m\u001b[0mK\u001b[0m\u001b[0;34m,\u001b[0m\u001b[0mxi\u001b[0m\u001b[0;34m,\u001b[0m\u001b[0mgamma\u001b[0m\u001b[0;34m,\u001b[0m\u001b[0mE\u001b[0m\u001b[0;34m,\u001b[0m\u001b[0mpath\u001b[0m\u001b[0;34m)\u001b[0m\u001b[0;34m\u001b[0m\u001b[0;34m\u001b[0m\u001b[0m\n\u001b[0;32m---> 10\u001b[0;31m                     \u001b[0mdwave_run_embedding\u001b[0m\u001b[0;34m(\u001b[0m\u001b[0mX_train\u001b[0m\u001b[0;34m,\u001b[0m\u001b[0mY_train\u001b[0m\u001b[0;34m,\u001b[0m\u001b[0mpath\u001b[0m\u001b[0;34m,\u001b[0m\u001b[0mannealing_times\u001b[0m\u001b[0;34m,\u001b[0m\u001b[0mchain_strengths\u001b[0m\u001b[0;34m,\u001b[0m\u001b[0membeddings\u001b[0m\u001b[0;34m,\u001b[0m\u001b[0msolver\u001b[0m\u001b[0;34m=\u001b[0m\u001b[0;34m{\u001b[0m\u001b[0;34m'qpu'\u001b[0m\u001b[0;34m:\u001b[0m \u001b[0;32mTrue\u001b[0m\u001b[0;34m}\u001b[0m\u001b[0;34m)\u001b[0m \u001b[0;31m#solver='Advantage_system1.1'\u001b[0m\u001b[0;34m\u001b[0m\u001b[0;34m\u001b[0m\u001b[0m\n\u001b[0m",
      "\u001b[0;32m~/quantum-experiments/paper_repos/quantum-svm-algorithms-for-rs-data-classification/quantum_SVM.py\u001b[0m in \u001b[0;36mdwave_run_embedding\u001b[0;34m(data, label, path_in, annealing_times, chain_strengths, em_id, solver)\u001b[0m\n\u001b[1;32m    100\u001b[0m                     \u001b[0mprint\u001b[0m\u001b[0;34m(\u001b[0m\u001b[0;34mf'running {pathsub} with {len(qubo_nodes)} nodes and {couplers} couplers for embedding {em_id}'\u001b[0m\u001b[0;34m)\u001b[0m\u001b[0;34m\u001b[0m\u001b[0;34m\u001b[0m\u001b[0m\n\u001b[1;32m    101\u001b[0m \u001b[0;34m\u001b[0m\u001b[0m\n\u001b[0;32m--> 102\u001b[0;31m                     \u001b[0mordering\u001b[0m \u001b[0;34m=\u001b[0m \u001b[0mnp\u001b[0m\u001b[0;34m.\u001b[0m\u001b[0marray\u001b[0m\u001b[0;34m(\u001b[0m\u001b[0mlist\u001b[0m\u001b[0;34m(\u001b[0m\u001b[0mBinaryQuadraticModel\u001b[0m\u001b[0;34m.\u001b[0m\u001b[0mfrom_qubo\u001b[0m\u001b[0;34m(\u001b[0m\u001b[0mQ\u001b[0m\u001b[0;34m)\u001b[0m\u001b[0;34m)\u001b[0m\u001b[0;34m)\u001b[0m\u001b[0;34m\u001b[0m\u001b[0;34m\u001b[0m\u001b[0m\n\u001b[0m\u001b[1;32m    103\u001b[0m                     \u001b[0;32mif\u001b[0m \u001b[0;32mnot\u001b[0m \u001b[0;34m(\u001b[0m\u001b[0mordering\u001b[0m \u001b[0;34m==\u001b[0m \u001b[0mnp\u001b[0m\u001b[0;34m.\u001b[0m\u001b[0marange\u001b[0m\u001b[0;34m(\u001b[0m\u001b[0mlen\u001b[0m\u001b[0;34m(\u001b[0m\u001b[0mordering\u001b[0m\u001b[0;34m)\u001b[0m\u001b[0;34m,\u001b[0m\u001b[0mdtype\u001b[0m\u001b[0;34m=\u001b[0m\u001b[0mordering\u001b[0m\u001b[0;34m.\u001b[0m\u001b[0mdtype\u001b[0m\u001b[0;34m)\u001b[0m\u001b[0;34m)\u001b[0m\u001b[0;34m.\u001b[0m\u001b[0mall\u001b[0m\u001b[0;34m(\u001b[0m\u001b[0;34m)\u001b[0m\u001b[0;34m:\u001b[0m\u001b[0;34m\u001b[0m\u001b[0;34m\u001b[0m\u001b[0m\n\u001b[1;32m    104\u001b[0m                         \u001b[0mprint\u001b[0m\u001b[0;34m(\u001b[0m\u001b[0;34mf'WARNING: variables are not correctly ordered! path={path} ordering={ordering}'\u001b[0m\u001b[0;34m)\u001b[0m\u001b[0;34m\u001b[0m\u001b[0;34m\u001b[0m\u001b[0m\n",
      "\u001b[0;31mTypeError\u001b[0m: 'BinaryQuadraticModel' object is not iterable"
     ]
    }
   ],
   "source": [
    "# generate qubos and couplers (embeddings)\n",
    "# make sure you have signed up in dwavesys.com and registered your computer 'dwave config create' with profile (login) and api key\n",
    "for B in Bs:\n",
    "    for K in Ks:\n",
    "        for gamma in gammas:\n",
    "            for xi in xis:\n",
    "                for E in Es:\n",
    "                    subpath=f\"_B={B}_K={K}_xi={xi}_E={E}_gamma={float(gamma)}\"\n",
    "                    path = outputpath+subpath+\"/\"\n",
    "                    gen_svm_qubos(X_train,Y_train,B,K,xi,gamma,E,path)\n",
    "                    dwave_run_embedding(X_train,Y_train,path,annealing_times,chain_strengths,embeddings,solver={'qpu': True}) #solver='Advantage_system1.1' "
   ]
  },
  {
   "cell_type": "markdown",
   "metadata": {},
   "source": [
    "### Evaluation"
   ]
  },
  {
   "cell_type": "code",
   "execution_count": 8,
   "metadata": {},
   "outputs": [
    {
     "data": {
      "image/png": "[encoded data removed]",
      "text/plain": [
       "<Figure size 360x360 with 1 Axes>"
      ]
     },
     "metadata": {
      "needs_background": "light"
     },
     "output_type": "display_data"
    }
   ],
   "source": [
    "cmap = colors.ListedColormap(['black', 'red'])\n",
    "plt.title('Prediction')\n",
    "plt.rcParams[\"figure.figsize\"] = (5,5)\n",
    "Y_train_bin=np.where(Y_train==-1,0,Y_train)\n",
    "\n",
    "for B in Bs:\n",
    "    for K in Ks:\n",
    "        for gamma in gammas:\n",
    "            for xi in xis:\n",
    "                for E in Es:\n",
    "                    dirs=glob.glob(outputpath+f'_B={B}_K={K}_xi={xi}_E={E}_gamma={gamma}/result_couplers=*')\n",
    "                    if not dirs:\n",
    "                        dirs=glob.glob(outputpath+f'_B={B}_K={K}_xi={xi}_E={E}_gamma={float(gamma)}/result_couplers=*')\n",
    "                    if len(dirs) == 0:\n",
    "                        break\n",
    "                    path=dirs[0]+'/'\n",
    "                    f = open(path+f'collected_data_all_embeddings_maxalphas{maxalphas}.txt',\"w\") \n",
    "                    f.write(\"#rcs \\tt_a \\t trainacc\\t trainF1score\\t testacc\\t testF1score\\t average energy(train)\\n\") \n",
    "                    for emb in embeddings:\n",
    "                        for c in chain_strengths:\n",
    "                            for t in annealing_times:\n",
    "                                alphas=np.load(path+f'embedding{emb}_rcs{c}_ta{t}_alphas.npy')\n",
    "                                if not maxalphas == 0 or maxalphas > len(alphas):\n",
    "                                    alphas = alphas[0:maxalphas]\n",
    "\n",
    "                                scores_train=predict(X_train,X_train,Y_train,alphas,path)\n",
    "                                Y_predict_train=np.sign(scores_train)\n",
    "                                Y_predict_train=np.where(Y_predict_train==-1,0,Y_predict_train)\n",
    "                                Y_predict_train=np.where(Y_predict_train==1,1,Y_predict_train)\n",
    "\n",
    "                                scores=predict(X_test,X_train,Y_train,alphas,path)\n",
    "                                Y_predict=np.sign(scores)\n",
    "                                Y_predict=np.where(Y_predict==-1,0,Y_predict)   # From -1 to 0\n",
    "                                Y_predict=np.where(Y_predict==1,1,Y_predict)    # From -1 to 1\n",
    "        \n",
    "                                trainacc = accuracy_score(Y_train_bin[:], Y_predict_train)\n",
    "                                trainF1score = f1_score(Y_train_bin[:], Y_predict_train)\n",
    "                                testacc = accuracy_score(Y_test[:], Y_predict)\n",
    "                                testF1score = f1_score(Y_test[:], Y_predict)\n",
    "                                alphas_avg = np.mean(alphas,axis=0)\n",
    "                                av_energy = compute_energy(alphas_avg,X_train,Y_train,gamma,xi)\n",
    "                \n",
    "                                f.write(f'{c:1.2f}\\t {t:4}\\t {trainacc:8.4f}\\t{trainF1score:8.4f}\\t{testacc:8.4f}\\t{testF1score:8.4f}\\t{av_energy:8.4f}')\n",
    "                                f.write(\"\\n\")\n",
    "\n",
    "                                #  Visualize the prediction only for reasonable solutions\n",
    "                                if testacc > 0.75 and testF1score > 0.7: \n",
    "                                    print(f'B = {B}, K = {K}, gamma = {gamma}, xi = {xi}, E = {E},\\n  embedding {emb}, annealing time = {t}, rel. chain strength = {c}')\n",
    "                                    #print('On train data:')\n",
    "                                    #print ('Overal accuracy',trainacc)\n",
    "                                    #print ('F1 score',trainF1score)\n",
    "                                    print('Energy',av_energy)\n",
    "                                    print('On test data')\n",
    "                                    print ('Overal accuracy',testacc)\n",
    "                                    print ('F1 score',testF1score)\n",
    "                                    classification_map=np.reshape(Y_predict,(500,500))\n",
    "                                    plt.imshow(classification_map, cmap=cmap)\n",
    "                                    plt.clim(0, 1)\n",
    "                                    plt.show()\n",
    "                \n",
    "                            f.write(\"\\n\")\n",
    "                        f.write(\"\\n\")\n",
    "                    f.close()\n",
    "        "
   ]
  },
  {
   "cell_type": "code",
   "execution_count": null,
   "metadata": {},
   "outputs": [],
   "source": []
  }
 ],
 "metadata": {
  "kernelspec": {
   "display_name": "Python 3 (ipykernel)",
   "language": "python",
   "name": "python3"
  },
  "language_info": {
   "codemirror_mode": {
    "name": "ipython",
    "version": 3
   },
   "file_extension": ".py",
   "mimetype": "text/x-python",
   "name": "python",
   "nbconvert_exporter": "python",
   "pygments_lexer": "ipython3",
   "version": "3.7.11"
  }
 },
 "nbformat": 4,
 "nbformat_minor": 4
}
