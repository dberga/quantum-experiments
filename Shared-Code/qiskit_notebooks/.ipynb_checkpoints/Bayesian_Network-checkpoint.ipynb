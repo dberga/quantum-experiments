{
 "cells": [
  {
   "cell_type": "code",
   "execution_count": null,
   "id": "52ac06d5",
   "metadata": {},
   "outputs": [],
   "source": [
    "### https://towardsdatascience.com/how-to-create-a-quantum-bayesian-network-5b011914b03e\n",
    "### We got two conditional probabilities:\n",
    "\n",
    "### The student solves the problem in 90% if reads the book.\n",
    "### She solves the problem in 50% if she didn’t.\n",
    "### And, we got one marginal probability:\n",
    "\n",
    "### 60% of the students read the book"
   ]
  },
  {
   "cell_type": "code",
   "execution_count": 5,
   "id": "f19ba035",
   "metadata": {},
   "outputs": [],
   "source": [
    "from qiskit import QuantumCircuit, Aer, execute\n",
    "from qiskit.visualization import plot_histogram\n",
    "\n",
    "from math import asin, sqrt\n",
    "\n",
    "def prob_to_angle(prob):\n",
    "    return 2*asin(sqrt(prob))\n",
    "\n",
    "qc = QuantumCircuit(2)"
   ]
  },
  {
   "cell_type": "code",
   "execution_count": 6,
   "id": "d285813f",
   "metadata": {},
   "outputs": [
    {
     "data": {
      "text/html": [
       "<pre style=\"word-wrap: normal;white-space: pre;background: #fff0;line-height: 1.1;font-family: &quot;Courier New&quot;,Courier,monospace\">     ┌────────────┐\n",
       "q_0: ┤ Ry(1.7722) ├\n",
       "     └────────────┘\n",
       "q_1: ──────────────\n",
       "                   </pre>"
      ],
      "text/plain": [
       "     ┌────────────┐\n",
       "q_0: ┤ Ry(1.7722) ├\n",
       "     └────────────┘\n",
       "q_1: ──────────────\n",
       "                   "
      ]
     },
     "execution_count": 6,
     "metadata": {},
     "output_type": "execute_result"
    }
   ],
   "source": [
    "#first qubit (at position 0) represent the marginal probability of 60% of the students have read the book\n",
    "qc.ry(prob_to_angle(0.6),0)\n",
    "qc.draw()"
   ]
  },
  {
   "cell_type": "code",
   "execution_count": 7,
   "id": "61777047",
   "metadata": {},
   "outputs": [
    {
     "data": {
      "text/html": [
       "<pre style=\"word-wrap: normal;white-space: pre;background: #fff0;line-height: 1.1;font-family: &quot;Courier New&quot;,Courier,monospace\">     ┌────────────┐              \n",
       "q_0: ┤ Ry(1.7722) ├──────■───────\n",
       "     └────────────┘┌─────┴──────┐\n",
       "q_1: ──────────────┤ Ry(2.4981) ├\n",
       "                   └────────────┘</pre>"
      ],
      "text/plain": [
       "     ┌────────────┐              \n",
       "q_0: ┤ Ry(1.7722) ├──────■───────\n",
       "     └────────────┘┌─────┴──────┐\n",
       "q_1: ──────────────┤ Ry(2.4981) ├\n",
       "                   └────────────┘"
      ]
     },
     "execution_count": 7,
     "metadata": {},
     "output_type": "execute_result"
    }
   ],
   "source": [
    "#second qubit (at position 1) probability to answer (90%) if the student has read the book\n",
    "qc.cry(prob_to_angle(0.9),0,1)\n",
    "qc.draw()"
   ]
  },
  {
   "cell_type": "code",
   "execution_count": 8,
   "id": "5337e47b",
   "metadata": {},
   "outputs": [
    {
     "data": {
      "text/html": [
       "<pre style=\"word-wrap: normal;white-space: pre;background: #fff0;line-height: 1.1;font-family: &quot;Courier New&quot;,Courier,monospace\">     ┌────────────┐              ┌───┐           ┌───┐\n",
       "q_0: ┤ Ry(1.7722) ├──────■───────┤ X ├─────■─────┤ X ├\n",
       "     └────────────┘┌─────┴──────┐└───┘┌────┴────┐└───┘\n",
       "q_1: ──────────────┤ Ry(2.4981) ├─────┤ Ry(π/2) ├─────\n",
       "                   └────────────┘     └─────────┘     </pre>"
      ],
      "text/plain": [
       "     ┌────────────┐              ┌───┐           ┌───┐\n",
       "q_0: ┤ Ry(1.7722) ├──────■───────┤ X ├─────■─────┤ X ├\n",
       "     └────────────┘┌─────┴──────┐└───┘┌────┴────┐└───┘\n",
       "q_1: ──────────────┤ Ry(2.4981) ├─────┤ Ry(π/2) ├─────\n",
       "                   └────────────┘     └─────────┘     "
      ]
     },
     "execution_count": 8,
     "metadata": {},
     "output_type": "execute_result"
    }
   ],
   "source": [
    "#To apply the conditional probability if the student did not read the book, \n",
    "#we first have to flip the amplitudes of the first qubit by applying the X-gate on it. \n",
    "#The subsequent X-gate reverts this effect.\n",
    "qc.x(0)\n",
    "qc.cry(prob_to_angle(0.5),0,1)\n",
    "qc.x(0)\n",
    "qc.draw()"
   ]
  },
  {
   "cell_type": "code",
   "execution_count": 15,
   "id": "404a4473",
   "metadata": {},
   "outputs": [
    {
     "data": {
      "image/png": "[encoded data removed]",
      "text/plain": [
       "<Figure size 504x360 with 1 Axes>"
      ]
     },
     "execution_count": 15,
     "metadata": {},
     "output_type": "execute_result"
    }
   ],
   "source": [
    "#probability for any student to answer q_0->last position, q_n->first position\n",
    "#q1q0=?\n",
    "#01=read the book + not solved it=0.6*0.1\n",
    "#10=not read the book + solved it=0.4*0.5\n",
    "#00=not read the book + not solved it=0.4*0.5\n",
    "#11=read the book + solved it=0.6*0.9\n",
    "results = execute(qc,Aer.get_backend('statevector_simulator')).result().get_counts()\n",
    "plot_histogram(results)"
   ]
  },
  {
   "cell_type": "code",
   "execution_count": 13,
   "id": "7e2d51f1",
   "metadata": {},
   "outputs": [
    {
     "data": {
      "text/plain": [
       "0.06"
      ]
     },
     "execution_count": 13,
     "metadata": {},
     "output_type": "execute_result"
    }
   ],
   "source": [
    "0.6*0.1"
   ]
  },
  {
   "cell_type": "code",
   "execution_count": null,
   "id": "328b0d4b",
   "metadata": {},
   "outputs": [],
   "source": []
  }
 ],
 "metadata": {
  "kernelspec": {
   "display_name": "qiskit",
   "language": "python",
   "name": "qiskit"
  },
  "language_info": {
   "codemirror_mode": {
    "name": "ipython",
    "version": 3
   },
   "file_extension": ".py",
   "mimetype": "text/x-python",
   "name": "python",
   "nbconvert_exporter": "python",
   "pygments_lexer": "ipython3",
   "version": "3.9.7"
  }
 },
 "nbformat": 4,
 "nbformat_minor": 5
}
