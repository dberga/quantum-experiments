{
 "cells": [
  {
   "cell_type": "markdown",
   "metadata": {},
   "source": [
    "Creamos el dataset"
   ]
  },
  {
   "cell_type": "code",
   "execution_count": 1,
   "metadata": {},
   "outputs": [
    {
     "name": "stdout",
     "output_type": "stream",
     "text": [
      "120\n"
     ]
    },
    {
     "data": {
      "image/png": "[encoded data removed]",
      "text/plain": [
       "<Figure size 432x288 with 1 Axes>"
      ]
     },
     "metadata": {
      "needs_background": "light"
     },
     "output_type": "display_data"
    }
   ],
   "source": [
    "import numpy as np\n",
    "import matplotlib.pyplot as plt\n",
    "\n",
    "n_samples = 30 * 4\n",
    "\n",
    "A = np.array([[np.random.normal(loc=0), np.random.normal(loc=2)] for i in range(n_samples//4)]) \n",
    "B = np.array([[np.random.normal(loc=2), np.random.normal(loc=-2)] for i in range(n_samples//4)]) \n",
    "C = np.array([[np.random.normal(loc=2), np.random.normal(loc=2)] for i in range(n_samples//4)]) \n",
    "D = np.array([[np.random.normal(loc=-2), np.random.normal(loc=-2)] for i in range(n_samples//4)])\n",
    "\n",
    "feature = np.concatenate([A, B,C,D], axis=0)/4\n",
    "label = np.concatenate([-np.ones(n_samples // 2), np.ones(n_samples//2)], axis=0)\n",
    "data = list(zip(feature, label))\n",
    "\n",
    "np.random.shuffle(data)\n",
    "print(len(data))\n",
    "plt.scatter(A[:,0], A[:,1], color = \"orange\")\n",
    "plt.scatter(B[:,0], B[:,1], color = \"orange\")\n",
    "plt.scatter(C[:,0], C[:,1], color = \"blue\")\n",
    "plt.scatter(D[:,0], D[:,1], color = \"blue\")\n",
    "plt.show()"
   ]
  },
  {
   "cell_type": "code",
   "execution_count": 2,
   "metadata": {},
   "outputs": [],
   "source": [
    "import numpy as np\n",
    "\n",
    "porcentaje_train = 0.5\n",
    "m = int(porcentaje_train * n_samples)\n",
    "\n",
    "\n",
    "x_train = np.array([data[i][0] for i in range(m)])\n",
    "y_train = np.array([data[i][1] for i in range(m)])\n",
    "\n",
    "x_test = np.array([data[i][0] for i in range(m,n_samples)])\n",
    "y_test = np.array([data[i][1] for i in range(m,n_samples)])\n"
   ]
  },
  {
   "cell_type": "markdown",
   "metadata": {},
   "source": [
    "Procedimiento matemático que sigue el SVM:\n",
    "\n",
    "- Buscar los $\\vec{\\alpha}$ que minimicen la función L:\n",
    "\n",
    "$L = -\\sum_{i=0}^{m}\\alpha_{i} + \\frac{1}{2} \\sum_{i=0}^{m} \\sum_{j=0}^{m} \\alpha_{i} \\alpha_{j} f(\\vec{x_{i}}) f(\\vec{x_{j}}) \\vec{x_{i}} \\cdot \\vec{x_{j}}$\n",
    "\n",
    "donde $\\vec{x_i}$ hace referencia a las características del i-ésimo punto y $f(\\vec{x_i})$ a su etiqueta correspondiente.\n",
    "\n",
    "- A partir de $\\vec{\\alpha}$ se puede conseguir el hiperplano de clasificación."
   ]
  },
  {
   "cell_type": "markdown",
   "metadata": {},
   "source": [
    "¿Cómo introducir aquí funciones Kernel?\n",
    "\n",
    "Tan solo hay que cambiar la función a minimizar:\n",
    "\n",
    "$L = -\\sum_{i=0}^{m}\\alpha_{i} + \\frac{1}{2} \\sum_{i=0}^{m} \\sum_{j=0}^{m} \\alpha_{i} \\alpha_{j} f(\\vec{x_{i}}) f(\\vec{x_{j}}) \\phi(\\vec{x_{i}}) \\cdot \\phi(\\vec{x_{j}})$\n",
    "\n",
    "Por tanto, lo que haremos será calcular todos lo productos internos a traves del nuestra función de mapeo, es decir, la matriz de Gramm."
   ]
  },
  {
   "cell_type": "code",
   "execution_count": 3,
   "metadata": {},
   "outputs": [
    {
     "name": "stdout",
     "output_type": "stream",
     "text": [
      "Calculando matriz de Gram\n",
      "0 %\n",
      "1 %\n",
      "3 %\n",
      "5 %\n",
      "6 %\n",
      "8 %\n",
      "10 %\n",
      "11 %\n",
      "13 %\n",
      "15 %\n",
      "16 %\n",
      "18 %\n",
      "20 %\n",
      "21 %\n",
      "23 %\n",
      "25 %\n",
      "26 %\n",
      "28 %\n",
      "30 %\n",
      "31 %\n",
      "33 %\n",
      "35 %\n",
      "36 %\n",
      "38 %\n",
      "40 %\n",
      "41 %\n",
      "43 %\n",
      "45 %\n",
      "46 %\n",
      "48 %\n",
      "50 %\n",
      "51 %\n",
      "53 %\n",
      "55 %\n",
      "56 %\n",
      "58 %\n",
      "60 %\n",
      "61 %\n",
      "63 %\n",
      "65 %\n",
      "66 %\n",
      "68 %\n",
      "70 %\n",
      "71 %\n",
      "73 %\n",
      "75 %\n",
      "76 %\n",
      "78 %\n",
      "80 %\n",
      "81 %\n",
      "83 %\n",
      "85 %\n",
      "86 %\n",
      "88 %\n",
      "90 %\n",
      "91 %\n",
      "93 %\n",
      "95 %\n",
      "96 %\n",
      "98 %\n",
      "Entrenando...\n",
      "Comprobando con test...\n",
      "Calculando matriz de Gram\n",
      "0 %\n",
      "1 %\n",
      "3 %\n",
      "5 %\n",
      "6 %\n",
      "8 %\n",
      "10 %\n",
      "11 %\n",
      "13 %\n",
      "15 %\n",
      "16 %\n",
      "18 %\n",
      "20 %\n",
      "21 %\n",
      "23 %\n",
      "25 %\n",
      "26 %\n",
      "28 %\n",
      "30 %\n",
      "31 %\n",
      "33 %\n",
      "35 %\n",
      "36 %\n",
      "38 %\n",
      "40 %\n",
      "41 %\n",
      "43 %\n",
      "45 %\n",
      "46 %\n",
      "48 %\n",
      "50 %\n",
      "51 %\n",
      "53 %\n",
      "55 %\n",
      "56 %\n",
      "58 %\n",
      "60 %\n",
      "61 %\n",
      "63 %\n",
      "65 %\n",
      "66 %\n",
      "68 %\n",
      "70 %\n",
      "71 %\n",
      "73 %\n",
      "75 %\n",
      "76 %\n",
      "78 %\n",
      "80 %\n",
      "81 %\n",
      "83 %\n",
      "85 %\n",
      "86 %\n",
      "88 %\n",
      "90 %\n",
      "91 %\n",
      "93 %\n",
      "95 %\n",
      "96 %\n",
      "98 %\n",
      "Precisión del test:  85.0 %\n"
     ]
    }
   ],
   "source": [
    "import pennylane as qml\n",
    "from pennylane import numpy as np\n",
    "import matplotlib.pyplot as plt\n",
    "from time import time\n",
    "from sklearn import svm\n",
    "import scipy\n",
    "\n",
    "n = len(x_train[0])\n",
    "\n",
    "@qml.template\n",
    "def feature_map(x):\n",
    "    \n",
    "    # ZZMap modificado\n",
    "\n",
    "    for i in range(2):\n",
    "        qml.Hadamard(wires = i)\n",
    "\n",
    "\n",
    "    qml.RZ(2*x[0], wires = 0)\n",
    "    qml.RZ(2*x[1], wires = 1)\n",
    "    qml.CNOT(wires = [0,1])\n",
    "    qml.RZ(2*(np.pi - x[0])*(np.pi - x[1]), wires = 1)\n",
    "    qml.CNOT(wires = [0,1])\n",
    "    \n",
    "    \n",
    "dev = qml.device(\"default.qubit\", wires = n)      \n",
    "@qml.qnode(dev)\n",
    "def circuit(x,y):\n",
    "    feature_map(y)\n",
    "    qml.adjoint(feature_map)(x)\n",
    "    return qml.probs(wires = range(n))\n",
    "\n",
    "# devuelve el valor final del producto interno\n",
    "def scalar_product(x,y):\n",
    "    probs = circuit(x,y)\n",
    "    return probs[0]\n",
    "\n",
    "\n",
    "\n",
    "def KernelGramMatrixFull(X1, X2):\n",
    "    print(\"Calculando matriz de Gram\")\n",
    "\n",
    "\n",
    "    gram_matrix = np.zeros((X1.shape[0], X2.shape[0]))\n",
    "    for i, x1 in enumerate(X1):\n",
    "        print(int(i / len(X1) *100), \"%\")\n",
    "        for j, x2 in enumerate(X2):\n",
    "            \n",
    "            x1 = x1.flatten()\n",
    "            x2 = x2.flatten()\n",
    "            \n",
    "            gram_matrix[i, j] = scalar_product(x1,x2)\n",
    "            \n",
    "    return gram_matrix\n",
    "\n",
    "\n",
    "from sklearn import svm\n",
    "\n",
    "clf = svm.SVC(kernel=\"precomputed\")\n",
    "\n",
    "matrix = KernelGramMatrixFull(x_train,x_train)\n",
    "\n",
    "print(\"Entrenando...\")\n",
    "clf.fit(matrix, y_train)\n",
    "\n",
    "#test\n",
    "print(\"Comprobando con test...\")\n",
    "\n",
    "sol = clf.predict(KernelGramMatrixFull(x_test,x_train))\n",
    "\n",
    "success = 0\n",
    "for i in range(len(y_test)):\n",
    "    if sol[i] == y_test[i]:\n",
    "        success += 1\n",
    "        \n",
    "print(\"Precisión del test: \", success/len(sol)*100, \"%\")\n"
   ]
  },
  {
   "cell_type": "code",
   "execution_count": 4,
   "metadata": {},
   "outputs": [
    {
     "name": "stdout",
     "output_type": "stream",
     "text": [
      "predicción:\n"
     ]
    },
    {
     "data": {
      "image/png": "[encoded data removed]",
      "text/plain": [
       "<Figure size 432x288 with 1 Axes>"
      ]
     },
     "metadata": {
      "needs_background": "light"
     },
     "output_type": "display_data"
    },
    {
     "name": "stdout",
     "output_type": "stream",
     "text": [
      "real:\n"
     ]
    },
    {
     "data": {
      "image/png": "[encoded data removed]",
      "text/plain": [
       "<Figure size 432x288 with 1 Axes>"
      ]
     },
     "metadata": {
      "needs_background": "light"
     },
     "output_type": "display_data"
    }
   ],
   "source": [
    "print(\"predicción:\")\n",
    "\n",
    "for i in range(len(x_test)):\n",
    "    color = \"blue\"\n",
    "    if sol[i] == -1:\n",
    "        color = \"orange\"\n",
    "    \n",
    "    plt.scatter(x_test[i,0], x_test[i,1], color = color)\n",
    "    \n",
    "plt.show()\n",
    "\n",
    "print(\"real:\")\n",
    "for i in range(len(x_test)):\n",
    "    color = \"blue\"\n",
    "    if y_test[i] == -1:\n",
    "        color = \"orange\"\n",
    "    \n",
    "    plt.scatter(x_test[i,0], x_test[i,1], color = color)\n",
    "    \n",
    "plt.show()"
   ]
  },
  {
   "cell_type": "code",
   "execution_count": null,
   "metadata": {},
   "outputs": [],
   "source": []
  },
  {
   "cell_type": "code",
   "execution_count": null,
   "metadata": {},
   "outputs": [],
   "source": []
  }
 ],
 "metadata": {
  "kernelspec": {
   "display_name": "Python 3",
   "language": "python",
   "name": "python3"
  },
  "language_info": {
   "codemirror_mode": {
    "name": "ipython",
    "version": 3
   },
   "file_extension": ".py",
   "mimetype": "text/x-python",
   "name": "python",
   "nbconvert_exporter": "python",
   "pygments_lexer": "ipython3",
   "version": "3.8.8"
  }
 },
 "nbformat": 4,
 "nbformat_minor": 4
}
