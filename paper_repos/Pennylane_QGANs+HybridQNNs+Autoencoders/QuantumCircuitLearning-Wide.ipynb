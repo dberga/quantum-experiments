{
 "cells": [
  {
   "cell_type": "markdown",
   "metadata": {},
   "source": [
    "# Wide Quantum Circuit Learning"
   ]
  },
  {
   "cell_type": "code",
   "execution_count": 1,
   "metadata": {
    "scrolled": true
   },
   "outputs": [],
   "source": [
    "import pennylane as qml\n",
    "from pennylane import numpy as np\n",
    "import pennylane.optimize"
   ]
  },
  {
   "cell_type": "code",
   "execution_count": 2,
   "metadata": {
    "scrolled": true
   },
   "outputs": [],
   "source": [
    "import os\n",
    "import time\n",
    "import random\n",
    "import pickle\n",
    "import matplotlib.pyplot as plt\n",
    "import torch\n",
    "import torch.nn as nn\n",
    "import torch.optim as optim\n",
    "from torch.autograd import Variable\n",
    "from torchsummary import summary"
   ]
  },
  {
   "cell_type": "code",
   "execution_count": 3,
   "metadata": {},
   "outputs": [],
   "source": [
    "from tqdm import tqdm\n",
    "from MNISTData import MNISTData\n",
    "from AutoEncoder import AutoEncoder"
   ]
  },
  {
   "cell_type": "code",
   "execution_count": 4,
   "metadata": {},
   "outputs": [],
   "source": [
    "ENCODING_SIZE = 10\n",
    "NUM_QUBITS =4\n",
    "NUM_CLASSES= 10\n",
    "# NUM_LAYERS specifies how many times the circuit is run over the qubit wires.\n",
    "# Should increase runtime by a factor of NUM_LAYERS.\n",
    "NUM_LAYERS = 10"
   ]
  },
  {
   "cell_type": "code",
   "execution_count": 19,
   "metadata": {
    "scrolled": true
   },
   "outputs": [],
   "source": [
    "dev = qml.device(\"forest.qvm\", device=\"{}q-pyqvm\".format(NUM_QUBITS), shots=1000)\n",
    "device = torch.device('cpu') # CUDA broke for some reason"
   ]
  },
  {
   "cell_type": "code",
   "execution_count": 6,
   "metadata": {},
   "outputs": [],
   "source": [
    "from pennylane.ops import RX, RY, CNOT\n",
    "\n",
    "# x will be a length ENCODING_SIZE vector that represents\n",
    "# the encoding of a MNIST image\n",
    "# thetas is of size 2 * NUM_QUBITS\n",
    "@qml.qnode(dev)\n",
    "def circuit(x, thetas):\n",
    "    for i in range(ENCODING_SIZE):\n",
    "        RX(x[i], wires=i)\n",
    "    for j in range(NUM_LAYERS):\n",
    "        for i in range(NUM_QUBITS - 1):\n",
    "            CNOT(wires=[i, i+1])\n",
    "        for i in range(NUM_QUBITS):\n",
    "            RX(thetas[j][i], wires=i)\n",
    "        for i in range(NUM_QUBITS, 2 * NUM_QUBITS):\n",
    "            RY(thetas[j][i], wires=(i - NUM_QUBITS))\n",
    "    return tuple(qml.expval.PauliZ(wires=i) for i in range(NUM_QUBITS))\n",
    "\n",
    "\n",
    "#params: x - input x\n",
    "#        mask - mapping from range(ENCODING SIZE) to range(4)\n",
    "#        thetas - learned parameters\n",
    "#NOTE: Written for NUM_QUBITS = 4\n",
    "@qml.qnode(dev)\n",
    "def circuit_tighten(x, mask, thetas):\n",
    "    for i in range(ENCODING_SIZE):\n",
    "            if i // NUM_QUBITS % 2 == 0: \n",
    "                RX(x[i], wires=i//NUM_QUBITS)\n",
    "            else:\n",
    "                RY(x[i], wires=i//NUM_QUBITS)\n",
    "    for j in range(NUM_LAYERS):\n",
    "        CNOT(wires=[0, 1])\n",
    "        CNOT(wires=[1, 3])\n",
    "        CNOT(wires=[0, 2])\n",
    "        for i in range(NUM_QUBITS):\n",
    "            RX(thetas[j][i], wires=i)\n",
    "        for i in range(NUM_QUBITS, 2 * NUM_QUBITS):\n",
    "            RY(thetas[j][i], wires=(i - NUM_QUBITS))\n",
    "    return [qml.expval.PauliZ(wires=i) for i in range(NUM_QUBITS)]\n",
    "\n",
    "def get_mask():\n",
    "    sub_masks = []\n",
    "    for i in range(ENCODING_SIZE//NUM_QUBITS + 1):\n",
    "        sub_masks.append(np.random.permutation(NUM_QUBITS))\n",
    "    res = np.concatenate(sub_masks).flatten()\n",
    "    return res.tolist()"
   ]
  },
  {
   "cell_type": "code",
   "execution_count": 7,
   "metadata": {},
   "outputs": [
    {
     "name": "stdout",
     "output_type": "stream",
     "text": [
      "-0.514\n"
     ]
    }
   ],
   "source": [
    "# example input\n",
    "MASK = get_mask()\n",
    "print(np.mean(circuit_tighten([np.pi/5]*(ENCODING_SIZE), MASK, [[np.pi]*(2 * NUM_QUBITS)]*NUM_LAYERS)))"
   ]
  },
  {
   "cell_type": "code",
   "execution_count": 8,
   "metadata": {},
   "outputs": [],
   "source": [
    "# NOTE: EDITED COST FUNCTION to use bias, and to prevent bias from gaming\n",
    "#       the cost function.\n",
    "def cost(X, actual_labels, thetas, bias):\n",
    "    b = X.shape[0]\n",
    "    yhats = []\n",
    "    for i in range(b):\n",
    "        scores = []\n",
    "        for j in range(NUM_CLASSES):\n",
    "            scores.append(np.mean(circuit_tighten(X[i], MASK, thetas[j]) + bias[j]))\n",
    "        yhats.append(scores)\n",
    "    st = np.stack(yhats)\n",
    "    actual_class_vals = st[range(b), actual_labels]\n",
    "    shifted = st - np.max(st, axis=1)[:, np.newaxis]\n",
    "    the_sum = np.log(np.sum(np.exp(shifted), axis=1)) \n",
    "    # Return loss + regularization term on bias\n",
    "    return np.mean(-actual_class_vals + the_sum + np.max(st, axis=1))"
   ]
  },
  {
   "cell_type": "markdown",
   "metadata": {},
   "source": [
    "At this point, we have to get our (encoded) images so that we may actually start training"
   ]
  },
  {
   "cell_type": "code",
   "execution_count": 9,
   "metadata": {},
   "outputs": [],
   "source": [
    "data = MNISTData(batch_size=16)\n",
    "train_loader = data.get_train_loader()\n",
    "test_loader = data.get_test_loader()"
   ]
  },
  {
   "cell_type": "code",
   "execution_count": 10,
   "metadata": {},
   "outputs": [],
   "source": [
    "load_from_stem = \"./autoencoder_models/1558731906/\"\n",
    "load_model_from = os.path.join(load_from_stem, \"ae.pt\")\n",
    "load_layers_from = os.path.join(load_from_stem, \"layer_sizes.pkl\")"
   ]
  },
  {
   "cell_type": "code",
   "execution_count": 24,
   "metadata": {},
   "outputs": [],
   "source": [
    "with open(load_layers_from, 'rb') as f:\n",
    "    layer_sizes = pickle.load(f)\n",
    "layer_sizes = layer_sizes[1:]\n",
    "ae = AutoEncoder(layer_sizes)\n",
    "ae.load_state_dict(torch.load(load_model_from))\n",
    "encoder = ae.encoder\n",
    "#encoder.to(torch.device('cpu'))\n",
    "for child in encoder.children():\n",
    "    for param in child.parameters():\n",
    "        param.to(device)\n",
    "        param.requires_grad = False"
   ]
  },
  {
   "cell_type": "code",
   "execution_count": 26,
   "metadata": {},
   "outputs": [],
   "source": [
    "#summary(encoder, input_size=(28 * 28,))"
   ]
  },
  {
   "cell_type": "code",
   "execution_count": 27,
   "metadata": {
    "scrolled": true
   },
   "outputs": [
    {
     "name": "stdout",
     "output_type": "stream",
     "text": [
      "[[[-6.93272692e-02  1.45557304e-01  1.96258536e-02  4.92572044e-02\n",
      "    2.86002524e-02  2.67874539e-03 -1.36497609e-01 -1.29693774e-01]\n",
      "  [ 5.28170545e-03  1.73152368e-02  1.20033652e-01 -4.09673340e-02\n",
      "    7.36273027e-02  1.81620921e-01  1.00297862e-01  1.15013003e-01]\n",
      "  [-1.25851371e-01 -3.65946593e-02 -6.20383430e-02 -4.86575796e-02\n",
      "    1.56828454e-01  6.22889331e-03 -1.07883428e-01  1.29360868e-01]\n",
      "  [ 1.82661661e-01 -5.53966526e-02 -1.06042793e-01 -2.86474858e-02\n",
      "   -9.27377093e-02  8.08325151e-02 -6.56148730e-02 -5.74184845e-02]\n",
      "  [-9.03848553e-02  2.33398880e-03 -3.35526073e-02 -6.07871751e-02\n",
      "   -4.25976067e-02 -4.99933989e-02  5.14387773e-02 -1.98567480e-02]\n",
      "  [ 6.89820331e-03 -8.32829595e-02 -7.02132117e-02 -5.34753070e-02\n",
      "    3.48335981e-02 -1.44093779e-01  8.70005052e-02 -1.42693613e-01]\n",
      "  [-7.17621416e-02 -9.29931086e-02  2.24445971e-01  6.66973905e-02\n",
      "    3.65534077e-02 -8.31356583e-02  7.98029006e-02  2.92216589e-02]\n",
      "  [ 4.64260847e-02 -1.86904130e-01  8.45702613e-02  1.12974692e-01\n",
      "    2.33350065e-02 -7.83039220e-02  2.94418811e-02 -3.10968873e-02]\n",
      "  [-6.85065959e-03 -1.01281096e-01 -2.92013687e-02 -2.43256932e-01\n",
      "    5.30421535e-02 -9.01579989e-02 -4.60247910e-02  1.72805264e-01]\n",
      "  [ 1.09077278e-01 -4.37435069e-02 -1.30715589e-01 -9.49723789e-02\n",
      "   -3.42993878e-02 -5.94246574e-02 -1.35329035e-01  1.26332032e-01]]\n",
      "\n",
      " [[ 3.69803579e-02  1.89115731e-01 -6.74250041e-02  5.32523211e-02\n",
      "    1.55011181e-01  1.38175921e-02 -4.19030896e-02  7.24588334e-02]\n",
      "  [-1.78240580e-02 -1.39934178e-02  1.00844140e-02 -9.30915616e-03\n",
      "   -1.07658861e-01  7.70650767e-02  7.56578827e-02 -9.76865443e-02]\n",
      "  [ 9.24216695e-02  6.83339693e-02  1.31305804e-01  6.46676888e-02\n",
      "    5.08587263e-03  1.62863002e-01 -1.71643096e-01  1.52777315e-01]\n",
      "  [ 1.23191733e-01 -1.76186660e-02 -5.46041070e-02 -1.94316524e-01\n",
      "    2.74470978e-02  1.07333567e-01  2.79286677e-02 -2.79015897e-02]\n",
      "  [ 8.99397195e-02 -2.67270191e-03 -4.72579159e-02  2.78130612e-03\n",
      "   -7.19164679e-02 -9.56373319e-02  8.09681200e-02 -4.45375612e-02]\n",
      "  [ 9.60512409e-02 -8.88982643e-02  1.06389417e-01 -2.61462816e-02\n",
      "    7.87256825e-02 -6.11470533e-02 -4.39778010e-02  2.36065742e-03]\n",
      "  [-1.21970143e-01  9.52790173e-02  1.76873858e-02 -1.20139356e-01\n",
      "   -3.95487593e-02  6.46568377e-02 -1.92662414e-02 -2.46087494e-02]\n",
      "  [-3.35028854e-03  1.67097511e-01  1.03579559e-01  7.93690878e-03\n",
      "    8.46703377e-02 -1.51004025e-01  2.01739148e-02 -7.09369717e-02]\n",
      "  [ 9.06989770e-02 -3.92305451e-02  2.76025089e-02 -1.23869517e-02\n",
      "    1.22906711e-01 -6.58682308e-02  1.94466973e-02  2.74934176e-01]\n",
      "  [-3.06937821e-03  9.68249289e-02 -2.58033376e-02  5.73192575e-03\n",
      "   -9.93089688e-02  1.18609317e-01  1.14174777e-01 -1.02924833e-03]]\n",
      "\n",
      " [[-4.25517474e-02 -1.43527982e-01 -5.83545306e-02 -1.13622890e-01\n",
      "    6.80252424e-02 -1.37096499e-01 -6.14246400e-02 -1.96303036e-01]\n",
      "  [ 3.32640849e-02 -3.72196764e-04 -7.14297173e-03  7.37360167e-02\n",
      "    1.73793065e-01  9.36791866e-02  1.20848210e-01 -1.04749063e-01]\n",
      "  [-1.23471608e-01 -1.46708307e-01  2.94645937e-02 -2.07052856e-01\n",
      "    6.87401295e-02 -1.40030414e-01 -6.51075704e-02 -5.41008792e-02]\n",
      "  [ 1.21942588e-01 -1.55991737e-01 -1.32547439e-01  8.41814337e-02\n",
      "   -1.50152231e-01  9.86361482e-02  2.19433769e-01 -1.26296723e-01]\n",
      "  [ 3.40376216e-02 -3.17881673e-02 -3.05489992e-02  4.06181761e-02\n",
      "   -4.03130895e-02  6.82195920e-02  1.76492607e-01  1.55591512e-01]\n",
      "  [ 1.49234563e-01  8.28400349e-02  1.68381196e-01  2.13009831e-02\n",
      "    1.34799021e-01 -4.58690464e-02 -2.02492169e-01  1.86199826e-02]\n",
      "  [ 1.58234269e-01  6.41701092e-02 -7.28258473e-02 -6.44448946e-02\n",
      "   -3.27998839e-02  1.04744990e-01  1.26301427e-01  1.95820106e-02]\n",
      "  [-2.92675624e-02  1.12740242e-02 -1.10419539e-01 -9.35506207e-02\n",
      "   -2.18114436e-01  4.76362010e-02  3.42348200e-02  4.11632128e-03]\n",
      "  [-9.24534723e-03 -2.53038236e-02  6.25321897e-02  2.03113470e-02\n",
      "   -5.58057235e-02  1.32940018e-01  1.08404660e-01  1.03141974e-01]\n",
      "  [ 4.01067199e-02  1.23040318e-01 -1.15869327e-01  1.07477491e-01\n",
      "    6.11263148e-02 -6.79024447e-02 -9.88166224e-02 -7.50579850e-02]]\n",
      "\n",
      " [[-7.66934170e-02  7.77525226e-02 -2.85090474e-02 -8.84677410e-02\n",
      "   -1.40275985e-02 -1.46271727e-01 -4.23966860e-02 -2.86209916e-02]\n",
      "  [-8.92657457e-02  3.02224384e-02 -3.63579163e-02  8.72053464e-02\n",
      "   -5.88562022e-02  9.84928373e-02  4.26954240e-02  2.07459245e-01]\n",
      "  [-1.34991736e-02  2.86782329e-02 -1.70499588e-01 -7.92211159e-03\n",
      "   -2.01106592e-02  6.28844062e-02 -4.78633655e-02 -6.97976371e-02]\n",
      "  [ 1.12562444e-01 -4.35113944e-02  1.22489352e-01  1.57995337e-01\n",
      "    1.87668909e-02 -4.60200037e-02  8.57202367e-02  1.44282361e-01]\n",
      "  [ 4.42048666e-02 -1.00884636e-01 -3.91625356e-03 -8.07143098e-02\n",
      "    6.66042667e-02  2.98704835e-02 -1.08581676e-01  5.43618898e-02]\n",
      "  [ 3.72295402e-02 -3.90239741e-03 -3.44499497e-02 -1.37588637e-02\n",
      "    1.19749742e-01  5.84104973e-02 -1.90023632e-03  5.48821629e-02]\n",
      "  [ 6.52070645e-02  1.00850586e-01 -7.55108009e-02 -1.04536415e-01\n",
      "    1.10777184e-01  8.39432715e-02  6.78128158e-03 -6.06353850e-02]\n",
      "  [ 4.13670553e-02 -2.83092016e-02 -2.85931037e-02 -4.64118636e-02\n",
      "    1.15197129e-01  1.10664469e-02  9.99243152e-02  4.35865935e-02]\n",
      "  [ 8.85035848e-02 -6.74347513e-02 -8.61026207e-02  7.08824336e-02\n",
      "    1.46352859e-01  1.18835035e-02  1.64112473e-01  2.12373163e-02]\n",
      "  [-1.24022701e-01 -1.99997987e-02  6.10332969e-02  3.92768830e-02\n",
      "   -3.12464121e-02  5.18208205e-02 -5.47781253e-03 -7.13989597e-02]]\n",
      "\n",
      " [[ 4.03682870e-02 -4.56440986e-02 -3.18559076e-01  1.67801650e-01\n",
      "    4.33960315e-02  2.03859749e-01 -5.36814112e-03 -9.97105758e-02]\n",
      "  [ 3.92398580e-03  4.03006909e-02 -1.03069232e-02  1.71001619e-01\n",
      "    2.73373141e-02 -3.05651232e-02  8.16303520e-02  6.12926101e-02]\n",
      "  [-5.40359072e-03 -8.96470179e-02  5.36817958e-02  9.92194711e-02\n",
      "    3.05154291e-02  6.99301670e-02 -1.90428417e-01  1.68016835e-01]\n",
      "  [-9.95173090e-02 -7.29032868e-02  1.28700087e-01  4.05992249e-02\n",
      "    9.38318257e-02 -5.33179469e-02  7.89671811e-03  1.81807976e-01]\n",
      "  [-4.91876200e-02  9.97668280e-04 -2.15606445e-02  1.55121946e-01\n",
      "   -7.79418440e-02 -5.80625402e-02 -1.35372204e-01  3.20757174e-02]\n",
      "  [ 4.05501757e-02 -1.18158992e-01 -1.91415782e-02  2.02455976e-02\n",
      "    3.09015252e-02  1.06496942e-01 -6.36868200e-02  1.94326224e-01]\n",
      "  [-8.69136096e-02 -5.44602377e-02 -2.33815141e-02  4.35112092e-02\n",
      "   -2.60485204e-02 -1.71049201e-02  9.10213237e-02  2.66759869e-01]\n",
      "  [ 1.30363185e-01  1.32436925e-01 -7.71666090e-02 -1.23022018e-01\n",
      "    2.93455585e-02  4.25850743e-02 -7.28260109e-02 -1.93012028e-01]\n",
      "  [ 1.68251623e-02  4.71220605e-02  1.85034958e-02  1.26393157e-01\n",
      "    7.14141586e-02  5.74221043e-02 -1.70449131e-02 -9.13866479e-02]\n",
      "  [ 2.11600577e-03  1.77943218e-01 -2.97302819e-03 -1.47954438e-01\n",
      "   -6.42334539e-02 -7.80779806e-02 -1.49704177e-01  2.12489050e-01]]\n",
      "\n",
      " [[-4.89110208e-02  1.00353113e-01  2.60869253e-02  1.04955655e-01\n",
      "    1.57234068e-01  1.70509359e-03  1.46011994e-02  7.73552761e-02]\n",
      "  [-1.94500620e-01  3.63829006e-02 -1.11681513e-01 -6.77678686e-02\n",
      "    1.00482606e-01 -1.55450279e-01  1.01894229e-02 -1.38677157e-01]\n",
      "  [ 6.13054185e-02 -3.71127785e-02  2.15668191e-01 -1.51888380e-01\n",
      "   -1.33010842e-02  1.15936847e-01  3.04766849e-03  2.27243939e-01]\n",
      "  [-1.39132424e-01 -1.61810404e-01  6.24573069e-02 -3.56657606e-02\n",
      "    1.07053398e-01  1.58709336e-01 -2.44707585e-01 -1.34290965e-02]\n",
      "  [-1.93990752e-01  3.53324923e-02  1.66805234e-02 -1.91651886e-02\n",
      "   -1.43912100e-01 -5.95381506e-04  7.39385004e-02  2.84501200e-02]\n",
      "  [ 7.87430256e-02 -9.69375112e-02  7.39270348e-03 -3.55521094e-02\n",
      "   -3.32708605e-03 -1.19951987e-01  5.03242263e-02  8.09917957e-02]\n",
      "  [ 4.74307351e-02 -7.61321567e-02 -1.74686583e-02  5.98038762e-02\n",
      "   -1.23566225e-01  9.83460132e-02 -1.00139551e-01 -1.56967022e-01]\n",
      "  [-6.41788830e-02 -7.88627573e-02  9.18538797e-02  4.93201772e-02\n",
      "   -1.76104461e-01 -9.89256665e-02 -9.62417128e-03 -4.62083891e-02]\n",
      "  [ 3.90056245e-02 -2.69240586e-02  3.31263060e-02 -1.00541791e-01\n",
      "   -1.08093652e-02  2.88192699e-02  9.32971658e-03 -1.34578627e-01]\n",
      "  [ 1.22593007e-01 -6.84251873e-02 -1.27008676e-01 -8.83400056e-02\n",
      "   -3.12251562e-02  2.49605210e-01 -3.51124314e-02  1.82892210e-01]]\n",
      "\n",
      " [[ 7.42625107e-02 -6.26894329e-03 -7.51575515e-02  2.98027347e-02\n",
      "    2.39479606e-02  1.42337581e-01 -1.82063723e-02 -1.29563819e-01]\n",
      "  [ 1.04984227e-01 -5.58541305e-02  1.33755033e-01 -6.40671417e-02\n",
      "    1.16386567e-01  1.61070927e-01 -1.33019365e-01  7.43193424e-02]\n",
      "  [ 4.65454367e-02  3.96051885e-02 -6.56467094e-02 -5.42648698e-02\n",
      "    1.19783866e-01  3.23646597e-02  3.95762305e-03 -3.90051380e-02]\n",
      "  [-1.88363760e-01 -4.26003880e-03 -1.52222273e-01 -2.02200698e-01\n",
      "    1.05142272e-01  1.15761356e-01  1.07342291e-01 -5.06927780e-03]\n",
      "  [ 2.08377608e-01 -7.14179938e-02  2.09410019e-01 -7.36017911e-02\n",
      "   -5.66603206e-02 -9.56470270e-02 -1.28507331e-02  3.39796316e-02]\n",
      "  [-1.50560132e-02  3.94404710e-02  4.39559182e-02 -2.35832418e-02\n",
      "    1.36573477e-01 -3.48630770e-02 -8.15621016e-02  4.65348230e-02]\n",
      "  [-6.92540092e-02  8.22888536e-02  1.03985777e-01  7.28589975e-02\n",
      "    1.41304937e-01  5.82465075e-02  5.36467889e-02  6.21804990e-02]\n",
      "  [ 1.12510213e-01  8.63988769e-02 -1.26514966e-01 -8.02423665e-02\n",
      "    3.10339343e-02  6.80203497e-03 -1.19826501e-02  6.69921612e-02]\n",
      "  [-7.39520338e-02  1.85714232e-02  6.56897663e-02 -9.36453645e-02\n",
      "    1.12884374e-01 -4.11512927e-02 -3.60595794e-02  5.47818310e-02]\n",
      "  [-3.25338443e-03 -4.46988830e-02 -2.89740262e-03 -2.26865498e-02\n",
      "   -1.06898664e-01  1.25786390e-01  8.85841384e-02  7.08467778e-02]]\n",
      "\n",
      " [[-2.14854557e-02  5.59523171e-03  2.18870676e-01  4.08333718e-02\n",
      "    3.48640024e-02  2.20978625e-02 -5.53554686e-02  1.79763735e-01]\n",
      "  [ 1.11256577e-02 -5.01017783e-02  1.63669987e-01 -9.26887109e-02\n",
      "    1.50172402e-01 -1.13010753e-01 -2.28055103e-02  1.68961003e-01]\n",
      "  [ 6.95712889e-02  1.37435894e-01  8.97816819e-02 -3.61823402e-02\n",
      "    7.00113802e-02  1.52330429e-03  8.54375785e-02 -2.18744110e-02]\n",
      "  [ 1.82992420e-01  4.30244461e-02 -1.82572467e-02  8.97295929e-02\n",
      "    5.53653168e-03 -2.22353039e-01  6.82933995e-02 -5.89218293e-03]\n",
      "  [-1.34858856e-01  3.26340621e-02 -2.24490447e-02  4.22687866e-02\n",
      "    5.99722494e-02 -8.41163598e-02  1.82730545e-01  9.83745811e-02]\n",
      "  [-1.56361648e-01  5.78406720e-03  7.44191270e-02 -1.40232772e-01\n",
      "   -1.03459549e-01 -2.94750091e-02 -1.98326034e-01 -1.06338494e-01]\n",
      "  [-5.33588317e-02 -1.29319011e-01  1.74224986e-01 -2.16336447e-03\n",
      "   -3.94340027e-02  1.56460197e-01  1.98579305e-01  3.81943474e-02]\n",
      "  [ 4.71298758e-02 -1.31101949e-02  1.01939671e-01 -5.88219316e-02\n",
      "   -2.90964927e-02  7.17924409e-03  5.30327232e-02  1.33196940e-01]\n",
      "  [-1.70514545e-04 -1.51057169e-02 -2.10350485e-01  9.00872098e-02\n",
      "   -6.45183812e-02  6.54851164e-02  1.36110334e-01 -5.37207121e-02]\n",
      "  [-3.43136423e-02 -7.42314881e-02  8.63916205e-02  1.05321824e-01\n",
      "   -3.69407442e-02 -1.07739878e-01  9.18909832e-02 -2.56681591e-02]]\n",
      "\n",
      " [[ 9.79377855e-02  2.22459327e-02 -3.45295827e-02 -1.45135707e-01\n",
      "   -2.01263497e-01 -1.08500586e-01 -2.50929352e-02  5.47471655e-02]\n",
      "  [-1.42248119e-01 -1.73768296e-02  1.15870699e-01  1.29739273e-01\n",
      "   -5.77282636e-02  8.81490499e-02 -9.34453562e-02 -8.05723463e-02]\n",
      "  [-6.63804500e-02  1.47632852e-01  1.12475659e-01  1.96952023e-01\n",
      "    4.07195991e-02  2.37792376e-01 -1.22330727e-01 -2.39197488e-02]\n",
      "  [ 1.04743839e-01  5.42097047e-02 -5.04805791e-02 -3.47515274e-02\n",
      "   -1.39885487e-02  4.51472428e-02  2.65684186e-02 -1.00035770e-01]\n",
      "  [-7.49895820e-03 -1.77069144e-02  1.06665152e-01 -7.01739761e-02\n",
      "    7.53390956e-02  2.45985603e-03 -4.21809794e-02  5.06884358e-02]\n",
      "  [-3.24108668e-02 -8.03159132e-02 -1.15034946e-01 -3.72675415e-02\n",
      "   -1.36907148e-02 -4.89754102e-02  1.13386234e-01  6.42942364e-02]\n",
      "  [ 4.77677377e-02  1.99747113e-03  9.39079956e-02  1.72757107e-02\n",
      "   -6.61510440e-02  6.67789180e-02 -7.67655121e-02  1.89237814e-01]\n",
      "  [-1.09425951e-01  2.08037152e-02  7.14819348e-02  7.33526558e-02\n",
      "    4.01322319e-02 -3.60747814e-03  1.79058558e-01 -4.22628340e-02]\n",
      "  [ 1.65189968e-01 -7.55801485e-03 -6.59291386e-02 -2.39955723e-01\n",
      "    1.43526256e-01 -2.12510516e-01  7.13940186e-02 -1.04454275e-01]\n",
      "  [-1.70156974e-01 -1.27726994e-01  1.76188707e-02  5.38605068e-02\n",
      "    3.96288938e-02  1.05889321e-01 -2.35710666e-01 -4.44194047e-02]]\n",
      "\n",
      " [[-1.37126045e-01  4.48467925e-02 -2.74268708e-03 -8.09192587e-02\n",
      "    4.84563166e-02 -6.86246713e-02  3.62669491e-03 -5.92906881e-02]\n",
      "  [-4.68675279e-02  8.72777599e-02 -1.94420633e-02 -3.08793225e-02\n",
      "    8.09443377e-02  6.34330528e-02  1.78392080e-02  7.19501414e-02]\n",
      "  [ 6.94972430e-02 -1.63288035e-02  5.96252436e-02 -5.78593491e-02\n",
      "    2.21622010e-01  4.23871827e-02  2.41668311e-02 -1.10869331e-01]\n",
      "  [ 4.61748631e-02  1.44692741e-01  5.06836930e-02 -7.40974183e-03\n",
      "    1.78887173e-02  2.43002611e-02 -7.21561310e-02  9.40573134e-02]\n",
      "  [-6.19863470e-02  7.89707805e-03 -1.34975951e-01 -6.80102649e-02\n",
      "    5.99881819e-03  1.86706078e-02 -4.12709279e-03 -1.62243550e-02]\n",
      "  [ 3.89415590e-03 -5.19976771e-02  1.17528350e-01 -1.49497280e-01\n",
      "    1.02453112e-01 -1.11283049e-01  1.19407174e-01 -8.67126795e-02]\n",
      "  [-6.39823302e-02 -3.69297077e-02  7.06591444e-02 -7.97981624e-02\n",
      "   -9.80501898e-02 -4.17929452e-02  1.39640415e-02  9.92972774e-02]\n",
      "  [ 2.46060485e-01  5.19118497e-02 -1.07298314e-03 -4.84762343e-02\n",
      "    9.02064538e-02 -2.48597733e-02 -1.68395407e-02  2.88700467e-02]\n",
      "  [-2.81753710e-02  9.39944720e-02 -2.03577463e-02 -5.86189376e-02\n",
      "    2.02007648e-01  8.04598548e-02 -7.26391719e-02 -1.63225788e-01]\n",
      "  [-1.31342423e-01 -6.61616708e-02  8.35417865e-02 -1.79907175e-02\n"
     ]
    },
    {
     "name": "stdout",
     "output_type": "stream",
     "text": [
      "   -1.47135550e-01  6.90650320e-02  7.37039235e-02  9.34392887e-03]]]\n",
      "float64\n",
      "[0. 0. 0. 0. 0. 0. 0. 0. 0. 0.]\n"
     ]
    }
   ],
   "source": [
    "thetas = 1/ENCODING_SIZE*np.random.randn(2 * NUM_QUBITS*NUM_LAYERS*NUM_CLASSES)\n",
    "bias = np.zeros(NUM_CLASSES)\n",
    "thetas = thetas.reshape(NUM_CLASSES, NUM_LAYERS, 2*NUM_QUBITS)\n",
    "init_thetas = thetas.copy()\n",
    "init_bias = bias.copy()\n",
    "print(thetas)\n",
    "print(thetas.dtype)\n",
    "print(bias)"
   ]
  },
  {
   "cell_type": "code",
   "execution_count": 28,
   "metadata": {
    "scrolled": true
   },
   "outputs": [
    {
     "name": "stdout",
     "output_type": "stream",
     "text": [
      "torch.Size([16, 1, 28, 28])\n",
      "16\n",
      "tensor([[30.2819, 26.8369,  0.0000,  0.0000,  5.9683,  9.9852, 24.6056,  7.1161,\n",
      "         32.1565,  0.0000]])\n",
      "torch.Size([1, 10])\n",
      "[ 0.174 -0.206  0.198 -0.266]\n"
     ]
    }
   ],
   "source": [
    "# this is the transformation that you need to do in order\n",
    "# to pass it to the encoder. view is (1, -1) since the first number\n",
    "# is the number of channels, which in our case is 1\n",
    "enums = enumerate(train_loader, 0)\n",
    "i, data = next(enums)\n",
    "inputs, labels = data\n",
    "print(inputs.size())\n",
    "print(len(labels))\n",
    "print(encoder(inputs[0].view(1, -1)))\n",
    "print(encoder(inputs[0].view(1, -1)).size())\n",
    "print(circuit_tighten(inputs[0].view(1, -1).numpy(), MASK, thetas[0]))"
   ]
  },
  {
   "cell_type": "code",
   "execution_count": 29,
   "metadata": {
    "scrolled": true
   },
   "outputs": [
    {
     "name": "stdout",
     "output_type": "stream",
     "text": [
      "torch.Size([16, 10])\n",
      "torch.Size([16])\n",
      "(10, 10, 8)\n",
      "309.74271988868713\n"
     ]
    }
   ],
   "source": [
    "# Using normal qml.grad\n",
    "X = encoder(inputs.view(len(labels), -1))\n",
    "print(X.size())\n",
    "print(labels.size())\n",
    "print(thetas.shape)\n",
    "start = time.time()\n",
    "dcost = qml.grad(cost, argnum=[2, 3])\n",
    "theta_grad, bias_grad = dcost(X.numpy(), labels.numpy(), thetas, bias) \n",
    "print(time.time() - start)"
   ]
  },
  {
   "cell_type": "code",
   "execution_count": 30,
   "metadata": {},
   "outputs": [
    {
     "name": "stdout",
     "output_type": "stream",
     "text": [
      "[3, 7, 7, 4, 7, 0, 2, 9, 8, 3, 7, 7, 4, 4, 3, 6]\n",
      "[2, 7, 5, 7, 7, 7, 7, 7, 3, 4, 4, 5, 5, 5, 6, 9]\n"
     ]
    },
    {
     "data": {
      "text/plain": [
       "0.0625"
      ]
     },
     "execution_count": 30,
     "metadata": {},
     "output_type": "execute_result"
    }
   ],
   "source": [
    "def accuracy(thetas, bias, number_batches=2):\n",
    "    correct = 0\n",
    "    total = 0\n",
    "    for i, data in enumerate(test_loader, 0):\n",
    "        if i == number_batches:\n",
    "            break\n",
    "        inputs, labels = data\n",
    "        inputs = encoder(inputs.view(len(labels), -1)).numpy()\n",
    "        predicted = []\n",
    "        for image in inputs:\n",
    "            scores = []\n",
    "            for i in range(NUM_CLASSES):\n",
    "                scores.append(np.mean(circuit_tighten(image, MASK, thetas[i]) + bias[i]))\n",
    "            predicted.append(np.argmax(scores))\n",
    "        correct += (np.asarray(predicted) == labels.numpy()).sum()\n",
    "        total += len(predicted)\n",
    "        print(predicted)\n",
    "    return(correct / total)\n",
    "# have done no training, so should be around 10%\n",
    "accuracy(thetas, bias)"
   ]
  },
  {
   "cell_type": "code",
   "execution_count": 33,
   "metadata": {},
   "outputs": [],
   "source": [
    "accuracies = []\n",
    "losses = []"
   ]
  },
  {
   "cell_type": "code",
   "execution_count": 32,
   "metadata": {},
   "outputs": [],
   "source": [
    "# Overfit like crazy on the first 16 examples\n",
    "# Five minutes a batch\n",
    "overfit = []\n",
    "for i, data in enumerate(train_loader, 0):\n",
    "    overfit.append((i, data))\n",
    "    if i == 0:\n",
    "        break"
   ]
  },
  {
   "cell_type": "code",
   "execution_count": 78,
   "metadata": {},
   "outputs": [
    {
     "name": "stdout",
     "output_type": "stream",
     "text": [
      "[3, 8, 3, 0, 0, 3, 2, 3, 0, 2, 0, 0, 3, 3, 0, 5]\n",
      "[2, 5, 5, 8, 0, 3, 5, 0, 3, 5, 2, 5, 5, 5, 0, 3]\n",
      "1 batches took 331.432343 seconds and has accuracy 0.093750, with train loss 1.832432\n",
      "[3, 8, 3, 0, 0, 3, 8, 3, 0, 2, 0, 0, 3, 8, 0, 5]\n",
      "[2, 5, 5, 8, 0, 3, 5, 0, 3, 5, 2, 5, 5, 5, 0, 3]\n",
      "1 batches took 665.513576 seconds and has accuracy 0.093750, with train loss 1.830845\n",
      "[3, 8, 3, 0, 0, 3, 2, 3, 0, 2, 0, 0, 3, 8, 0, 5]\n",
      "[2, 5, 5, 8, 0, 3, 5, 0, 3, 5, 2, 5, 5, 5, 0, 3]\n",
      "1 batches took 996.357459 seconds and has accuracy 0.093750, with train loss 1.828978\n",
      "[3, 8, 3, 0, 0, 3, 8, 3, 0, 2, 0, 0, 3, 8, 0, 5]\n",
      "[2, 5, 5, 8, 0, 3, 5, 0, 3, 5, 2, 5, 5, 5, 0, 3]\n",
      "1 batches took 1329.855259 seconds and has accuracy 0.093750, with train loss 1.824682\n"
     ]
    }
   ],
   "source": [
    "etas = [1e-2]\n",
    "start = time.time()\n",
    "for eta in etas:\n",
    "    for epoch in range(4):\n",
    "        for i, data in overfit:\n",
    "            inputs, labels = data\n",
    "            X = encoder(inputs.view(len(labels), -1))\n",
    "            dcost = qml.grad(cost, argnum=[2,3])\n",
    "            theta_grad, bias_grad = dcost(X.numpy(), labels.numpy(), thetas, bias)\n",
    "            loss = cost(X.numpy(), labels.numpy(), thetas, bias)\n",
    "            losses.append(loss)\n",
    "            thetas -= eta * theta_grad\n",
    "            bias -= eta * bias_grad\n",
    "            acc = accuracy(thetas, bias)\n",
    "            accuracies.append(acc)\n",
    "            print(\"%d batches took %f seconds and has accuracy %f, with train loss %f\" % (i + 1, time.time() - start, acc, loss))\n",
    "            if i == 1:\n",
    "                break"
   ]
  },
  {
   "cell_type": "code",
   "execution_count": 79,
   "metadata": {},
   "outputs": [
    {
     "data": {
      "image/png": "[encoded data removed]",
      "text/plain": [
       "<Figure size 432x288 with 1 Axes>"
      ]
     },
     "metadata": {
      "needs_background": "light"
     },
     "output_type": "display_data"
    },
    {
     "name": "stdout",
     "output_type": "stream",
     "text": [
      "[ 0.26158293 -0.3570366   0.21397489  0.26793371  0.17676492  0.17963767\n",
      " -0.36263504 -0.25967539  0.14492601 -0.2654731 ]\n",
      "3.037363042400416\n"
     ]
    }
   ],
   "source": [
    "plt.plot(losses)\n",
    "plt.show()\n",
    "print(bias)\n",
    "diff_thetas = thetas - init_thetas\n",
    "print(np.sqrt(np.sum(diff_thetas*diff_thetas)))"
   ]
  },
  {
   "cell_type": "code",
   "execution_count": 83,
   "metadata": {},
   "outputs": [
    {
     "name": "stdout",
     "output_type": "stream",
     "text": [
      "tensor([2, 3, 8, 3, 5, 8, 2, 9, 5, 4, 1, 4, 7, 0, 0, 6])\n",
      "[2, 3, 5, 8, 5, 8, 2, 5, 5, 4, 1, 4, 3, 0, 3, 3]\n",
      "0.625\n"
     ]
    }
   ],
   "source": [
    "# Peek at train accuracy:\n",
    "for i, data in overfit:\n",
    "    inputs, labels = data\n",
    "    inputs = encoder(inputs.view(len(labels), -1)).numpy()\n",
    "    predicted = []\n",
    "    correct = 0\n",
    "    total = 0\n",
    "    for image in inputs:\n",
    "        scores = []\n",
    "        for i in range(NUM_CLASSES):\n",
    "            scores.append(np.mean(circuit_tighten(image, MASK, thetas[i]) + bias[i]))\n",
    "        predicted.append(np.argmax(scores))\n",
    "    correct += (np.asarray(predicted) == labels.numpy()).sum()\n",
    "    total += len(predicted)\n",
    "    print(labels)\n",
    "    print(predicted)\n",
    "    print(correct/total)\n",
    "over_fit_thetas = thetas.copy()\n",
    "over_fit_bias = bias.copy()\n",
    "over_fit_losses = losses.copy()"
   ]
  },
  {
   "cell_type": "code",
   "execution_count": 84,
   "metadata": {
    "scrolled": true
   },
   "outputs": [
    {
     "name": "stdout",
     "output_type": "stream",
     "text": [
      "tensor([2, 3, 8, 3, 5, 8, 2, 9, 5, 4, 1, 4, 7, 0, 0, 6])\n",
      "[3, 8, 3, 0, 0, 3, 8, 3, 0, 7, 0, 0, 3, 3, 0, 5]\n",
      "[8, 5, 5, 8, 0, 3, 5, 0, 3, 5, 5, 5, 5, 5, 0, 3]\n",
      "1 batches took 333.210537 seconds and has accuracy 0.093750, with train loss 2.238850\n",
      "tensor([0, 7, 0, 7, 3, 4, 0, 1, 1, 3, 5, 7, 5, 7, 5, 8])\n",
      "[7, 8, 3, 0, 0, 3, 2, 3, 0, 7, 0, 0, 0, 7, 0, 5]\n",
      "[2, 5, 5, 5, 0, 3, 5, 0, 7, 5, 5, 5, 0, 5, 0, 0]\n",
      "2 batches took 671.998153 seconds and has accuracy 0.156250, with train loss 2.514424\n",
      "tensor([5, 6, 2, 1, 7, 7, 0, 0, 0, 4, 6, 7, 6, 6, 2, 1])\n",
      "[7, 8, 3, 0, 0, 3, 2, 3, 0, 2, 0, 0, 3, 7, 0, 5]\n",
      "[2, 5, 5, 5, 0, 3, 5, 0, 7, 5, 5, 5, 5, 5, 0, 0]\n",
      "3 batches took 992.200486 seconds and has accuracy 0.125000, with train loss 2.495987\n",
      "tensor([3, 2, 9, 1, 9, 9, 7, 8, 1, 3, 4, 5, 5, 2, 9, 2])\n",
      "[7, 8, 3, 0, 0, 3, 2, 3, 0, 7, 0, 0, 7, 7, 7, 5]\n",
      "[2, 5, 5, 8, 0, 3, 5, 0, 7, 5, 5, 5, 5, 5, 0, 7]\n",
      "4 batches took 1338.977725 seconds and has accuracy 0.125000, with train loss 2.391678\n",
      "tensor([4, 0, 9, 2, 8, 1, 4, 7, 6, 3, 6, 6, 7, 4, 7, 3])\n",
      "[7, 8, 3, 0, 0, 3, 2, 3, 0, 2, 0, 0, 3, 7, 0, 5]\n",
      "[2, 5, 5, 8, 2, 3, 5, 0, 7, 5, 5, 5, 5, 5, 0, 7]\n",
      "5 batches took 1671.389423 seconds and has accuracy 0.125000, with train loss 2.308921\n",
      "tensor([1, 1, 5, 6, 2, 3, 8, 8, 2, 5, 8, 7, 0, 9, 4, 2])\n",
      "[7, 8, 3, 0, 0, 3, 2, 3, 0, 2, 0, 0, 3, 6, 0, 5]\n",
      "[2, 5, 5, 8, 0, 3, 5, 0, 7, 5, 5, 5, 0, 5, 0, 3]\n",
      "6 batches took 1985.042257 seconds and has accuracy 0.156250, with train loss 2.280119\n",
      "tensor([6, 4, 6, 8, 3, 0, 5, 7, 3, 0, 0, 3, 6, 2, 9, 6])\n",
      "[7, 8, 3, 0, 0, 3, 8, 0, 0, 2, 0, 0, 0, 6, 0, 8]\n",
      "[8, 8, 5, 8, 0, 0, 0, 0, 0, 5, 5, 5, 0, 5, 0, 0]\n",
      "7 batches took 2299.082081 seconds and has accuracy 0.125000, with train loss 2.427476\n",
      "tensor([8, 5, 1, 6, 5, 1, 0, 0, 2, 8, 0, 9, 6, 0, 8, 6])\n",
      "[7, 8, 3, 0, 0, 3, 8, 8, 0, 2, 0, 0, 0, 6, 0, 8]\n",
      "[8, 8, 5, 8, 0, 3, 0, 0, 7, 8, 6, 5, 8, 5, 0, 0]\n",
      "8 batches took 2613.489920 seconds and has accuracy 0.093750, with train loss 2.419036\n",
      "tensor([2, 7, 8, 6, 1, 1, 9, 8, 1, 3, 4, 8, 1, 2, 7, 6])\n",
      "[7, 8, 3, 0, 0, 3, 8, 8, 0, 2, 0, 0, 8, 6, 0, 8]\n",
      "[8, 8, 5, 8, 0, 3, 5, 0, 3, 8, 8, 5, 8, 5, 0, 0]\n",
      "9 batches took 2927.324291 seconds and has accuracy 0.093750, with train loss 2.346853\n",
      "tensor([9, 2, 2, 8, 5, 3, 0, 6, 9, 4, 5, 8, 7, 4, 3, 3])\n",
      "[7, 8, 3, 2, 0, 3, 2, 8, 0, 2, 0, 0, 6, 6, 0, 8]\n",
      "[2, 8, 5, 8, 2, 3, 0, 0, 6, 6, 6, 6, 6, 5, 1, 0]\n",
      "10 batches took 3240.864452 seconds and has accuracy 0.062500, with train loss 2.377133\n",
      "tensor([0, 7, 6, 6, 9, 1, 2, 6, 9, 2, 2, 6, 1, 4, 9, 9])\n",
      "[6, 8, 3, 2, 0, 3, 2, 3, 0, 2, 0, 0, 6, 6, 0, 1]\n",
      "[2, 8, 5, 8, 2, 3, 5, 0, 6, 6, 6, 1, 6, 5, 1, 0]\n",
      "11 batches took 3554.679902 seconds and has accuracy 0.031250, with train loss 2.357906\n",
      "tensor([1, 5, 3, 4, 2, 3, 1, 9, 0, 9, 5, 0, 2, 2, 6, 5])\n",
      "[6, 8, 3, 2, 0, 3, 2, 3, 0, 2, 0, 0, 6, 6, 0, 1]\n",
      "[2, 9, 5, 8, 2, 3, 5, 0, 6, 6, 2, 1, 6, 5, 9, 0]\n",
      "12 batches took 3869.059824 seconds and has accuracy 0.031250, with train loss 2.295953\n",
      "tensor([5, 4, 1, 6, 2, 3, 9, 9, 0, 3, 6, 9, 1, 4, 0, 2])\n",
      "[6, 8, 3, 2, 0, 3, 2, 6, 2, 2, 0, 0, 6, 6, 0, 1]\n",
      "[2, 9, 6, 8, 2, 3, 5, 0, 6, 6, 2, 1, 1, 5, 9, 0]\n",
      "13 batches took 4182.849100 seconds and has accuracy 0.031250, with train loss 2.324393\n",
      "tensor([2, 7, 9, 4, 0, 1, 6, 9, 2, 1, 1, 7, 6, 3, 4, 4])\n",
      "[6, 8, 3, 2, 0, 3, 2, 9, 0, 2, 0, 0, 6, 6, 0, 1]\n",
      "[2, 9, 9, 8, 2, 3, 5, 0, 6, 6, 2, 1, 1, 5, 9, 3]\n",
      "1 batches took 4494.955101 seconds and has accuracy 0.062500, with train loss 2.402660\n",
      "tensor([1, 5, 1, 3, 3, 9, 2, 2, 9, 7, 0, 5, 3, 8, 6, 1])\n",
      "[6, 8, 3, 2, 0, 3, 2, 6, 0, 2, 0, 0, 6, 6, 0, 1]\n",
      "[2, 9, 6, 8, 2, 3, 5, 0, 6, 6, 6, 1, 1, 5, 1, 0]\n",
      "2 batches took 4807.431080 seconds and has accuracy 0.031250, with train loss 2.276125\n",
      "tensor([4, 7, 7, 5, 8, 6, 9, 1, 1, 6, 6, 3, 7, 0, 3, 6])\n",
      "[6, 8, 3, 2, 0, 3, 2, 6, 0, 2, 0, 0, 6, 6, 0, 1]\n",
      "[2, 9, 6, 8, 2, 3, 5, 0, 6, 6, 2, 1, 1, 5, 1, 0]\n",
      "3 batches took 5123.369850 seconds and has accuracy 0.031250, with train loss 2.392397\n",
      "tensor([5, 4, 0, 1, 0, 9, 0, 2, 1, 5, 8, 2, 1, 3, 0, 2])\n",
      "[6, 8, 3, 2, 0, 3, 2, 9, 1, 2, 0, 0, 6, 6, 0, 1]\n",
      "[2, 9, 9, 9, 2, 3, 5, 0, 2, 6, 2, 1, 1, 5, 9, 0]\n",
      "4 batches took 5436.662768 seconds and has accuracy 0.062500, with train loss 2.331854\n",
      "tensor([9, 8, 2, 2, 1, 7, 0, 4, 3, 5, 9, 1, 2, 1, 9, 9])\n",
      "[6, 8, 3, 2, 0, 3, 2, 9, 0, 2, 0, 0, 6, 6, 0, 1]\n",
      "[2, 9, 9, 9, 2, 3, 0, 0, 1, 6, 2, 1, 1, 9, 9, 0]\n",
      "5 batches took 5748.691947 seconds and has accuracy 0.062500, with train loss 2.303119\n",
      "tensor([0, 0, 6, 1, 9, 6, 4, 1, 3, 6, 0, 8, 8, 9, 2, 4])\n",
      "[6, 8, 3, 2, 0, 3, 2, 6, 0, 2, 0, 0, 6, 6, 0, 1]\n",
      "[2, 9, 1, 9, 2, 3, 0, 0, 1, 6, 2, 1, 1, 9, 9, 0]\n",
      "6 batches took 6061.253754 seconds and has accuracy 0.031250, with train loss 2.198662\n",
      "tensor([1, 6, 6, 2, 3, 7, 0, 1, 0, 3, 4, 4, 9, 0, 8, 2])\n",
      "[6, 8, 3, 2, 0, 3, 2, 9, 0, 2, 0, 0, 6, 6, 0, 1]\n",
      "[2, 9, 9, 9, 2, 3, 0, 0, 1, 6, 2, 1, 1, 9, 9, 0]\n",
      "7 batches took 6373.409614 seconds and has accuracy 0.062500, with train loss 2.394641\n",
      "tensor([8, 4, 4, 0, 3, 4, 4, 9, 1, 9, 9, 4, 7, 3, 7, 7])\n",
      "[6, 8, 3, 2, 0, 3, 2, 6, 1, 2, 0, 0, 6, 6, 0, 1]\n",
      "[1, 9, 1, 9, 2, 3, 0, 0, 1, 6, 6, 1, 1, 9, 9, 0]\n",
      "8 batches took 6685.705103 seconds and has accuracy 0.031250, with train loss 2.401870\n",
      "tensor([5, 1, 8, 7, 1, 6, 2, 6, 7, 8, 9, 1, 0, 7, 6, 5])\n",
      "[7, 8, 3, 2, 0, 3, 2, 9, 1, 2, 0, 0, 6, 6, 0, 1]\n",
      "[2, 9, 1, 9, 2, 3, 0, 0, 1, 6, 1, 1, 1, 9, 1, 7]\n",
      "9 batches took 6997.648362 seconds and has accuracy 0.093750, with train loss 2.337023\n",
      "tensor([9, 7, 2, 8, 9, 1, 1, 3, 1, 2, 2, 1, 5, 7, 7, 8])\n",
      "[7, 8, 3, 2, 0, 3, 2, 9, 1, 2, 0, 0, 6, 6, 0, 1]\n",
      "[1, 9, 1, 8, 2, 3, 0, 0, 1, 6, 2, 1, 1, 5, 9, 0]\n",
      "10 batches took 7311.287235 seconds and has accuracy 0.093750, with train loss 2.385530\n",
      "tensor([8, 0, 5, 7, 3, 2, 5, 0, 2, 0, 1, 8, 8, 2, 7, 1])\n",
      "[7, 8, 3, 2, 0, 3, 2, 9, 1, 2, 0, 0, 6, 6, 0, 1]\n",
      "[2, 9, 1, 8, 2, 3, 0, 0, 1, 6, 2, 1, 1, 5, 9, 7]\n",
      "11 batches took 7625.258274 seconds and has accuracy 0.093750, with train loss 2.312641\n",
      "tensor([3, 5, 9, 8, 2, 6, 7, 9, 6, 2, 9, 5, 0, 7, 7, 5])\n",
      "[7, 8, 3, 2, 0, 3, 2, 9, 1, 2, 0, 0, 0, 6, 0, 1]\n",
      "[2, 9, 1, 8, 2, 3, 0, 0, 1, 6, 2, 1, 1, 5, 1, 0]\n",
      "12 batches took 7938.484244 seconds and has accuracy 0.093750, with train loss 2.379404\n",
      "tensor([5, 1, 8, 3, 7, 0, 8, 1, 2, 8, 0, 8, 3, 0, 2, 5])\n",
      "[7, 8, 3, 2, 0, 3, 2, 9, 1, 2, 0, 0, 6, 6, 0, 1]\n",
      "[2, 9, 1, 8, 0, 3, 0, 0, 1, 6, 2, 1, 1, 5, 1, 0]\n",
      "13 batches took 8253.452615 seconds and has accuracy 0.093750, with train loss 2.425742\n",
      "tensor([4, 7, 6, 3, 0, 1, 0, 6, 1, 3, 0, 1, 5, 4, 7, 9])\n",
      "[7, 8, 3, 2, 0, 3, 2, 9, 1, 2, 0, 0, 6, 6, 0, 1]\n",
      "[2, 9, 1, 8, 0, 3, 0, 0, 1, 6, 2, 1, 1, 5, 1, 0]\n",
      "1 batches took 8570.533272 seconds and has accuracy 0.093750, with train loss 2.267475\n",
      "tensor([2, 2, 8, 6, 1, 2, 6, 5, 0, 8, 1, 4, 5, 3, 6, 4])\n",
      "[7, 8, 3, 2, 0, 3, 2, 9, 1, 2, 0, 0, 6, 6, 0, 1]\n",
      "[2, 9, 1, 8, 2, 3, 0, 0, 1, 6, 2, 1, 1, 5, 1, 0]\n",
      "2 batches took 8888.121603 seconds and has accuracy 0.093750, with train loss 2.249450\n",
      "tensor([2, 4, 2, 3, 2, 0, 5, 7, 8, 3, 7, 3, 1, 5, 4, 7])\n",
      "[7, 8, 3, 2, 0, 3, 2, 9, 1, 2, 0, 0, 6, 6, 0, 1]\n",
      "[2, 9, 1, 8, 0, 3, 0, 0, 1, 6, 1, 1, 1, 5, 1, 0]\n",
      "3 batches took 9205.288091 seconds and has accuracy 0.093750, with train loss 2.389629\n",
      "tensor([8, 4, 5, 9, 5, 8, 8, 4, 9, 1, 5, 0, 9, 7, 2, 5])\n",
      "[7, 8, 3, 2, 0, 3, 2, 9, 1, 2, 0, 0, 6, 6, 0, 1]\n",
      "[2, 9, 1, 8, 2, 3, 0, 0, 1, 6, 2, 1, 1, 5, 1, 0]\n",
      "4 batches took 9522.434605 seconds and has accuracy 0.093750, with train loss 2.359620\n",
      "tensor([5, 0, 4, 3, 2, 0, 6, 3, 1, 8, 5, 3, 0, 0, 7, 2])\n",
      "[7, 8, 3, 2, 0, 3, 2, 9, 1, 2, 0, 0, 0, 6, 0, 1]\n",
      "[2, 9, 1, 8, 2, 3, 0, 0, 1, 6, 2, 1, 1, 5, 9, 0]\n",
      "5 batches took 9839.152232 seconds and has accuracy 0.093750, with train loss 2.351581\n",
      "tensor([7, 7, 0, 9, 2, 2, 1, 3, 7, 9, 2, 3, 0, 1, 3, 6])\n",
      "[7, 8, 3, 2, 0, 3, 2, 9, 1, 2, 0, 0, 0, 6, 0, 1]\n",
      "[2, 9, 1, 8, 0, 3, 0, 0, 1, 6, 2, 1, 1, 5, 1, 0]\n",
      "6 batches took 10154.725977 seconds and has accuracy 0.093750, with train loss 2.364692\n",
      "tensor([9, 9, 5, 1, 0, 8, 7, 6, 0, 1, 8, 7, 7, 6, 1, 6])\n",
      "[7, 8, 3, 0, 0, 3, 2, 9, 1, 2, 0, 0, 0, 6, 0, 1]\n",
      "[1, 9, 1, 8, 0, 3, 0, 0, 1, 6, 1, 1, 1, 5, 1, 0]\n",
      "7 batches took 10472.548656 seconds and has accuracy 0.125000, with train loss 2.473913\n",
      "tensor([4, 7, 6, 8, 0, 3, 5, 5, 1, 7, 1, 2, 5, 9, 3, 8])\n",
      "[7, 8, 3, 2, 0, 3, 2, 9, 1, 2, 0, 0, 0, 6, 0, 1]\n",
      "[2, 9, 1, 8, 0, 3, 0, 0, 1, 6, 2, 1, 1, 5, 1, 0]\n",
      "8 batches took 10790.077224 seconds and has accuracy 0.093750, with train loss 2.416508\n",
      "tensor([2, 8, 2, 4, 3, 4, 6, 6, 8, 9, 2, 8, 8, 7, 1, 2])\n",
      "[7, 8, 3, 2, 0, 3, 2, 9, 1, 2, 0, 0, 0, 6, 0, 1]\n",
      "[2, 9, 1, 8, 0, 3, 0, 0, 1, 6, 2, 1, 1, 5, 1, 7]\n",
      "9 batches took 11107.364819 seconds and has accuracy 0.093750, with train loss 2.327033\n",
      "tensor([4, 2, 9, 7, 1, 4, 2, 7, 9, 4, 9, 5, 0, 6, 9, 1])\n",
      "[7, 8, 3, 2, 0, 3, 2, 9, 1, 2, 0, 0, 0, 6, 0, 1]\n",
      "[1, 9, 1, 8, 0, 3, 0, 0, 1, 6, 1, 1, 1, 5, 1, 0]\n",
      "10 batches took 11423.785274 seconds and has accuracy 0.093750, with train loss 2.216975\n",
      "tensor([1, 4, 1, 5, 1, 0, 9, 7, 1, 4, 4, 8, 0, 6, 8, 1])\n",
      "[7, 8, 3, 2, 0, 3, 2, 9, 1, 2, 0, 0, 6, 6, 0, 1]\n",
      "[2, 9, 1, 8, 2, 3, 0, 0, 1, 6, 1, 1, 1, 5, 1, 0]\n",
      "11 batches took 11740.430124 seconds and has accuracy 0.093750, with train loss 2.444904\n",
      "tensor([0, 4, 8, 7, 7, 1, 4, 4, 1, 2, 4, 3, 2, 8, 3, 2])\n",
      "[7, 8, 3, 2, 0, 3, 2, 9, 0, 2, 0, 0, 0, 6, 0, 1]\n",
      "[1, 9, 1, 8, 0, 3, 0, 0, 1, 6, 1, 1, 1, 5, 1, 0]\n",
      "12 batches took 12056.305016 seconds and has accuracy 0.093750, with train loss 2.473812\n",
      "tensor([0, 7, 2, 6, 4, 6, 3, 0, 3, 1, 6, 6, 2, 3, 4, 6])\n",
      "[7, 8, 3, 2, 0, 3, 2, 9, 1, 2, 0, 0, 0, 6, 0, 1]\n",
      "[2, 9, 1, 8, 2, 3, 0, 0, 1, 6, 2, 1, 1, 5, 1, 0]\n",
      "13 batches took 12374.158665 seconds and has accuracy 0.093750, with train loss 2.208579\n"
     ]
    }
   ],
   "source": [
    "#Time for the real deal.\n",
    "#Gonna start with the overfit weights cause screw it\n",
    "etas = [1, 3e-1, 1e-1]\n",
    "start = time.time()\n",
    "accuracies = []\n",
    "losses = []\n",
    "for epoch in range(1):\n",
    "    for eta in etas:\n",
    "        for i, data in enumerate(train_loader, 0):\n",
    "            inputs, labels = data\n",
    "            X = encoder(inputs.view(len(labels), -1))\n",
    "            dcost = qml.grad(cost, argnum=[2,3])\n",
    "            theta_grad, bias_grad = dcost(X.numpy(), labels.numpy(), thetas, bias)\n",
    "            loss = cost(X.numpy(), labels.numpy(), thetas, bias)\n",
    "            losses.append(loss)\n",
    "            thetas -= eta * theta_grad\n",
    "            bias -= eta * bias_grad\n",
    "            acc = accuracy(thetas, bias)\n",
    "            accuracies.append(acc)\n",
    "            print(\"%d batches took %f seconds and has accuracy %f, with train loss %f\" % (i + 1, time.time() - start, acc, loss))\n",
    "            if i == 12:\n",
    "                break"
   ]
  },
  {
   "cell_type": "code",
   "execution_count": 85,
   "metadata": {
    "scrolled": true
   },
   "outputs": [
    {
     "data": {
      "image/png": "[encoded data removed]",
      "text/plain": [
       "<Figure size 432x288 with 1 Axes>"
      ]
     },
     "metadata": {
      "needs_background": "light"
     },
     "output_type": "display_data"
    },
    {
     "name": "stdout",
     "output_type": "stream",
     "text": [
      "[ 0.09082535  0.17446782  0.16507269  0.00792867 -0.06083119 -0.16273234\n",
      "  0.03887882 -0.10283275 -0.17272954  0.02195246]\n",
      "2.806044517503409\n"
     ]
    }
   ],
   "source": [
    "plt.plot(losses)\n",
    "plt.show()\n",
    "print(bias)\n",
    "diff_thetas = thetas - init_thetas\n",
    "print(np.sqrt(np.sum(diff_thetas*diff_thetas)))"
   ]
  },
  {
   "cell_type": "code",
   "execution_count": 86,
   "metadata": {
    "scrolled": false
   },
   "outputs": [
    {
     "name": "stdout",
     "output_type": "stream",
     "text": [
      "[ 0.72482535  0.12482535 -0.15117465  0.72682535]\n",
      "[-0.62953218 -0.38753218 -0.29553218 -0.54553218]\n",
      "[0.60307269 0.28107269 0.07107269 0.60707269]\n",
      "[ 0.23992867  0.39192867 -0.90007133  0.07192867]\n",
      "[-0.25083119  0.52916881  0.57316881 -0.24883119]\n",
      "[-0.26873234  0.23926766 -0.49873234 -0.32273234]\n",
      "[-0.61912118  0.19887882  0.65087882 -0.19912118]\n",
      "[ 0.80316725  0.38516725 -0.73483275  0.82916725]\n",
      "[ 0.29127046 -0.37272954 -0.29072954  0.34527046]\n",
      "[-0.38604754  0.41395246  0.12195246  0.13995246]\n"
     ]
    }
   ],
   "source": [
    "#Check for favoritism\n",
    "for i in range(NUM_CLASSES):\n",
    "    print(circuit_tighten(np.random.randn(ENCODING_SIZE), MASK, thetas[i]) + bias[i])"
   ]
  },
  {
   "cell_type": "code",
   "execution_count": 46,
   "metadata": {},
   "outputs": [
    {
     "name": "stdout",
     "output_type": "stream",
     "text": [
      "6.7199883460998535\n",
      "4.027747631072998\n",
      "5.111584186553955\n",
      "3.021775245666504\n",
      "2.4269092082977295\n",
      "2.7653069496154785\n",
      "3.069201707839966\n",
      "2.2457666397094727\n",
      "1.9271575212478638\n",
      "1.7374266386032104\n",
      "1.5183058977127075\n",
      "1.694549798965454\n",
      "1.6607728004455566\n",
      "1.2809019088745117\n",
      "1.3200790882110596\n",
      "1.4291044473648071\n",
      "1.4116361141204834\n",
      "1.135733723640442\n",
      "1.1620030403137207\n",
      "1.2151148319244385\n",
      "1.2104133367538452\n",
      "1.048457145690918\n",
      "1.0661566257476807\n",
      "1.046869158744812\n",
      "1.0536484718322754\n",
      "0.9611916542053223\n",
      "0.971992552280426\n",
      "0.9176661372184753\n",
      "0.9294551610946655\n",
      "0.8672801852226257\n",
      "tensor([9, 0, 4, 5, 9, 3, 6, 1, 9, 5, 4, 1, 4, 8, 8, 9])\n",
      "0.625\n"
     ]
    }
   ],
   "source": [
    "#Overfit a linear model with same number of parameters:\n",
    "etas = [1e-2]\n",
    "start = time.time()\n",
    "recoder = nn.Sequential(nn.Linear(10, 40), nn.ReLU(), nn.Linear(40, 10))\n",
    "criterion = nn.CrossEntropyLoss()\n",
    "optimizer = optim.SGD(recoder.parameters(), lr=.01)\n",
    "losses = []\n",
    "for eta in etas:\n",
    "    for epoch in range(30):\n",
    "        running_loss = 0.0\n",
    "        for i, data in overfit:\n",
    "            inputs, labels = data\n",
    "            optimizer.zero_grad()\n",
    "            X = encoder(inputs.view(len(labels), -1))\n",
    "            outputs = recoder(X)\n",
    "            loss = criterion(outputs, labels)\n",
    "            loss.backward()\n",
    "            optimizer.step()\n",
    "\n",
    "            running_loss += loss.item()\n",
    "            if i % 8 == 7:\n",
    "                print('[%d, %5d] loss: %.3f' %\n",
    "                  (epoch + 1, i + 1, running_loss / 8))\n",
    "                running_loss = 0.0\n",
    "        print(running_loss)\n",
    "        losses.append(running_loss)\n",
    "\n",
    "for i, data in overfit:\n",
    "    inputs, labels = data\n",
    "    X = encoder(inputs.view(len(labels), -1))\n",
    "    outputs = recoder(X)\n",
    "    print(labels)\n",
    "    guesses = np.argmax(outputs.detach().numpy(), axis=1)\n",
    "    counter = 0\n",
    "    for i in range(len(guesses)):\n",
    "        if labels[i] == guesses[i]:\n",
    "            counter += 1\n",
    "    print(counter/16)"
   ]
  },
  {
   "cell_type": "code",
   "execution_count": 47,
   "metadata": {},
   "outputs": [
    {
     "data": {
      "image/png": "[encoded data removed]",
      "text/plain": [
       "<Figure size 432x288 with 1 Axes>"
      ]
     },
     "metadata": {
      "needs_background": "light"
     },
     "output_type": "display_data"
    }
   ],
   "source": [
    "plt.plot(losses)\n",
    "plt.show()"
   ]
  },
  {
   "cell_type": "code",
   "execution_count": null,
   "metadata": {},
   "outputs": [],
   "source": []
  }
 ],
 "metadata": {
  "kernelspec": {
   "display_name": "Python 3",
   "language": "python",
   "name": "python3"
  },
  "language_info": {
   "codemirror_mode": {
    "name": "ipython",
    "version": 3
   },
   "file_extension": ".py",
   "mimetype": "text/x-python",
   "name": "python",
   "nbconvert_exporter": "python",
   "pygments_lexer": "ipython3",
   "version": "3.7.1"
  }
 },
 "nbformat": 4,
 "nbformat_minor": 2
}
