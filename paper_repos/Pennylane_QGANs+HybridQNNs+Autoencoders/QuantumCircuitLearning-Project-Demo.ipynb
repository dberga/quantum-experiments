{
 "cells": [
  {
   "cell_type": "markdown",
   "metadata": {},
   "source": [
    "# Quantum Circuit Learning Demo\n",
    "After downloading Forest SDK 1.8+, run the following cells to perform the QCL Overfit test"
   ]
  },
  {
   "cell_type": "code",
   "execution_count": 1,
   "metadata": {
    "scrolled": true
   },
   "outputs": [],
   "source": [
    "import pennylane as qml\n",
    "from pennylane import numpy as np\n",
    "import pennylane.optimize"
   ]
  },
  {
   "cell_type": "code",
   "execution_count": 2,
   "metadata": {
    "scrolled": true
   },
   "outputs": [],
   "source": [
    "import os\n",
    "import time\n",
    "import random\n",
    "import pickle\n",
    "import matplotlib.pyplot as plt\n",
    "import torch\n",
    "import torch.nn as nn\n",
    "import torch.optim as optim\n",
    "from torch.autograd import Variable\n",
    "from torchsummary import summary"
   ]
  },
  {
   "cell_type": "code",
   "execution_count": 3,
   "metadata": {},
   "outputs": [],
   "source": [
    "from tqdm import tqdm\n",
    "from MNISTData import MNISTData\n",
    "from AutoEncoder import AutoEncoder"
   ]
  },
  {
   "cell_type": "code",
   "execution_count": 4,
   "metadata": {},
   "outputs": [],
   "source": [
    "ENCODING_SIZE = 10 # dimension of the encoded input\n",
    "NUM_QUBITS =4 # number of qubit wires we're using\n",
    "NUM_CLASSES= 10 # number of output classes\n",
    "NUM_LAYERS = 10 # number of entangle->rotate layers deep a given circuit should be."
   ]
  },
  {
   "cell_type": "code",
   "execution_count": 5,
   "metadata": {
    "scrolled": true
   },
   "outputs": [],
   "source": [
    "dev = qml.device(\"forest.qvm\", device=\"{}q-pyqvm\".format(NUM_QUBITS), shots=1000)\n",
    "device = torch.device('cpu') # This demo does not support CUDA"
   ]
  },
  {
   "cell_type": "code",
   "execution_count": 6,
   "metadata": {},
   "outputs": [],
   "source": [
    "from pennylane.ops import RX, RY, CNOT\n",
    "\n",
    "#params: x - input x\n",
    "#        thetas - learned parameters, in shape (NUM_LAYERS, 2*NUM_QUBITS)\n",
    "#NOTE: Written for NUM_QUBITS = 4\n",
    "@qml.qnode(dev, interface='torch')\n",
    "def circuit(x, thetas):\n",
    "    # Lay input values over the four wires\n",
    "    for i in range(ENCODING_SIZE):\n",
    "            if i // NUM_QUBITS % 2 == 0: \n",
    "                RX(x[i], wires=i//NUM_QUBITS)\n",
    "            else:\n",
    "                RY(x[i], wires=i//NUM_QUBITS)\n",
    "    for j in range(NUM_LAYERS):\n",
    "        # Entangle the wires\n",
    "        CNOT(wires=[0, 1])\n",
    "        CNOT(wires=[1, 3])\n",
    "        CNOT(wires=[0, 2])\n",
    "        # Perform rotations\n",
    "        for i in range(NUM_QUBITS):\n",
    "            RX(thetas[j][i], wires=i)\n",
    "        for i in range(NUM_QUBITS, 2 * NUM_QUBITS):\n",
    "            RY(thetas[j][i], wires=(i - NUM_QUBITS))\n",
    "    return [qml.expval.PauliZ(wires=i) for i in range(NUM_QUBITS)]"
   ]
  },
  {
   "cell_type": "markdown",
   "metadata": {},
   "source": [
    "At this point, we have to get our (encoded) images so that we may actually start training"
   ]
  },
  {
   "cell_type": "code",
   "execution_count": 7,
   "metadata": {},
   "outputs": [],
   "source": [
    "data = MNISTData(batch_size=16)\n",
    "train_loader = data.get_train_loader()\n",
    "test_loader = data.get_test_loader()"
   ]
  },
  {
   "cell_type": "code",
   "execution_count": 8,
   "metadata": {},
   "outputs": [],
   "source": [
    "load_from_stem = \"./autoencoder_models/1558731906/\"\n",
    "load_model_from = os.path.join(load_from_stem, \"ae.pt\")\n",
    "load_layers_from = os.path.join(load_from_stem, \"layer_sizes.pkl\")"
   ]
  },
  {
   "cell_type": "code",
   "execution_count": 9,
   "metadata": {},
   "outputs": [],
   "source": [
    "with open(load_layers_from, 'rb') as f:\n",
    "    layer_sizes = pickle.load(f)\n",
    "layer_sizes = layer_sizes[1:]\n",
    "ae = AutoEncoder(layer_sizes)\n",
    "ae.load_state_dict(torch.load(load_model_from))\n",
    "encoder = ae.encoder\n",
    "#encoder.to(torch.device('cpu'))\n",
    "for child in encoder.children():\n",
    "    for param in child.parameters():\n",
    "        param.to(device)\n",
    "        param.requires_grad = False"
   ]
  },
  {
   "cell_type": "code",
   "execution_count": 11,
   "metadata": {
    "scrolled": true
   },
   "outputs": [],
   "source": [
    "thetas = 1/ENCODING_SIZE*np.random.randn(2 * NUM_QUBITS*NUM_LAYERS*NUM_CLASSES)\n",
    "bias = np.zeros(NUM_CLASSES)\n",
    "thetas = thetas.reshape(NUM_CLASSES, NUM_LAYERS, 2*NUM_QUBITS)\n",
    "thetas = Variable(torch.tensor(thetas, device='cpu'),requires_grad=True)\n",
    "bias = Variable(torch.tensor(bias, device='cpu'),requires_grad=True)"
   ]
  },
  {
   "cell_type": "code",
   "execution_count": 12,
   "metadata": {
    "scrolled": true
   },
   "outputs": [
    {
     "name": "stdout",
     "output_type": "stream",
     "text": [
      "torch.Size([16, 1, 28, 28])\n",
      "16\n",
      "tensor([[32.3574, 38.5698,  0.0000, 11.4904,  6.5081, 12.7113, 18.0151, 16.4128,\n",
      "         13.4374,  0.0000]])\n",
      "torch.Size([1, 10])\n",
      "tensor([ 0.5100, -0.8280,  0.5440,  0.4560], dtype=torch.float64,\n",
      "       grad_fn=<_TorchQNodeBackward>)\n"
     ]
    }
   ],
   "source": [
    "# this is the transformation that you need to do in order\n",
    "# to pass it to the encoder. view is (1, -1) since the first number\n",
    "# is the number of channels, which in our case is 1\n",
    "enums = enumerate(train_loader, 1)\n",
    "i, data = next(enums)\n",
    "inputs, labels = data\n",
    "print(inputs.size())\n",
    "print(len(labels))\n",
    "print(encoder(inputs[0].view(1, -1)))\n",
    "print(encoder(inputs[0].view(1, -1)).size())\n",
    "print(circuit(encoder(inputs[0].view(-1)), thetas[0]))"
   ]
  },
  {
   "cell_type": "code",
   "execution_count": 13,
   "metadata": {},
   "outputs": [
    {
     "name": "stdout",
     "output_type": "stream",
     "text": [
      "[0, 4, 4, 7, 4, 8, 9, 4, 1, 7, 4, 8, 9, 9, 7, 3]\n",
      "[9, 4, 3, 3, 7, 8, 4, 4, 9, 9, 9, 3, 3, 4, 8, 0]\n"
     ]
    },
    {
     "data": {
      "text/plain": [
       "0.125"
      ]
     },
     "execution_count": 13,
     "metadata": {},
     "output_type": "execute_result"
    }
   ],
   "source": [
    "def accuracy(thetas, bias, number_batches=2):\n",
    "    with torch.no_grad():\n",
    "        correct = 0\n",
    "        total = 0\n",
    "        for i, data in enumerate(test_loader, 0):\n",
    "            if i == number_batches:\n",
    "                break\n",
    "            inputs, labels = data\n",
    "            inputs = encoder(inputs.view(len(labels), -1)).numpy()\n",
    "            predicted = []\n",
    "            for image in inputs:\n",
    "                scores = []\n",
    "                for i in range(NUM_CLASSES):\n",
    "                    scores.append(torch.mean(circuit(image, thetas[i]) + bias[i]))\n",
    "                predicted.append(np.argmax(scores))\n",
    "            correct += (np.asarray(predicted) == labels.numpy()).sum()\n",
    "            total += len(predicted)\n",
    "            print(predicted)\n",
    "        return(correct / total)\n",
    "# have done no training, so should be around 10%\n",
    "accuracy(thetas, bias)"
   ]
  },
  {
   "cell_type": "code",
   "execution_count": 15,
   "metadata": {},
   "outputs": [],
   "source": [
    "# Overfit like crazy on the first 16 examples\n",
    "# ~Five minutes a batch, on our hardware\n",
    "overfit = []\n",
    "for i, data in enumerate(train_loader, 0):\n",
    "    overfit.append((i, data))\n",
    "    if i == 0:\n",
    "        break"
   ]
  },
  {
   "cell_type": "markdown",
   "metadata": {},
   "source": [
    "## Quantum Training Loop\n",
    "Runs 30 epochs over our single overfit batch. Peforms Adam optimization, using analytically computed gradients for quantum gate parameters using Pennylane."
   ]
  },
  {
   "cell_type": "code",
   "execution_count": 16,
   "metadata": {},
   "outputs": [
    {
     "name": "stdout",
     "output_type": "stream",
     "text": [
      "2.3154754269232494\n",
      "2.2702907867326236\n",
      "2.2256062961631167\n",
      "2.1846586345576173\n",
      "2.1411301106387066\n",
      "2.106572814066159\n",
      "2.0737310818860757\n",
      "2.03370474048498\n",
      "2.0053961200780526\n",
      "1.9743431188258553\n",
      "1.9476842063585524\n",
      "1.924069972380033\n",
      "1.9010586444904576\n",
      "1.8719913084298685\n",
      "1.8548800076158658\n",
      "1.8345343750811365\n",
      "1.8229037135193633\n",
      "1.8022137318877156\n",
      "1.792869520685005\n",
      "1.7844130554231203\n",
      "1.7652688926020763\n",
      "1.7528248828801527\n",
      "1.740569509235792\n",
      "1.732718129423903\n",
      "1.7215459806070386\n",
      "1.7135498906566624\n",
      "1.7039735068145028\n",
      "1.6956386154341108\n",
      "1.6846191598624534\n",
      "1.6744907949744958\n"
     ]
    }
   ],
   "source": [
    "etas = [1e-2] # We use a learning rate of 1e-2\n",
    "start = time.time()\n",
    "criterion = nn.CrossEntropyLoss()\n",
    "optimizer = optim.Adam([thetas, bias], lr=.01) # Adam interfaces with PennyLane\n",
    "losses_quantum = []\n",
    "for eta in etas:\n",
    "    for epoch in range(30):\n",
    "        running_loss = 0.0\n",
    "        for i, data in overfit:\n",
    "            inputs, labels = data\n",
    "            optimizer.zero_grad()\n",
    "            X = encoder(inputs.view(len(labels), -1))\n",
    "            outputs = torch.zeros([len(X), NUM_CLASSES], dtype=torch.double)\n",
    "            for i in range(len(X)):\n",
    "                for j in range(NUM_CLASSES):\n",
    "                    outputs[i, j] += torch.mean(circuit(X[i], thetas[j]) + bias[j])\n",
    "            loss = criterion(outputs, labels)\n",
    "            loss.backward()\n",
    "            optimizer.step()\n",
    "            running_loss += loss.item()\n",
    "        print(running_loss)\n",
    "        losses_quantum.append(running_loss)"
   ]
  },
  {
   "cell_type": "code",
   "execution_count": 20,
   "metadata": {},
   "outputs": [
    {
     "name": "stdout",
     "output_type": "stream",
     "text": [
      "tensor([7, 7, 2, 6, 1, 7, 2, 6, 8, 5, 4, 1, 8, 4, 9, 6])\n",
      "[6, 7, 2, 6, 1, 7, 2, 6, 8, 6, 4, 4, 6, 6, 7, 6]\n",
      "0.625\n"
     ]
    }
   ],
   "source": [
    "# Peek at our train accuracy after all 30 epochs.\n",
    "# Should be close to .625\n",
    "with torch.no_grad():\n",
    "    for i, data in overfit:\n",
    "        inputs, labels = data\n",
    "        inputs = encoder(inputs.view(len(labels), -1)).numpy()\n",
    "        predicted = []\n",
    "        correct = 0\n",
    "        total = 0\n",
    "        for image in inputs:\n",
    "            scores = []\n",
    "            for i in range(NUM_CLASSES):\n",
    "                scores.append(torch.mean(circuit(image, thetas[i]) + bias[i]))\n",
    "            predicted.append(np.argmax(scores))\n",
    "        correct += (np.asarray(predicted) == labels.numpy()).sum()\n",
    "        total += len(predicted)\n",
    "        print(labels)\n",
    "        print(predicted)\n",
    "        print(correct/total)"
   ]
  },
  {
   "cell_type": "code",
   "execution_count": 30,
   "metadata": {},
   "outputs": [
    {
     "name": "stdout",
     "output_type": "stream",
     "text": [
      "8.854576110839844\n",
      "3.1504855155944824\n",
      "3.17079496383667\n",
      "3.261718511581421\n",
      "1.9136929512023926\n",
      "1.6666462421417236\n",
      "1.850232481956482\n",
      "1.2173595428466797\n",
      "1.1350982189178467\n",
      "1.127807855606079\n",
      "1.2135506868362427\n",
      "1.0453777313232422\n",
      "1.081648349761963\n",
      "0.9248653650283813\n",
      "0.9037123322486877\n",
      "0.8197648525238037\n",
      "0.7846201062202454\n",
      "0.7168394327163696\n",
      "0.6777791380882263\n",
      "0.6341490745544434\n",
      "0.6012409925460815\n",
      "0.5734260678291321\n",
      "0.5500508546829224\n",
      "0.5293170213699341\n",
      "0.5123202800750732\n",
      "0.4950133264064789\n",
      "0.47952258586883545\n",
      "0.46547818183898926\n",
      "0.4522339701652527\n",
      "0.440244197845459\n",
      "tensor([7, 7, 2, 6, 1, 7, 2, 6, 8, 5, 4, 1, 8, 4, 9, 6])\n",
      "1.0\n"
     ]
    }
   ],
   "source": [
    "# Overfit a linear model with same number of parameters.\n",
    "# Could be anywhere from .5 to 1.00, depending on initialization\n",
    "# and distribution of the minibatch\n",
    "etas = [1e-2]\n",
    "start = time.time()\n",
    "recoder = nn.Sequential(nn.Linear(10, 40), nn.ReLU(), nn.Linear(40, 10))\n",
    "criterion = nn.CrossEntropyLoss()\n",
    "optimizer = optim.SGD(recoder.parameters(), lr=.01)\n",
    "losses_linear = []\n",
    "for eta in etas:\n",
    "    for epoch in range(30):\n",
    "        running_loss = 0.0\n",
    "        for i, data in overfit:\n",
    "            inputs, labels = data\n",
    "            optimizer.zero_grad()\n",
    "            X = encoder(inputs.view(len(labels), -1))\n",
    "            outputs = recoder(X)\n",
    "            loss = criterion(outputs, labels)\n",
    "            loss.backward()\n",
    "            optimizer.step()\n",
    "\n",
    "            running_loss += loss.item()\n",
    "            if i % 8 == 7:\n",
    "                print('[%d, %5d] loss: %.3f' %\n",
    "                  (epoch + 1, i + 1, running_loss / 8))\n",
    "                running_loss = 0.0\n",
    "        print(running_loss)\n",
    "        losses_linear.append(running_loss)\n",
    "\n",
    "for i, data in overfit:\n",
    "    inputs, labels = data\n",
    "    X = encoder(inputs.view(len(labels), -1))\n",
    "    outputs = recoder(X)\n",
    "    print(labels)\n",
    "    guesses = np.argmax(outputs.detach().numpy(), axis=1)\n",
    "    counter = 0\n",
    "    for i in range(len(guesses)):\n",
    "        if labels[i] == guesses[i]:\n",
    "            counter += 1\n",
    "    print(counter/16)"
   ]
  },
  {
   "cell_type": "code",
   "execution_count": 34,
   "metadata": {
    "scrolled": true
   },
   "outputs": [
    {
     "data": {
      "image/png": "[encoded data removed]",
      "text/plain": [
       "<Figure size 432x288 with 1 Axes>"
      ]
     },
     "metadata": {
      "needs_background": "light"
     },
     "output_type": "display_data"
    }
   ],
   "source": [
    "plt.plot(losses_quantum)\n",
    "plt.ylabel('train loss')\n",
    "plt.xlabel('overfit training epoch')\n",
    "plt.title('Quantum Circuit Learning')\n",
    "plt.show()"
   ]
  },
  {
   "cell_type": "code",
   "execution_count": 35,
   "metadata": {},
   "outputs": [
    {
     "data": {
      "image/png": "[encoded data removed]",
      "text/plain": [
       "<Figure size 432x288 with 1 Axes>"
      ]
     },
     "metadata": {
      "needs_background": "light"
     },
     "output_type": "display_data"
    }
   ],
   "source": [
    "plt.plot(losses_linear)\n",
    "plt.ylabel('train loss')\n",
    "plt.xlabel('overfit training epoch')\n",
    "plt.title('Classical Neural Network')\n",
    "plt.show()"
   ]
  },
  {
   "cell_type": "code",
   "execution_count": null,
   "metadata": {},
   "outputs": [],
   "source": []
  }
 ],
 "metadata": {
  "kernelspec": {
   "display_name": "Python 3",
   "language": "python",
   "name": "python3"
  },
  "language_info": {
   "codemirror_mode": {
    "name": "ipython",
    "version": 3
   },
   "file_extension": ".py",
   "mimetype": "text/x-python",
   "name": "python",
   "nbconvert_exporter": "python",
   "pygments_lexer": "ipython3",
   "version": "3.7.1"
  }
 },
 "nbformat": 4,
 "nbformat_minor": 2
}
