{
 "cells": [
  {
   "cell_type": "markdown",
   "metadata": {},
   "source": [
    "# Classification with SVM on the IBM QASM Simulator\n",
    "## Circuit SVM Code"
   ]
  },
  {
   "cell_type": "markdown",
   "metadata": {},
   "source": [
    "## Import Packages"
   ]
  },
  {
   "cell_type": "code",
   "execution_count": 1,
   "metadata": {},
   "outputs": [],
   "source": [
    "import numpy as np\n",
    "import glob\n",
    "from utils_updated import *\n",
    "import matplotlib.pyplot as plt\n",
    "from matplotlib import colors\n",
    "from sklearn import preprocessing\n",
    "from sklearn.svm import SVC\n",
    "\n",
    "from sklearn.metrics import accuracy_score\n",
    "from sklearn.metrics import f1_score\n",
    "\n",
    "from qiskit import BasicAer, IBMQ\n",
    "from qiskit.circuit.library import ZZFeatureMap, PauliFeatureMap\n",
    "from qiskit.aqua import QuantumInstance, aqua_globals\n",
    "from qiskit.aqua.algorithms import QSVM\n",
    "from qiskit.aqua.utils import split_dataset_to_data_and_labels, map_label_to_class_name\n"
   ]
  },
  {
   "cell_type": "markdown",
   "metadata": {},
   "source": [
    "## Load the training and test sets"
   ]
  },
  {
   "cell_type": "code",
   "execution_count": 2,
   "metadata": {},
   "outputs": [
    {
     "name": "stdout",
     "output_type": "stream",
     "text": [
      "X_train (50, 8)\n",
      "Y_train (50,)\n",
      "X_test (250000, 8)\n",
      "Y_test (250000,)\n"
     ]
    },
    {
     "data": {
      "image/png": "[encoded data removed]",
      "text/plain": [
       "<Figure size 432x288 with 1 Axes>"
      ]
     },
     "metadata": {
      "needs_background": "light"
     },
     "output_type": "display_data"
    }
   ],
   "source": [
    "# Load training set\n",
    "key='_tiny'\n",
    "X_train=np.load('X_train_tile_4'+key+'.npy')\n",
    "Y_train=np.load('Y_train_tile_4'+key+'.npy')\n",
    "\n",
    "print('X_train',X_train.shape) \n",
    "print('Y_train',Y_train.shape) \n",
    "\n",
    "# Load test set\n",
    "X_test=np.load('X_test_tile_8_subregion.npy')\n",
    "Y_test=np.load('Y_test_tile_8_subregion.npy')\n",
    "\n",
    "print('X_test',X_test.shape) \n",
    "print('Y_test',Y_test.shape) \n",
    "\n",
    "# If {-1,1} is required:\n",
    "# Y_train=np.where(Y_train==0,-1,Y_train)\n",
    "\n",
    "groundtruth=np.reshape(Y_test,(500,500))\n",
    "plt.title('Groundtruth')\n",
    "cmap = colors.ListedColormap(['black', 'red'])\n",
    "plt.rcParams[\"figure.figsize\"] = (5,5)\n",
    "view=plt.imshow(groundtruth,cmap=cmap)\n"
   ]
  },
  {
   "cell_type": "markdown",
   "metadata": {},
   "source": [
    "## Option 1: selected a NxN window as test set\n",
    "This training set has shown the best results."
   ]
  },
  {
   "cell_type": "code",
   "execution_count": 3,
   "metadata": {},
   "outputs": [
    {
     "name": "stdout",
     "output_type": "stream",
     "text": [
      "(225, 8) (225,)\n"
     ]
    },
    {
     "data": {
      "image/png": "[encoded data removed]",
      "text/plain": [
       "<Figure size 360x360 with 1 Axes>"
      ]
     },
     "metadata": {
      "needs_background": "light"
     },
     "output_type": "display_data"
    }
   ],
   "source": [
    "N=15\n",
    "start=251\n",
    "X_test2 = np.reshape(X_test,(500,500,8))\n",
    "X_test2 = X_test2[start:start+N,0:N]\n",
    "Y_test2 = groundtruth[start:start+N,0:N]\n",
    "plt.imshow(Y_test2, cmap=cmap)\n",
    "X_test2 = np.reshape(X_test2, (N*N,8))\n",
    "Y_test2 = np.squeeze(np.reshape(Y_test2, (N*N,1)))\n",
    "print(X_test2.shape,Y_test2.shape)"
   ]
  },
  {
   "cell_type": "markdown",
   "metadata": {},
   "source": [
    "## Option 2: select N random pixels as test set"
   ]
  },
  {
   "cell_type": "code",
   "execution_count": null,
   "metadata": {},
   "outputs": [],
   "source": [
    "N=100\n",
    "#random_indices = np.random.choice(X_test.shape[0],size=N,replace=False)\n",
    "X_test_0_indices = [i for i, y in enumerate(Y_test) if y == 0]\n",
    "X_test_1_indices = [i for i, y in enumerate(Y_test) if y == 1]\n",
    "\n",
    "random_indices_0 = np.random.choice(len(X_test_0_indices),size=N,replace=False)\n",
    "random_indices_1 = np.random.choice(len(X_test_1_indices),size=N,replace=False)\n",
    "#print(random_indices_0,random_indices_1)\n",
    "#print(np.take(X_test_0_indices, random_indices_0))\n",
    "X_test2 = np.append(X_test[np.take(X_test_0_indices, random_indices_0),:], X_test[np.take(X_test_1_indices, random_indices_1),:], axis=0)\n",
    "Y_test2 = np.append(Y_test[np.take(X_test_0_indices, random_indices_0)], Y_test[np.take(X_test_1_indices, random_indices_1)])\n",
    "#print(X_test2,Y_test2)"
   ]
  },
  {
   "cell_type": "markdown",
   "metadata": {},
   "source": [
    "## Quantum enhanced SVM (circuit based)"
   ]
  },
  {
   "cell_type": "markdown",
   "metadata": {},
   "source": [
    "The `'TOKEN'` string can be copied from the personal IBM Quantum Experience account."
   ]
  },
  {
   "cell_type": "code",
   "execution_count": 4,
   "metadata": {},
   "outputs": [],
   "source": [
    "token='TOKEN'\n",
    "#IBMQ.save_account(token)\n",
    "provider = IBMQ.load_account()"
   ]
  },
  {
   "cell_type": "markdown",
   "metadata": {},
   "source": [
    "Block for dimensionality reduction. `feature_dim = 8` keeps the samples unchanged."
   ]
  },
  {
   "cell_type": "code",
   "execution_count": 5,
   "metadata": {},
   "outputs": [],
   "source": [
    "from sklearn.decomposition import PCA\n",
    "\n",
    "feature_dim = 8\n",
    "pca = PCA(feature_dim)\n",
    "X_train = pca.fit_transform(X_train)\n",
    "X_test = pca.fit_transform(X_test)\n",
    "X_test2 = pca.fit_transform(X_test2)"
   ]
  },
  {
   "cell_type": "markdown",
   "metadata": {},
   "source": [
    "Block for training dataset creation."
   ]
  },
  {
   "cell_type": "code",
   "execution_count": 6,
   "metadata": {},
   "outputs": [],
   "source": [
    "X_train_0_indices = [i for i, y in enumerate(Y_train) if y == 0]\n",
    "X_train_1_indices = [i for i, y in enumerate(Y_train) if y == 1]\n",
    "training_input = {'0': X_train[X_train_0_indices], '1': X_train[X_train_1_indices]}"
   ]
  },
  {
   "cell_type": "markdown",
   "metadata": {},
   "source": [
    "The QSVM function needs a test dataset and a prediction dataset. Since for the test dataset only the accuracy is computed, and we need a plot of the results, we use the sub-image as a prediction dataset and keep only a small number of samples for the test dataset to lower the time overhead."
   ]
  },
  {
   "cell_type": "code",
   "execution_count": 7,
   "metadata": {},
   "outputs": [],
   "source": [
    "X_test_0_indices = [i for i, y in enumerate(Y_test) if y == 0]\n",
    "X_test_1_indices = [i for i, y in enumerate(Y_test) if y == 1]\n",
    "number_test_samples = 20\n",
    "X_test_0_indices = X_test_0_indices[0:number_test_samples]\n",
    "X_test_1_indices = X_test_1_indices[0:number_test_samples]\n",
    "test_input = {'0': X_test[X_test_0_indices], '1': X_test[X_test_1_indices]}\n",
    "class_labels = [0,1]\n",
    "datapoints = [X_test2, Y_test2]"
   ]
  },
  {
   "cell_type": "markdown",
   "metadata": {},
   "source": [
    "Block for circuit creation."
   ]
  },
  {
   "cell_type": "code",
   "execution_count": 14,
   "metadata": {},
   "outputs": [],
   "source": [
    "from functools import reduce\n",
    "def linear_feature_map(x: np.ndarray) -> float:\n",
    "    coeff = x[0] if len(x) == 1 else reduce(lambda m, n: m*n, x)\n",
    "    return coeff\n",
    "feature_map = ZZFeatureMap(feature_dimension=feature_dim, reps=2, data_map_func=linear_feature_map, entanglement='linear')"
   ]
  },
  {
   "cell_type": "markdown",
   "metadata": {},
   "source": [
    "## Run QSVM"
   ]
  },
  {
   "cell_type": "code",
   "execution_count": 16,
   "metadata": {},
   "outputs": [],
   "source": [
    "seed = 1000\n",
    "qsvm = QSVM(feature_map, training_input, test_input, datapoints[0])\n",
    "backend = provider.get_backend('ibmq_qasm_simulator')\n",
    "#backend = provider.get_backend('ibmq_16_melbourne')\n",
    "quantum_instance = QuantumInstance(backend, shots=1024, seed_simulator=seed, seed_transpiler=seed)\n",
    "#quantum_instance = QuantumInstance(backend, shots=1024)\n",
    "result = qsvm.run(quantum_instance)"
   ]
  },
  {
   "cell_type": "markdown",
   "metadata": {},
   "source": [
    "The results for the given test set and datapoints are shown in the following:"
   ]
  },
  {
   "cell_type": "code",
   "execution_count": 17,
   "metadata": {},
   "outputs": [
    {
     "name": "stdout",
     "output_type": "stream",
     "text": [
      "Testing success ratio: 0.525\n",
      "Prediction from datapoints set:\n",
      "  success rate: 51.55555555555556%\n",
      "  F1 score: 0.441025641025641\n",
      "  Accuracy: 0.5155555555555555\n"
     ]
    },
    {
     "data": {
      "text/plain": [
       "<matplotlib.image.AxesImage at 0x1ab97a4b5b0>"
      ]
     },
     "execution_count": 17,
     "metadata": {},
     "output_type": "execute_result"
    },
    {
     "data": {
      "image/png": "[encoded data removed]",
      "text/plain": [
       "<Figure size 360x360 with 1 Axes>"
      ]
     },
     "metadata": {
      "needs_background": "light"
     },
     "output_type": "display_data"
    }
   ],
   "source": [
    "print(f'Testing success ratio: {result[\"testing_accuracy\"]}')\n",
    "print('Prediction from datapoints set:')\n",
    "#print(f'  ground truth: {map_label_to_class_name(datapoints[1], qsvm.label_to_class)}')\n",
    "#print(f'  prediction:   {result[\"predicted_classes\"]}')\n",
    "predicted_labels = result[\"predicted_labels\"]\n",
    "print(f'  success rate: {100*np.count_nonzero(predicted_labels == datapoints[1])/len(predicted_labels)}%')\n",
    "print(f'  F1 score: {f1_score(datapoints[1], result[\"predicted_labels\"])}')\n",
    "print(f'  Accuracy: {accuracy_score(datapoints[1], result[\"predicted_labels\"])}')\n",
    "classification_map=np.reshape(result[\"predicted_labels\"],(N,N))\n",
    "plt.imshow(classification_map, cmap=cmap)"
   ]
  },
  {
   "cell_type": "code",
   "execution_count": 18,
   "metadata": {},
   "outputs": [
    {
     "data": {
      "image/png": "[encoded data removed]",
      "text/plain": [
       "<Figure size 360x360 with 1 Axes>"
      ]
     },
     "metadata": {
      "needs_background": "light"
     },
     "output_type": "display_data"
    }
   ],
   "source": [
    "kernel_matrix = result['kernel_matrix_training']\n",
    "plt.imshow(np.asmatrix(kernel_matrix),interpolation='nearest',origin='upper',cmap='bone_r');"
   ]
  },
  {
   "cell_type": "code",
   "execution_count": 19,
   "metadata": {},
   "outputs": [
    {
     "data": {
      "text/html": [
       "<h3>Version Information</h3><table><tr><th>Qiskit Software</th><th>Version</th></tr><tr><td>Qiskit</td><td>0.26.2</td></tr><tr><td>Terra</td><td>0.17.4</td></tr><tr><td>Aer</td><td>0.8.2</td></tr><tr><td>Ignis</td><td>0.6.0</td></tr><tr><td>Aqua</td><td>0.9.1</td></tr><tr><td>IBM Q Provider</td><td>0.13.1</td></tr><tr><th>System information</th></tr><tr><td>Python</td><td>3.8.3 (default, Jul  2 2020, 17:30:36) [MSC v.1916 64 bit (AMD64)]</td></tr><tr><td>OS</td><td>Windows</td></tr><tr><td>CPUs</td><td>2</td></tr><tr><td>Memory (Gb)</td><td>7.881378173828125</td></tr><tr><td colspan='2'>Wed Jul 14 13:47:38 2021 W. Europe Daylight Time</td></tr></table>"
      ],
      "text/plain": [
       "<IPython.core.display.HTML object>"
      ]
     },
     "metadata": {},
     "output_type": "display_data"
    },
    {
     "data": {
      "text/html": [
       "<div style='width: 100%; background-color:#d5d9e0;padding-left: 10px; padding-bottom: 10px; padding-right: 10px; padding-top: 5px'><h3>This code is a part of Qiskit</h3><p>&copy; Copyright IBM 2017, 2021.</p><p>This code is licensed under the Apache License, Version 2.0. You may<br>obtain a copy of this license in the LICENSE.txt file in the root directory<br> of this source tree or at http://www.apache.org/licenses/LICENSE-2.0.<p>Any modifications or derivative works of this code must retain this<br>copyright notice, and modified files need to carry a notice indicating<br>that they have been altered from the originals.</p></div>"
      ],
      "text/plain": [
       "<IPython.core.display.HTML object>"
      ]
     },
     "metadata": {},
     "output_type": "display_data"
    }
   ],
   "source": [
    "import qiskit.tools.jupyter\n",
    "%qiskit_version_table\n",
    "%qiskit_copyright"
   ]
  }
 ],
 "metadata": {
  "kernelspec": {
   "display_name": "Python 3",
   "language": "python",
   "name": "python3"
  },
  "language_info": {
   "codemirror_mode": {
    "name": "ipython",
    "version": 3
   },
   "file_extension": ".py",
   "mimetype": "text/x-python",
   "name": "python",
   "nbconvert_exporter": "python",
   "pygments_lexer": "ipython3",
   "version": "3.8.3"
  }
 },
 "nbformat": 4,
 "nbformat_minor": 4
}
