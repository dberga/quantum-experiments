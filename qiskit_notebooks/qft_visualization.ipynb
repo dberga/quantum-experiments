{
 "cells": [
  {
   "cell_type": "markdown",
   "id": "0e48b057-c9cc-4511-8a28-ca739505ed38",
   "metadata": {},
   "source": [
    "## Visualizing QFT"
   ]
  },
  {
   "cell_type": "code",
   "execution_count": null,
   "id": "633818bf-51e6-448c-9fde-3555d2f159ee",
   "metadata": {},
   "outputs": [],
   "source": [
    "!pip install qiskit\n",
    "!pip install pylatexenc\n",
    "!pip install imageio"
   ]
  },
  {
   "cell_type": "code",
   "execution_count": 2,
   "id": "19d28812-8811-44ac-b455-d3412bc7ee4a",
   "metadata": {},
   "outputs": [],
   "source": [
    "import imageio\n",
    "import numpy as np\n",
    "from qiskit import QuantumCircuit, assemble, Aer, execute\n",
    "from math import pi, sqrt, sin,cos\n",
    "from qiskit.visualization import plot_bloch_multivector, plot_histogram\n",
    "sim = Aer.get_backend('aer_simulator')"
   ]
  },
  {
   "cell_type": "code",
   "execution_count": 3,
   "id": "02b3c46e-8eac-4f70-8dae-c92e7e65e697",
   "metadata": {},
   "outputs": [],
   "source": [
    "# Taken from Qiskit tutorial\n",
    "def qft_rotations(circuit, n):\n",
    "    \"\"\"Performs qft on the first n qubits in circuit (without swaps)\"\"\"\n",
    "    if n == 0:\n",
    "        return circuit\n",
    "    n -= 1\n",
    "    circuit.h(n)\n",
    "    for qubit in range(n):\n",
    "        circuit.cp(pi/2**(n-qubit), qubit, n)\n",
    "    # At the end of our function, we call the same function again on\n",
    "    # the next qubits (we reduced n by one earlier in the function)\n",
    "    qft_rotations(circuit, n)\n",
    "\n",
    "def swap_registers(circuit, n):\n",
    "    for qubit in range(n//2):\n",
    "        circuit.swap(qubit, n-qubit-1)\n",
    "    return circuit\n",
    "\n",
    "def qft(circuit, n):\n",
    "    \"\"\"QFT on the first n qubits in circuit\"\"\"\n",
    "    qft_rotations(circuit, n)\n",
    "    swap_registers(circuit, n)\n",
    "    return circuit"
   ]
  },
  {
   "cell_type": "code",
   "execution_count": 5,
   "id": "113aea66-613b-4d25-95e6-2f352362adaa",
   "metadata": {},
   "outputs": [],
   "source": [
    "\n",
    "\n",
    "def visualize_qft(n_qubits,init_func,steps=10, fps=5,figname='states.gif'):\n",
    "    n = n_qubits\n",
    "    \n",
    "    init_states = list(map(init_func,[i/(steps-1) for i in range(steps) ]))\n",
    "\n",
    "    for s_i, init_state in enumerate(init_states):\n",
    "\n",
    "        for p in range(2):\n",
    "            qc = QuantumCircuit(n,n)\n",
    "\n",
    "            for i in range(len(init_state)):\n",
    "                #qc.ry(pi*0.5,i)# TODO\n",
    "                #qc.rz(init_state[i],i)\n",
    "                qc.rx(init_state[i],i)\n",
    "\n",
    "            if p == 0:\n",
    "                # Save encoded input\n",
    "                qc.save_statevector()\n",
    "                qobj = assemble(qc)\n",
    "\n",
    "                state = sim.run(qobj).result().get_statevector()\n",
    "                plot_bloch_multivector(state,filename = f'state_input_{s_i}.png')\n",
    "                continue\n",
    "\n",
    "            # Save QFT output\n",
    "            qc = qft(qc,n)\n",
    "\n",
    "            qc.save_statevector()\n",
    "            qobj = assemble(qc)\n",
    "\n",
    "            state = sim.run(qobj).result().get_statevector()\n",
    "            plot_bloch_multivector(state,filename = f'state_{s_i}.png')\n",
    "\n",
    "    images = []\n",
    "    for filename_input,filename_output in [ (f'state_input_{s_i}.png',f'state_{s_i}.png') for s_i in range(len(init_states))]:\n",
    "        im_in = imageio.imread(filename_input)\n",
    "        im_out = imageio.imread(filename_output)\n",
    "                                             \n",
    "        im = np.concatenate([im_in,im_out])\n",
    "        images.append(im)\n",
    "    imageio.mimsave(figname, images, duration=1./fps)\n",
    "\n",
    "    print('DONE. Saved {}'.format(figname))\n",
    "\n"
   ]
  },
  {
   "cell_type": "markdown",
   "id": "9a31ad18-639e-4201-be85-5a30a74ae03f",
   "metadata": {},
   "source": [
    "## Visualize specific cases"
   ]
  },
  {
   "cell_type": "code",
   "execution_count": 6,
   "id": "be7ecb38-85ba-4db2-a88f-12c823510084",
   "metadata": {},
   "outputs": [
    {
     "name": "stdout",
     "output_type": "stream",
     "text": [
      "DONE. Saved states_bitencode.gif\n"
     ]
    }
   ],
   "source": [
    "# Binary encoding\n",
    "n = 4\n",
    "steps = 2**n\n",
    "\n",
    "def sweep_bitencode(p):\n",
    "    s = []\n",
    "    i = int(p*(steps-1))\n",
    "    for d in range(n):\n",
    "        s.append( pi*(i//(2**d) % 2))\n",
    "    \n",
    "    return s\n",
    "\n",
    "\n",
    "visualize_qft(n_qubits=n,init_func=sweep_bitencode,steps=steps,fps=1,figname='states_bitencode.gif')"
   ]
  },
  {
   "cell_type": "markdown",
   "id": "f989aa79-ea1c-4358-bd7d-05ecd665849d",
   "metadata": {},
   "source": [
    "<img src=\"states_bitencode.gif\" width=\"100%\" align=\"center\">"
   ]
  },
  {
   "cell_type": "code",
   "execution_count": 7,
   "id": "eabcc837-f107-4abc-bf6f-181cfa5cd0e9",
   "metadata": {},
   "outputs": [
    {
     "name": "stdout",
     "output_type": "stream",
     "text": [
      "DONE. Saved states.gif\n"
     ]
    }
   ],
   "source": [
    "# Sweep qubit0 rotation\n",
    "n = 4\n",
    "def sweep_qubit0(p):\n",
    "    s = [0.0 for _ in range(n)]\n",
    "    s[0] = pi*p\n",
    "    return s\n",
    "\n",
    "\n",
    "visualize_qft(n_qubits=n,init_func=sweep_qubit0)"
   ]
  },
  {
   "cell_type": "markdown",
   "id": "e8a98640-8397-4e34-99e0-cf5e5b7577a1",
   "metadata": {
    "tags": []
   },
   "source": [
    "\n",
    "<img src=\"states.gif\" width=\"100%\" align=\"center\">"
   ]
  }
 ],
 "metadata": {
  "kernelspec": {
   "display_name": "Python 3",
   "language": "python",
   "name": "python3"
  },
  "language_info": {
   "codemirror_mode": {
    "name": "ipython",
    "version": 3
   },
   "file_extension": ".py",
   "mimetype": "text/x-python",
   "name": "python",
   "nbconvert_exporter": "python",
   "pygments_lexer": "ipython3",
   "version": "3.7.9"
  }
 },
 "nbformat": 4,
 "nbformat_minor": 5
}
