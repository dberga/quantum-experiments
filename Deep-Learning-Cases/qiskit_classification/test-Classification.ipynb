{
 "cells": [
  {
   "cell_type": "code",
   "execution_count": 1,
   "id": "964ecf2a",
   "metadata": {},
   "outputs": [],
   "source": [
    "# Necessary imports\n",
    "import os\n",
    "import sys\n",
    "import numpy as np\n",
    "import matplotlib.pyplot as plt\n",
    "%matplotlib inline\n",
    "import argparse\n",
    "\n",
    "from torch import Tensor\n",
    "\n",
    "from qiskit import Aer, QuantumCircuit, BasicAer\n",
    "from qiskit.utils import QuantumInstance, algorithm_globals\n",
    "from qiskit.opflow import AerPauliExpectation\n",
    "from qiskit.circuit import Parameter\n",
    "from qiskit.circuit.library import RealAmplitudes, ZZFeatureMap\n",
    "from qiskit_machine_learning.neural_networks import CircuitQNN, TwoLayerQNN\n",
    "from qiskit_machine_learning.connectors import TorchConnector\n",
    "\n",
    "from qiskit.aqua.algorithms import QSVM\n",
    "from qiskit.aqua.components.multiclass_extensions import AllPairs\n",
    "from qiskit.aqua.utils.dataset_helper import get_feature_dimension\n",
    "\n",
    "sys.path.insert(1, os.path.join(sys.path[0], '..'))\n",
    "from quantic.data import DatasetLoader\n",
    "    \n",
    "# Additional torch-related imports\n",
    "from torch import no_grad, manual_seed\n",
    "from torch.utils.data import DataLoader\n",
    "from torchvision import datasets, transforms\n",
    "import numpy as np # calc\n",
    "import matplotlib.pyplot as plt # plots\n",
    "from torchviz import make_dot # visualization\n",
    "\n",
    "import torch.optim as optim # Adam, SGD, LBFGS\n",
    "from torch.nn import CrossEntropyLoss # CrossEntropyLoss, MSELoss, L1Loss, BCELoss, NLLLoss\n",
    "from qnetworks import HybridQNN_Shallow\n",
    "from qnetworks import HybridQNN\n",
    "\n",
    "#time\n",
    "import timeit\n"
   ]
  },
  {
   "cell_type": "code",
   "execution_count": 2,
   "id": "4ae932ce",
   "metadata": {},
   "outputs": [
    {
     "name": "stdout",
     "output_type": "stream",
     "text": [
      "['0', '1', '2']\n"
     ]
    }
   ],
   "source": [
    "# network args\n",
    "n_classes = 3\n",
    "n_qubits = 3\n",
    "n_features = None\n",
    "if n_features is None:\n",
    "    n_features = n_qubits\n",
    "network = \"hybridqnn_shallow\" #\"hybridqnn_shallow\"\n",
    "# train args\n",
    "batch_size = 8 #8\n",
    "epochs = 10 #30\n",
    "LR = 0.001 #0.0001\n",
    "n_samples_train = 100 #256 #128\n",
    "n_samples_test = 50 #32 #64\n",
    "# plot args\n",
    "n_samples_show = batch_size*3\n",
    "# dataset args\n",
    "shuffle = True\n",
    "dataset = \"MNIST\" # MNIST / CIFAR10 / CIFAR100, any from pytorch\n",
    "dataset_cfg = \"\" # this is by reading a json with params, check datasets/ folder examples\n",
    "specific_classes_names = ['0','1','2'] # ['0','1'] # selected (filtered) classes\n",
    "print(specific_classes_names)\n",
    "use_specific_classes = len(specific_classes_names)>=n_classes\n",
    "# preprocessing\n",
    "input_resolution = (28,28) #(32,32) # please check n_filts required on fc1/fc2 to input to qnn\n",
    "resize_interpolation = transforms.functional.InterpolationMode.BILINEAR \n",
    "\n",
    "# Set seed for random generators\n",
    "rand_seed = np.random.randint(50)\n",
    "algorithm_globals.random_seed = rand_seed\n",
    "manual_seed(rand_seed) # Set train shuffle seed (for reproducibility)\n",
    "\n",
    "if not os.path.exists(\"plots\"):\n",
    "    os.mkdir(\"plots\")"
   ]
  },
  {
   "cell_type": "code",
   "execution_count": 3,
   "id": "c0ce65b9",
   "metadata": {},
   "outputs": [
    {
     "name": "stdout",
     "output_type": "stream",
     "text": [
      "Dataset partitions: ['train', 'test']\n",
      "1 channels\n"
     ]
    }
   ],
   "source": [
    "\n",
    "\n",
    "######## PREPARE DATASETS\n",
    "time_start = timeit.timeit()\n",
    "\n",
    "# Train Dataset\n",
    "# -------------\n",
    "\n",
    "if dataset_cfg:\n",
    "    # Load a dataset configuration file\n",
    "    dataset = DatasetLoader.load(from_cfg=dataset_cfg,framework='torchvision')\n",
    "else:\n",
    "    # Or instantate dataset manually\n",
    "    dataset = DatasetLoader.load(dataset_type=dataset,\n",
    "                                   num_classes=n_classes,\n",
    "                                   specific_classes=specific_classes_names,\n",
    "                                   num_samples_class_train=n_samples_train,\n",
    "                                   num_samples_class_test=n_samples_test,\n",
    "                                   framework='torchvision'\n",
    "                                   )\n",
    "print(f'Dataset partitions: {dataset.get_partitions()}')\n",
    "\n",
    "X_train = dataset['train']\n",
    "X_test = dataset['test']\n",
    "\n",
    "# Get channels (rgb or grayscale)\n",
    "if len(X_train.data.shape)>3: # 3d image (rgb+)\n",
    "    n_channels = X_train.data.shape[3]\n",
    "else: # 2d image (grayscale)\n",
    "    n_channels = 1\n",
    "print(f\"{n_channels} channels\")\n",
    "\n",
    "# Set preprocessing transforms\n",
    "list_preprocessing = [\n",
    "    transforms.Resize(input_resolution),\n",
    "    transforms.ToTensor(),\n",
    "    transforms.Lambda(lambda x: x.repeat(3, 1, 1) if x.size(0)>1 else x)\n",
    "]\n",
    "#transforms.Normalize((0.5, 0.5, 0.5), (0.5, 0.5, 0.5))\n",
    "X_train.transform= transforms.Compose(list_preprocessing)\n",
    "X_test.transform = transforms.Compose(list_preprocessing)           \n",
    "\n",
    "# set filtered/specific class names\n",
    "classes_str = \",\".join(dataset.specific_classes_names)\n",
    "classes2spec = {}\n",
    "specific_classes = dataset.specific_classes\n",
    "for idx, class_idx in enumerate(specific_classes):\n",
    "    classes2spec[class_idx]=idx\n",
    "\n",
    "classes_list = dataset.classes\n",
    "n_samples = n_samples_test"
   ]
  },
  {
   "cell_type": "code",
   "execution_count": 4,
   "id": "22b33c92",
   "metadata": {},
   "outputs": [
    {
     "name": "stdout",
     "output_type": "stream",
     "text": [
      "Dataloaders elapsed time: -0.0003009289503097534 s\n"
     ]
    }
   ],
   "source": [
    "# Define torch dataloader with filtered data\n",
    "train_loader = DataLoader(X_train, batch_size=batch_size, shuffle=shuffle)\n",
    "# Define torch dataloader with filtered data\n",
    "test_loader = DataLoader(X_test, batch_size=batch_size, shuffle=shuffle)\n",
    "\n",
    "time_end = timeit.timeit()\n",
    "time_elapsed = time_end - time_start\n",
    "print(f\"Dataloaders elapsed time: {time_elapsed} s\")"
   ]
  },
  {
   "cell_type": "code",
   "execution_count": 5,
   "id": "71d23142",
   "metadata": {},
   "outputs": [
    {
     "data": {
      "text/plain": [
       "<Figure size 432x288 with 0 Axes>"
      ]
     },
     "metadata": {},
     "output_type": "display_data"
    },
    {
     "data": {
      "image/png": "[encoded data removed]",
      "text/plain": [
       "<Figure size 72x1728 with 24 Axes>"
      ]
     },
     "metadata": {
      "needs_background": "light"
     },
     "output_type": "display_data"
    },
    {
     "data": {
      "text/plain": [
       "<Figure size 432x288 with 0 Axes>"
      ]
     },
     "metadata": {},
     "output_type": "display_data"
    },
    {
     "data": {
      "image/png": "[encoded data removed]",
      "text/plain": [
       "<Figure size 72x1656 with 24 Axes>"
      ]
     },
     "metadata": {
      "needs_background": "light"
     },
     "output_type": "display_data"
    },
    {
     "data": {
      "text/plain": [
       "<Figure size 432x288 with 0 Axes>"
      ]
     },
     "metadata": {},
     "output_type": "display_data"
    },
    {
     "data": {
      "image/png": "[encoded data removed]",
      "text/plain": [
       "<Figure size 72x1584 with 24 Axes>"
      ]
     },
     "metadata": {
      "needs_background": "light"
     },
     "output_type": "display_data"
    },
    {
     "data": {
      "text/plain": [
       "<Figure size 432x288 with 0 Axes>"
      ]
     },
     "metadata": {},
     "output_type": "display_data"
    },
    {
     "data": {
      "image/png": "[encoded data removed]",
      "text/plain": [
       "<Figure size 72x1512 with 24 Axes>"
      ]
     },
     "metadata": {
      "needs_background": "light"
     },
     "output_type": "display_data"
    },
    {
     "data": {
      "text/plain": [
       "<Figure size 432x288 with 0 Axes>"
      ]
     },
     "metadata": {},
     "output_type": "display_data"
    },
    {
     "data": {
      "image/png": "[encoded data removed]",
      "text/plain": [
       "<Figure size 72x1440 with 24 Axes>"
      ]
     },
     "metadata": {
      "needs_background": "light"
     },
     "output_type": "display_data"
    },
    {
     "data": {
      "text/plain": [
       "<Figure size 432x288 with 0 Axes>"
      ]
     },
     "metadata": {},
     "output_type": "display_data"
    },
    {
     "data": {
      "image/png": "[encoded data removed]",
      "text/plain": [
       "<Figure size 72x1368 with 24 Axes>"
      ]
     },
     "metadata": {
      "needs_background": "light"
     },
     "output_type": "display_data"
    },
    {
     "data": {
      "text/plain": [
       "<Figure size 432x288 with 0 Axes>"
      ]
     },
     "metadata": {},
     "output_type": "display_data"
    },
    {
     "data": {
      "image/png": "[encoded data removed]",
      "text/plain": [
       "<Figure size 72x1296 with 24 Axes>"
      ]
     },
     "metadata": {
      "needs_background": "light"
     },
     "output_type": "display_data"
    },
    {
     "data": {
      "text/plain": [
       "<Figure size 432x288 with 0 Axes>"
      ]
     },
     "metadata": {},
     "output_type": "display_data"
    },
    {
     "data": {
      "image/png": "[encoded data removed]",
      "text/plain": [
       "<Figure size 72x1224 with 24 Axes>"
      ]
     },
     "metadata": {
      "needs_background": "light"
     },
     "output_type": "display_data"
    },
    {
     "data": {
      "text/plain": [
       "<Figure size 432x288 with 0 Axes>"
      ]
     },
     "metadata": {},
     "output_type": "display_data"
    },
    {
     "data": {
      "image/png": "[encoded data removed]",
      "text/plain": [
       "<Figure size 72x1152 with 24 Axes>"
      ]
     },
     "metadata": {
      "needs_background": "light"
     },
     "output_type": "display_data"
    },
    {
     "data": {
      "text/plain": [
       "<Figure size 432x288 with 0 Axes>"
      ]
     },
     "metadata": {},
     "output_type": "display_data"
    },
    {
     "data": {
      "image/png": "[encoded data removed]",
      "text/plain": [
       "<Figure size 72x1080 with 24 Axes>"
      ]
     },
     "metadata": {
      "needs_background": "light"
     },
     "output_type": "display_data"
    },
    {
     "data": {
      "text/plain": [
       "<Figure size 432x288 with 0 Axes>"
      ]
     },
     "metadata": {},
     "output_type": "display_data"
    },
    {
     "data": {
      "image/png": "[encoded data removed]",
      "text/plain": [
       "<Figure size 72x1008 with 24 Axes>"
      ]
     },
     "metadata": {
      "needs_background": "light"
     },
     "output_type": "display_data"
    },
    {
     "data": {
      "text/plain": [
       "<Figure size 432x288 with 0 Axes>"
      ]
     },
     "metadata": {},
     "output_type": "display_data"
    },
    {
     "data": {
      "image/png": "[encoded data removed]",
      "text/plain": [
       "<Figure size 72x936 with 24 Axes>"
      ]
     },
     "metadata": {
      "needs_background": "light"
     },
     "output_type": "display_data"
    },
    {
     "data": {
      "text/plain": [
       "<Figure size 432x288 with 0 Axes>"
      ]
     },
     "metadata": {},
     "output_type": "display_data"
    },
    {
     "data": {
      "image/png": "[encoded data removed]",
      "text/plain": [
       "<Figure size 72x864 with 24 Axes>"
      ]
     },
     "metadata": {
      "needs_background": "light"
     },
     "output_type": "display_data"
    },
    {
     "data": {
      "text/plain": [
       "<Figure size 432x288 with 0 Axes>"
      ]
     },
     "metadata": {},
     "output_type": "display_data"
    },
    {
     "data": {
      "image/png": "[encoded data removed]",
      "text/plain": [
       "<Figure size 72x792 with 24 Axes>"
      ]
     },
     "metadata": {
      "needs_background": "light"
     },
     "output_type": "display_data"
    },
    {
     "data": {
      "text/plain": [
       "<Figure size 432x288 with 0 Axes>"
      ]
     },
     "metadata": {},
     "output_type": "display_data"
    },
    {
     "data": {
      "image/png": "[encoded data removed]",
      "text/plain": [
       "<Figure size 72x720 with 24 Axes>"
      ]
     },
     "metadata": {
      "needs_background": "light"
     },
     "output_type": "display_data"
    },
    {
     "data": {
      "text/plain": [
       "<Figure size 432x288 with 0 Axes>"
      ]
     },
     "metadata": {},
     "output_type": "display_data"
    },
    {
     "data": {
      "image/png": "[encoded data removed]",
      "text/plain": [
       "<Figure size 72x648 with 24 Axes>"
      ]
     },
     "metadata": {
      "needs_background": "light"
     },
     "output_type": "display_data"
    },
    {
     "data": {
      "text/plain": [
       "<Figure size 432x288 with 0 Axes>"
      ]
     },
     "metadata": {},
     "output_type": "display_data"
    },
    {
     "data": {
      "image/png": "[encoded data removed]",
      "text/plain": [
       "<Figure size 72x576 with 24 Axes>"
      ]
     },
     "metadata": {
      "needs_background": "light"
     },
     "output_type": "display_data"
    },
    {
     "data": {
      "text/plain": [
       "<Figure size 432x288 with 0 Axes>"
      ]
     },
     "metadata": {},
     "output_type": "display_data"
    },
    {
     "data": {
      "image/png": "[encoded data removed]",
      "text/plain": [
       "<Figure size 72x504 with 24 Axes>"
      ]
     },
     "metadata": {
      "needs_background": "light"
     },
     "output_type": "display_data"
    },
    {
     "data": {
      "text/plain": [
       "<Figure size 432x288 with 0 Axes>"
      ]
     },
     "metadata": {},
     "output_type": "display_data"
    },
    {
     "data": {
      "image/png": "[encoded data removed]",
      "text/plain": [
       "<Figure size 72x432 with 24 Axes>"
      ]
     },
     "metadata": {
      "needs_background": "light"
     },
     "output_type": "display_data"
    },
    {
     "data": {
      "text/plain": [
       "<Figure size 432x288 with 0 Axes>"
      ]
     },
     "metadata": {},
     "output_type": "display_data"
    },
    {
     "data": {
      "image/png": "[encoded data removed]",
      "text/plain": [
       "<Figure size 72x360 with 24 Axes>"
      ]
     },
     "metadata": {
      "needs_background": "light"
     },
     "output_type": "display_data"
    },
    {
     "data": {
      "text/plain": [
       "<Figure size 432x288 with 0 Axes>"
      ]
     },
     "metadata": {},
     "output_type": "display_data"
    },
    {
     "data": {
      "image/png": "[encoded data removed]",
      "text/plain": [
       "<Figure size 72x288 with 24 Axes>"
      ]
     },
     "metadata": {
      "needs_background": "light"
     },
     "output_type": "display_data"
    },
    {
     "data": {
      "text/plain": [
       "<Figure size 432x288 with 0 Axes>"
      ]
     },
     "metadata": {},
     "output_type": "display_data"
    },
    {
     "data": {
      "image/png": "[encoded data removed]",
      "text/plain": [
       "<Figure size 72x216 with 24 Axes>"
      ]
     },
     "metadata": {
      "needs_background": "light"
     },
     "output_type": "display_data"
    },
    {
     "data": {
      "text/plain": [
       "<Figure size 432x288 with 0 Axes>"
      ]
     },
     "metadata": {},
     "output_type": "display_data"
    },
    {
     "data": {
      "image/png": "[encoded data removed]",
      "text/plain": [
       "<Figure size 72x144 with 24 Axes>"
      ]
     },
     "metadata": {
      "needs_background": "light"
     },
     "output_type": "display_data"
    },
    {
     "data": {
      "text/plain": [
       "<Figure size 432x288 with 0 Axes>"
      ]
     },
     "metadata": {},
     "output_type": "display_data"
    },
    {
     "data": {
      "image/png": "[encoded data removed]",
      "text/plain": [
       "<Figure size 72x72 with 24 Axes>"
      ]
     },
     "metadata": {
      "needs_background": "light"
     },
     "output_type": "display_data"
    }
   ],
   "source": [
    "##### VISUALIZE LABELS\n",
    "data_iter = iter(train_loader)\n",
    "n_samples_show_alt = n_samples_show\n",
    "while n_samples_show_alt > 0:\n",
    "    try:\n",
    "        images, targets = data_iter.__next__()\n",
    "    except:\n",
    "        break\n",
    "    plt.clf()\n",
    "    fig, axes = plt.subplots(nrows=1, ncols=n_samples_show, figsize=(1, n_samples_show_alt)) #n_samples_show*2, batch_size*3\n",
    "    if n_samples_show == 1:\n",
    "        axes = [axes]\n",
    "    for idx, image in enumerate(images):\n",
    "        axes[idx].imshow(np.moveaxis(images[idx].numpy().squeeze(),0,-1))\n",
    "        axes[idx].set_xticks([])\n",
    "        axes[idx].set_yticks([])\n",
    "        class_label = classes_list[targets[idx].item()]\n",
    "        axes[idx].set_title(\"Labeled: {}\".format(class_label))\n",
    "        if idx > n_samples_show:\n",
    "            #plt.savefig(f\"plots/{dataset}_classification{classes_str}_subplots{n_samples_show_alt}_lr{LR}_labeled_q{n_qubits}_{n_samples}samples_bsize{batch_size}_{epochs}epoch.png\")\n",
    "            break\n",
    "    plt.show()\n",
    "    n_samples_show_alt -= 1\n",
    "    "
   ]
  },
  {
   "cell_type": "code",
   "execution_count": 6,
   "id": "79126128",
   "metadata": {},
   "outputs": [
    {
     "name": "stdout",
     "output_type": "stream",
     "text": [
      "Network init elapsed time: -0.0007336437702178955 s\n"
     ]
    }
   ],
   "source": [
    "##### DESIGN NETWORK\n",
    "time_start = timeit.timeit()\n",
    "\n",
    "# init network\n",
    "if network == \"hybridqnn_shallow\":\n",
    "    ## predefine number of input filters to fc1 and fc2\n",
    "    # examples: 13456 for (128x128x1), 59536 for (256x256x1), 256 for (28x28x1), 400 for (28x28x3) or (35x35x1) \n",
    "    if n_channels == 1:\n",
    "        n_filts_fc1 = int(((((input_resolution[0]-4)/2)-4)/2)**2)*16\n",
    "    else:\n",
    "        n_filts_fc1 = int(((((input_resolution[0]+7-4)/2)-4)/2)**2)*16\n",
    "    n_filts_fc2 = int(n_filts_fc1 / 4)\n",
    "\n",
    "    # declare quantum instance\n",
    "    qi = QuantumInstance(Aer.get_backend(\"aer_simulator_statevector\"))\n",
    "    # Define QNN\n",
    "    feature_map = ZZFeatureMap(n_features)\n",
    "    ansatz = RealAmplitudes(n_qubits, reps=1)\n",
    "    # REMEMBER TO SET input_gradients=True FOR ENABLING HYBRID GRADIENT BACKPROP\n",
    "    qnn = TwoLayerQNN(\n",
    "        n_qubits, feature_map, ansatz, input_gradients=True, exp_val=AerPauliExpectation(), quantum_instance=qi\n",
    "    )\n",
    "    model = HybridQNN_Shallow(n_classes = n_classes, n_qubits = n_qubits, n_channels = n_channels, n_filts_fc1 = n_filts_fc1, n_filts_fc2 = n_filts_fc2, qnn = qnn)\n",
    "\n",
    "    # Define model, optimizer, and loss function\n",
    "    optimizer = optim.Adam(model.parameters(), lr=LR)\n",
    "    loss_func = CrossEntropyLoss()\n",
    "\n",
    "elif network == \"QSVM\":\n",
    "    backend = BasicAer.get_backend('qasm_simulator')\n",
    "\n",
    "    # todo: fix this transformation for QSVM\n",
    "    train_input = X_train.targets\n",
    "    test_input = X_test.targets\n",
    "    total_array = np.concatenate([test_input[k] for k in test_input])\n",
    "    feature_map = ZZFeatureMap(feature_dimension=get_feature_dimension(train_input),\n",
    "                               reps=2, entanglement='linear')\n",
    "    model = QSVM(feature_map, train_input, test_input, total_array,\n",
    "               multiclass_extension=AllPairs())\n",
    "    quantum_instance = QuantumInstance(backend, shots=1024,\n",
    "                                       seed_simulator=algorithm_globals.random_seed,\n",
    "                                       seed_transpiler=algorithm_globals.random_seed)\n",
    "else:\n",
    "    # declare quantum instance\n",
    "    qi = QuantumInstance(Aer.get_backend(\"aer_simulator_statevector\"))\n",
    "    # Define model, optimizer, and loss function\n",
    "    model = HybridQNN(backbone=network,pretrained=True,n_qubits=n_qubits,n_classes=n_classes,n_channels=n_channels)\n",
    "    optimizer = optim.Adam(model.network.parameters(), lr=LR)\n",
    "    loss_func = CrossEntropyLoss()\n",
    "\n",
    "\n",
    "time_end = timeit.timeit()\n",
    "time_elapsed = time_end - time_start\n",
    "print(f\"Network init elapsed time: {time_elapsed} s\")\n",
    "\n"
   ]
  },
  {
   "cell_type": "code",
   "execution_count": 7,
   "id": "328cf0d3",
   "metadata": {},
   "outputs": [
    {
     "data": {
      "image/png": "[encoded data removed]",
      "text/plain": [
       "<Figure size 447.797x204.68 with 1 Axes>"
      ]
     },
     "metadata": {},
     "output_type": "display_data"
    },
    {
     "name": "stdout",
     "output_type": "stream",
     "text": [
      "HybridQNN_Shallow(\n",
      "  (conv1): Conv2d(1, 2, kernel_size=(5, 5), stride=(1, 1))\n",
      "  (conv2): Conv2d(2, 16, kernel_size=(5, 5), stride=(1, 1))\n",
      "  (dropout): Dropout2d(p=0.5, inplace=False)\n",
      "  (fc1): Linear(in_features=256, out_features=64, bias=True)\n",
      "  (fc2): Linear(in_features=64, out_features=3, bias=True)\n",
      "  (qnn): TorchConnector()\n",
      "  (fc3): Linear(in_features=1, out_features=3, bias=True)\n",
      ")\n"
     ]
    },
    {
     "data": {
      "text/plain": [
       "' # Error getting statevector from_instruction: ParameterExpression with unbound parameters ({ParameterVectorElement(x[0])}) cannot be cast to a float.\\nfrom qiskit.quantum_info import Statevector\\nfrom qiskit.visualization import plot_bloch_multivector\\nstate = Statevector.from_instruction(qnn.circuit)\\nplot_bloch_multivector(state)\\n'"
      ]
     },
     "execution_count": 7,
     "metadata": {},
     "output_type": "execute_result"
    }
   ],
   "source": [
    "# Visualize architecture\n",
    "if network == \"QSVM\":\n",
    "    quantum_instance.circuit_summary()\n",
    "    \n",
    "elif network == \"hybridqnn_shallow\":\n",
    "    # Visualize circuit\n",
    "    display(qnn.circuit.draw(output=\"mpl\")) #print(qnn.operator)\n",
    "    # Visualize network\n",
    "    print(model)\n",
    "else:\n",
    "    # Visualize circuit\n",
    "    display(model.qnn.circuit.draw(output=\"mpl\")) #print(qnn.operator)\n",
    "    # Visualize network\n",
    "    print(model)\n",
    "    \n",
    "''' # Pending to install graphviz with admin account (sudo apt install graphviz)\n",
    "for batch_idx, (data, target) in enumerate(train_loader):\n",
    "    make_dot(model(data), params=dict(list(model.named_parameters()))).render(\"rnn_torchviz\", format=\"png\")\n",
    "    break\n",
    "'''\n",
    "# Getting Statevector\n",
    "''' # Error getting statevector from_instruction: ParameterExpression with unbound parameters ({ParameterVectorElement(x[0])}) cannot be cast to a float.\n",
    "from qiskit.quantum_info import Statevector\n",
    "from qiskit.visualization import plot_bloch_multivector\n",
    "state = Statevector.from_instruction(qnn.circuit)\n",
    "plot_bloch_multivector(state)\n",
    "'''\n",
    "\n",
    "    "
   ]
  },
  {
   "cell_type": "code",
   "execution_count": 8,
   "id": "50a19aea",
   "metadata": {},
   "outputs": [
    {
     "name": "stdout",
     "output_type": "stream",
     "text": [
      "Batch 0, Loss: 1.2183328866958618\n",
      "Batch 1, Loss: 1.3373578786849976\n",
      "Batch 2, Loss: 1.1311742067337036\n",
      "Batch 3, Loss: 1.3040521144866943\n",
      "Batch 4, Loss: 1.1304173469543457\n",
      "Batch 5, Loss: 1.3482733964920044\n",
      "Batch 6, Loss: 1.1740844249725342\n",
      "Batch 7, Loss: 1.438738465309143\n",
      "Batch 8, Loss: 1.1707205772399902\n",
      "Batch 9, Loss: 0.6926089525222778\n",
      "Batch 10, Loss: 0.8265414237976074\n",
      "Batch 11, Loss: 1.1303737163543701\n",
      "Batch 12, Loss: 1.2646307945251465\n",
      "Batch 13, Loss: 1.0549461841583252\n",
      "Batch 14, Loss: 0.9596577882766724\n",
      "Batch 15, Loss: 1.44894278049469\n",
      "Batch 16, Loss: 1.1667547225952148\n",
      "Batch 17, Loss: 1.21053147315979\n",
      "Batch 18, Loss: 1.576637864112854\n",
      "Batch 19, Loss: 1.3233623504638672\n",
      "Batch 20, Loss: 1.1774965524673462\n",
      "Batch 21, Loss: 1.0954986810684204\n",
      "Batch 22, Loss: 1.1799770593643188\n",
      "Batch 23, Loss: 1.1477866172790527\n",
      "Batch 24, Loss: 1.4421910047531128\n",
      "Batch 25, Loss: 1.2540501356124878\n",
      "Batch 26, Loss: 1.220682978630066\n",
      "Batch 27, Loss: 1.138924479484558\n",
      "Batch 28, Loss: 1.1133941411972046\n",
      "Batch 29, Loss: 1.545890212059021\n",
      "Batch 30, Loss: 0.6845080256462097\n",
      "Batch 31, Loss: 1.2274532318115234\n",
      "Batch 32, Loss: 0.9497156739234924\n",
      "Batch 33, Loss: 0.8235666751861572\n",
      "Batch 34, Loss: 1.0002076625823975\n",
      "Batch 35, Loss: 0.9090954661369324\n",
      "Batch 36, Loss: 0.8346115350723267\n",
      "Batch 37, Loss: 0.7739098072052002\n",
      "Training [10%]\tLoss: 1.1428\n",
      "Batch 0, Loss: 1.1707990169525146\n",
      "Batch 1, Loss: 1.221941351890564\n",
      "Batch 2, Loss: 1.0328755378723145\n",
      "Batch 3, Loss: 0.6753435730934143\n",
      "Batch 4, Loss: 0.8269076943397522\n",
      "Batch 5, Loss: 1.1787358522415161\n",
      "Batch 6, Loss: 0.8183032274246216\n",
      "Batch 7, Loss: 0.9350122213363647\n",
      "Batch 8, Loss: 0.623879075050354\n",
      "Batch 9, Loss: 1.0329904556274414\n",
      "Batch 10, Loss: 1.1144423484802246\n",
      "Batch 11, Loss: 1.559328556060791\n",
      "Batch 12, Loss: 0.8014236092567444\n",
      "Batch 13, Loss: 0.7834205627441406\n",
      "Batch 14, Loss: 1.210167407989502\n",
      "Batch 15, Loss: 0.6653916239738464\n",
      "Batch 16, Loss: 1.0901554822921753\n",
      "Batch 17, Loss: 1.124386191368103\n",
      "Batch 18, Loss: 0.6977517008781433\n",
      "Batch 19, Loss: 0.9084106087684631\n",
      "Batch 20, Loss: 1.0230381488800049\n",
      "Batch 21, Loss: 0.7829615473747253\n",
      "Batch 22, Loss: 1.327648639678955\n",
      "Batch 23, Loss: 1.0454258918762207\n",
      "Batch 24, Loss: 0.8508060574531555\n",
      "Batch 25, Loss: 1.295395016670227\n",
      "Batch 26, Loss: 1.0517412424087524\n",
      "Batch 27, Loss: 1.156562089920044\n",
      "Batch 28, Loss: 1.024194359779358\n",
      "Batch 29, Loss: 0.9350476264953613\n",
      "Batch 30, Loss: 1.5214632749557495\n",
      "Batch 31, Loss: 1.171496868133545\n",
      "Batch 32, Loss: 0.6018403768539429\n",
      "Batch 33, Loss: 1.1370664834976196\n",
      "Batch 34, Loss: 0.7829679846763611\n",
      "Batch 35, Loss: 1.4383509159088135\n",
      "Batch 36, Loss: 0.8574019074440002\n",
      "Batch 37, Loss: 0.6316496133804321\n",
      "Training [20%]\tLoss: 1.0028\n",
      "Batch 0, Loss: 0.7328934669494629\n",
      "Batch 1, Loss: 0.7447103261947632\n",
      "Batch 2, Loss: 1.1873559951782227\n",
      "Batch 3, Loss: 1.1596810817718506\n",
      "Batch 4, Loss: 0.9251664876937866\n",
      "Batch 5, Loss: 0.7252055406570435\n",
      "Batch 6, Loss: 0.7278178334236145\n",
      "Batch 7, Loss: 1.21345055103302\n",
      "Batch 8, Loss: 0.9824057817459106\n",
      "Batch 9, Loss: 0.9811474084854126\n",
      "Batch 10, Loss: 0.9589899778366089\n",
      "Batch 11, Loss: 0.9888447523117065\n",
      "Batch 12, Loss: 0.7094084024429321\n",
      "Batch 13, Loss: 0.737170934677124\n",
      "Batch 14, Loss: 1.0812309980392456\n",
      "Batch 15, Loss: 1.1056138277053833\n",
      "Batch 16, Loss: 0.847028374671936\n",
      "Batch 17, Loss: 1.001068115234375\n",
      "Batch 18, Loss: 0.8272455930709839\n",
      "Batch 19, Loss: 0.9902666211128235\n",
      "Batch 20, Loss: 0.888312816619873\n",
      "Batch 21, Loss: 0.8609944581985474\n",
      "Batch 22, Loss: 0.8119932413101196\n",
      "Batch 23, Loss: 1.019974708557129\n",
      "Batch 24, Loss: 1.09270441532135\n",
      "Batch 25, Loss: 1.0446597337722778\n",
      "Batch 26, Loss: 1.0880012512207031\n",
      "Batch 27, Loss: 0.8658234477043152\n",
      "Batch 28, Loss: 1.2748960256576538\n",
      "Batch 29, Loss: 1.0769391059875488\n",
      "Batch 30, Loss: 1.0217835903167725\n",
      "Batch 31, Loss: 0.9650694727897644\n",
      "Batch 32, Loss: 0.618291437625885\n",
      "Batch 33, Loss: 1.2242400646209717\n",
      "Batch 34, Loss: 0.8049919009208679\n",
      "Batch 35, Loss: 1.2325096130371094\n",
      "Batch 36, Loss: 0.9193354249000549\n",
      "Batch 37, Loss: 0.5835186243057251\n",
      "Training [30%]\tLoss: 0.9479\n",
      "Batch 0, Loss: 0.6953061819076538\n",
      "Batch 1, Loss: 0.979153037071228\n",
      "Batch 2, Loss: 0.9568405151367188\n",
      "Batch 3, Loss: 0.7170196771621704\n",
      "Batch 4, Loss: 0.8609951734542847\n",
      "Batch 5, Loss: 1.133166790008545\n",
      "Batch 6, Loss: 0.9489979147911072\n",
      "Batch 7, Loss: 0.7988333702087402\n",
      "Batch 8, Loss: 0.7528901100158691\n",
      "Batch 9, Loss: 1.04777193069458\n",
      "Batch 10, Loss: 0.7232487797737122\n",
      "Batch 11, Loss: 0.9689249992370605\n",
      "Batch 12, Loss: 1.063794493675232\n",
      "Batch 13, Loss: 0.8222852945327759\n",
      "Batch 14, Loss: 0.8117160201072693\n",
      "Batch 15, Loss: 0.6943882703781128\n",
      "Batch 16, Loss: 0.9115256667137146\n",
      "Batch 17, Loss: 0.8072569370269775\n",
      "Batch 18, Loss: 1.0507192611694336\n",
      "Batch 19, Loss: 1.0488555431365967\n",
      "Batch 20, Loss: 0.782026469707489\n",
      "Batch 21, Loss: 1.0577478408813477\n",
      "Batch 22, Loss: 0.9524954557418823\n",
      "Batch 23, Loss: 1.143627405166626\n",
      "Batch 24, Loss: 1.0147829055786133\n",
      "Batch 25, Loss: 1.0532950162887573\n",
      "Batch 26, Loss: 1.072885513305664\n",
      "Batch 27, Loss: 0.9952482581138611\n",
      "Batch 28, Loss: 0.6679798364639282\n",
      "Batch 29, Loss: 0.9116730093955994\n",
      "Batch 30, Loss: 0.7771526575088501\n",
      "Batch 31, Loss: 1.076724648475647\n",
      "Batch 32, Loss: 0.7908051609992981\n",
      "Batch 33, Loss: 0.7672605514526367\n",
      "Batch 34, Loss: 0.6737414598464966\n",
      "Batch 35, Loss: 0.788165271282196\n",
      "Batch 36, Loss: 1.0150717496871948\n",
      "Batch 37, Loss: 0.565368115901947\n",
      "Training [40%]\tLoss: 0.8921\n",
      "Batch 0, Loss: 0.8479146361351013\n",
      "Batch 1, Loss: 0.6434468030929565\n",
      "Batch 2, Loss: 0.6524142026901245\n",
      "Batch 3, Loss: 0.8949331045150757\n",
      "Batch 4, Loss: 1.041683554649353\n",
      "Batch 5, Loss: 0.7819629907608032\n",
      "Batch 6, Loss: 0.904913067817688\n",
      "Batch 7, Loss: 0.7765375375747681\n",
      "Batch 8, Loss: 0.9128491878509521\n",
      "Batch 9, Loss: 0.902245044708252\n",
      "Batch 10, Loss: 0.8865221738815308\n",
      "Batch 11, Loss: 0.7944416999816895\n",
      "Batch 12, Loss: 0.6961314678192139\n",
      "Batch 13, Loss: 0.8995642066001892\n",
      "Batch 14, Loss: 0.6437541842460632\n",
      "Batch 15, Loss: 0.7653198838233948\n",
      "Batch 16, Loss: 1.3801376819610596\n",
      "Batch 17, Loss: 0.924217164516449\n",
      "Batch 18, Loss: 1.1775552034378052\n",
      "Batch 19, Loss: 0.9218236804008484\n",
      "Batch 20, Loss: 0.914115846157074\n",
      "Batch 21, Loss: 0.6741052865982056\n",
      "Batch 22, Loss: 0.6314963102340698\n",
      "Batch 23, Loss: 0.8856660723686218\n",
      "Batch 24, Loss: 0.9858444929122925\n",
      "Batch 25, Loss: 0.7806159257888794\n",
      "Batch 26, Loss: 0.7675091624259949\n",
      "Batch 27, Loss: 0.86064612865448\n",
      "Batch 28, Loss: 1.081201434135437\n",
      "Batch 29, Loss: 0.6604050993919373\n",
      "Batch 30, Loss: 1.06687593460083\n",
      "Batch 31, Loss: 0.6343955993652344\n",
      "Batch 32, Loss: 1.1215925216674805\n",
      "Batch 33, Loss: 0.7525739073753357\n",
      "Batch 34, Loss: 0.7360035181045532\n",
      "Batch 35, Loss: 0.6042876839637756\n",
      "Batch 36, Loss: 1.1138147115707397\n",
      "Batch 37, Loss: 0.9411863088607788\n",
      "Training [50%]\tLoss: 0.8595\n",
      "Batch 0, Loss: 0.6797422766685486\n",
      "Batch 1, Loss: 0.8432731032371521\n",
      "Batch 2, Loss: 0.9775385856628418\n",
      "Batch 3, Loss: 1.022699236869812\n",
      "Batch 4, Loss: 0.8670741319656372\n",
      "Batch 5, Loss: 0.7415217757225037\n",
      "Batch 6, Loss: 0.6211793422698975\n",
      "Batch 7, Loss: 0.6845571994781494\n",
      "Batch 8, Loss: 0.853426456451416\n",
      "Batch 9, Loss: 0.8613146543502808\n",
      "Batch 10, Loss: 0.8939869999885559\n",
      "Batch 11, Loss: 1.2965646982192993\n",
      "Batch 12, Loss: 0.7983019351959229\n",
      "Batch 13, Loss: 0.8538980484008789\n",
      "Batch 14, Loss: 0.9550660848617554\n",
      "Batch 15, Loss: 0.6106524467468262\n",
      "Batch 16, Loss: 0.6971600651741028\n",
      "Batch 17, Loss: 0.7107595801353455\n",
      "Batch 18, Loss: 0.9809926748275757\n",
      "Batch 19, Loss: 0.8897818326950073\n",
      "Batch 20, Loss: 0.6889301538467407\n",
      "Batch 21, Loss: 0.6372098922729492\n",
      "Batch 22, Loss: 0.725852906703949\n",
      "Batch 23, Loss: 0.7538362741470337\n",
      "Batch 24, Loss: 0.7867648601531982\n",
      "Batch 25, Loss: 0.8672438263893127\n",
      "Batch 26, Loss: 1.050036907196045\n",
      "Batch 27, Loss: 0.8010685443878174\n",
      "Batch 28, Loss: 0.8866907954216003\n",
      "Batch 29, Loss: 1.0281723737716675\n",
      "Batch 30, Loss: 1.107095718383789\n",
      "Batch 31, Loss: 0.9388198256492615\n",
      "Batch 32, Loss: 0.7266926765441895\n",
      "Batch 33, Loss: 0.689320981502533\n",
      "Batch 34, Loss: 0.8102562427520752\n",
      "Batch 35, Loss: 0.7953239679336548\n",
      "Batch 36, Loss: 0.7603383660316467\n",
      "Batch 37, Loss: 0.7305564284324646\n",
      "Training [60%]\tLoss: 0.8322\n",
      "Batch 0, Loss: 1.040356159210205\n",
      "Batch 1, Loss: 0.9285361766815186\n",
      "Batch 2, Loss: 0.6221991181373596\n",
      "Batch 3, Loss: 0.7680369019508362\n",
      "Batch 4, Loss: 0.8999097347259521\n"
     ]
    },
    {
     "name": "stdout",
     "output_type": "stream",
     "text": [
      "Batch 5, Loss: 0.9382445812225342\n",
      "Batch 6, Loss: 0.6982531547546387\n",
      "Batch 7, Loss: 0.9104419946670532\n",
      "Batch 8, Loss: 0.5224476456642151\n",
      "Batch 9, Loss: 1.1382091045379639\n",
      "Batch 10, Loss: 0.8526158332824707\n",
      "Batch 11, Loss: 0.6052563786506653\n",
      "Batch 12, Loss: 0.7989175319671631\n",
      "Batch 13, Loss: 0.9401242136955261\n",
      "Batch 14, Loss: 0.5630273818969727\n",
      "Batch 15, Loss: 0.6151067614555359\n",
      "Batch 16, Loss: 0.7594149112701416\n",
      "Batch 17, Loss: 0.6339887976646423\n",
      "Batch 18, Loss: 0.7516520023345947\n",
      "Batch 19, Loss: 0.9732904434204102\n",
      "Batch 20, Loss: 0.8143507242202759\n",
      "Batch 21, Loss: 0.6336129903793335\n",
      "Batch 22, Loss: 0.841148853302002\n",
      "Batch 23, Loss: 0.9054961800575256\n",
      "Batch 24, Loss: 0.728415846824646\n",
      "Batch 25, Loss: 0.7580951452255249\n",
      "Batch 26, Loss: 0.9266707897186279\n",
      "Batch 27, Loss: 0.8150796294212341\n",
      "Batch 28, Loss: 0.9485412836074829\n",
      "Batch 29, Loss: 0.7323067784309387\n",
      "Batch 30, Loss: 1.0597566366195679\n",
      "Batch 31, Loss: 0.6890287399291992\n",
      "Batch 32, Loss: 0.6458186507225037\n",
      "Batch 33, Loss: 0.8136748671531677\n",
      "Batch 34, Loss: 0.9414181709289551\n",
      "Batch 35, Loss: 0.7677667140960693\n",
      "Batch 36, Loss: 0.5528684854507446\n",
      "Batch 37, Loss: 0.7315208315849304\n",
      "Training [70%]\tLoss: 0.7965\n",
      "Batch 0, Loss: 0.5223143100738525\n",
      "Batch 1, Loss: 0.5885363817214966\n",
      "Batch 2, Loss: 0.775997519493103\n",
      "Batch 3, Loss: 0.9059373736381531\n",
      "Batch 4, Loss: 0.7265018224716187\n",
      "Batch 5, Loss: 0.6176834106445312\n",
      "Batch 6, Loss: 0.8157936334609985\n",
      "Batch 7, Loss: 0.7354596257209778\n",
      "Batch 8, Loss: 0.9846141338348389\n",
      "Batch 9, Loss: 0.9722402691841125\n",
      "Batch 10, Loss: 1.016046404838562\n",
      "Batch 11, Loss: 0.8063826560974121\n",
      "Batch 12, Loss: 0.8768349289894104\n",
      "Batch 13, Loss: 0.7701780200004578\n",
      "Batch 14, Loss: 0.6931003332138062\n",
      "Batch 15, Loss: 1.111450433731079\n",
      "Batch 16, Loss: 0.5182314515113831\n",
      "Batch 17, Loss: 0.5959365367889404\n",
      "Batch 18, Loss: 0.717363715171814\n",
      "Batch 19, Loss: 0.9588165283203125\n",
      "Batch 20, Loss: 0.5836449861526489\n",
      "Batch 21, Loss: 0.9955533742904663\n",
      "Batch 22, Loss: 0.6305654644966125\n",
      "Batch 23, Loss: 0.5924289226531982\n",
      "Batch 24, Loss: 0.7658873796463013\n",
      "Batch 25, Loss: 0.6557673215866089\n",
      "Batch 26, Loss: 0.7640712261199951\n",
      "Batch 27, Loss: 0.650784969329834\n",
      "Batch 28, Loss: 0.699893057346344\n",
      "Batch 29, Loss: 1.1333621740341187\n",
      "Batch 30, Loss: 0.902641773223877\n",
      "Batch 31, Loss: 0.833191454410553\n",
      "Batch 32, Loss: 0.7074233293533325\n",
      "Batch 33, Loss: 0.7114686965942383\n",
      "Batch 34, Loss: 0.5840603709220886\n",
      "Batch 35, Loss: 0.8480230569839478\n",
      "Batch 36, Loss: 0.7938711047172546\n",
      "Batch 37, Loss: 0.6423810124397278\n",
      "Training [80%]\tLoss: 0.7685\n",
      "Batch 0, Loss: 0.7376211881637573\n",
      "Batch 1, Loss: 0.6170058846473694\n",
      "Batch 2, Loss: 0.8085594177246094\n",
      "Batch 3, Loss: 0.819282054901123\n",
      "Batch 4, Loss: 1.0218335390090942\n",
      "Batch 5, Loss: 0.759913444519043\n",
      "Batch 6, Loss: 0.832728385925293\n",
      "Batch 7, Loss: 0.8747572302818298\n",
      "Batch 8, Loss: 0.8117397427558899\n",
      "Batch 9, Loss: 0.8452507853507996\n",
      "Batch 10, Loss: 0.6083254814147949\n",
      "Batch 11, Loss: 0.7899762988090515\n",
      "Batch 12, Loss: 0.7619516849517822\n",
      "Batch 13, Loss: 0.6805611848831177\n",
      "Batch 14, Loss: 0.7928493022918701\n",
      "Batch 15, Loss: 0.7384992837905884\n",
      "Batch 16, Loss: 0.6764090061187744\n",
      "Batch 17, Loss: 0.593650758266449\n",
      "Batch 18, Loss: 0.6373706459999084\n",
      "Batch 19, Loss: 0.8411836624145508\n",
      "Batch 20, Loss: 0.6792200803756714\n",
      "Batch 21, Loss: 0.7279597520828247\n",
      "Batch 22, Loss: 0.9236537218093872\n",
      "Batch 23, Loss: 0.6931920647621155\n",
      "Batch 24, Loss: 0.7764923572540283\n",
      "Batch 25, Loss: 0.8873640894889832\n",
      "Batch 26, Loss: 0.7049816846847534\n",
      "Batch 27, Loss: 0.8236655592918396\n",
      "Batch 28, Loss: 0.4820559620857239\n",
      "Batch 29, Loss: 0.6408405303955078\n",
      "Batch 30, Loss: 0.7297064661979675\n",
      "Batch 31, Loss: 0.868452787399292\n",
      "Batch 32, Loss: 0.6167999505996704\n",
      "Batch 33, Loss: 0.8021397590637207\n",
      "Batch 34, Loss: 0.588476300239563\n",
      "Batch 35, Loss: 0.8647416830062866\n",
      "Batch 36, Loss: 0.6058896780014038\n",
      "Batch 37, Loss: 0.5437551140785217\n",
      "Training [90%]\tLoss: 0.7423\n",
      "Batch 0, Loss: 0.7357411980628967\n",
      "Batch 1, Loss: 0.725041389465332\n",
      "Batch 2, Loss: 0.7384504079818726\n",
      "Batch 3, Loss: 0.7595826387405396\n",
      "Batch 4, Loss: 0.7507973909378052\n",
      "Batch 5, Loss: 0.5919618010520935\n",
      "Batch 6, Loss: 0.7726439237594604\n",
      "Batch 7, Loss: 0.8603500723838806\n",
      "Batch 8, Loss: 0.5490265488624573\n",
      "Batch 9, Loss: 0.8749238848686218\n",
      "Batch 10, Loss: 0.760398805141449\n",
      "Batch 11, Loss: 0.7778666019439697\n",
      "Batch 12, Loss: 0.8091242909431458\n",
      "Batch 13, Loss: 0.5653138160705566\n",
      "Batch 14, Loss: 0.7492453455924988\n",
      "Batch 15, Loss: 0.7151782512664795\n",
      "Batch 16, Loss: 0.7642314434051514\n",
      "Batch 17, Loss: 0.8743288516998291\n",
      "Batch 18, Loss: 0.7819291353225708\n",
      "Batch 19, Loss: 0.8889455795288086\n",
      "Batch 20, Loss: 0.7505702972412109\n",
      "Batch 21, Loss: 0.7241111397743225\n",
      "Batch 22, Loss: 0.6378985643386841\n",
      "Batch 23, Loss: 0.4890046715736389\n",
      "Batch 24, Loss: 0.7402689456939697\n",
      "Batch 25, Loss: 1.0075541734695435\n",
      "Batch 26, Loss: 0.6533175706863403\n",
      "Batch 27, Loss: 0.6238043904304504\n",
      "Batch 28, Loss: 0.6356181502342224\n",
      "Batch 29, Loss: 0.5764590501785278\n",
      "Batch 30, Loss: 0.6216151118278503\n",
      "Batch 31, Loss: 0.7519385814666748\n",
      "Batch 32, Loss: 0.6653857827186584\n",
      "Batch 33, Loss: 0.7251964807510376\n",
      "Batch 34, Loss: 0.5141253471374512\n",
      "Batch 35, Loss: 0.7262173891067505\n",
      "Batch 36, Loss: 0.5780357122421265\n",
      "Batch 37, Loss: 0.8059946298599243\n",
      "Training [100%]\tLoss: 0.7177\n"
     ]
    },
    {
     "data": {
      "image/png": "[encoded data removed]",
      "text/plain": [
       "<Figure size 432x288 with 1 Axes>"
      ]
     },
     "metadata": {
      "needs_background": "light"
     },
     "output_type": "display_data"
    },
    {
     "name": "stdout",
     "output_type": "stream",
     "text": [
      "Training time: 0.0006204508244991302 s\n"
     ]
    }
   ],
   "source": [
    "################# TRAIN\n",
    "# Start training\n",
    "time_start = timeit.timeit()\n",
    "\n",
    "if network != \"QSVM\":\n",
    "    if \"vgg\" in network or \"resnet\" in network:\n",
    "        model.network.train()  # Set model to training mode\n",
    "    if network == \"hybridqnn_shallow\":\n",
    "        model.train()  # Set model to training mode\n",
    "        \n",
    "    loss_list = []  # Store loss history\n",
    "    for epoch in range(epochs):\n",
    "        total_loss = []\n",
    "        for batch_idx, (data, target) in enumerate(train_loader):\n",
    "\n",
    "            optimizer.zero_grad(set_to_none=True)  # Initialize gradient\n",
    "            output = model(data)  # Forward pass\n",
    "\n",
    "            # change target class identifiers towards 0 to n_classes\n",
    "            for sample_idx, value in enumerate(target):\n",
    "                target[sample_idx]=classes2spec[target[sample_idx].item()]\n",
    "            loss = loss_func(output, target)  # Calculate loss\n",
    "            loss.backward()  # Backward pass\n",
    "            optimizer.step()  # Optimize weights\n",
    "            total_loss.append(loss.item())  # Store loss\n",
    "            print(f\"Batch {batch_idx}, Loss: {total_loss[-1]}\")\n",
    "        loss_list.append(sum(total_loss) / len(total_loss))\n",
    "        print(\"Training [{:.0f}%]\\tLoss: {:.4f}\".format(100.0 * (epoch + 1) / epochs, loss_list[-1]))\n",
    "\n",
    "    # Plot loss convergence\n",
    "    plt.clf()\n",
    "    plt.plot(loss_list)\n",
    "    plt.title(\"Hybrid NN Training Convergence\")\n",
    "    plt.xlabel(\"Training Iterations\")\n",
    "    plt.ylabel(\"Neg. Log Likelihood Loss\")\n",
    "    #plt.savefig(f\"plots/{dataset}_classification{classes_str}_hybridqnn_q{n_qubits}_{n_samples}samples_lr{LR}_bsize{batch_size}.png\")\n",
    "    plt.show()\n",
    "    \n",
    "elif network == \"QSVM\":\n",
    "    result = model.run(quantum_instance)\n",
    "    for k,v in result.items():\n",
    "        print(f'{k} : {v}')\n",
    "\n",
    "time_end = timeit.timeit()\n",
    "time_elapsed = time_end - time_start\n",
    "print(f\"Training time: {time_elapsed} s\")"
   ]
  },
  {
   "cell_type": "code",
   "execution_count": 9,
   "id": "41ce04bd",
   "metadata": {},
   "outputs": [
    {
     "name": "stdout",
     "output_type": "stream",
     "text": [
      "Performance on test data:\n",
      "\tLoss: 0.7120\n",
      "\tAccuracy: 65.8%\n",
      "Test time: -0.0008468069136142731 s\n"
     ]
    }
   ],
   "source": [
    "######## TEST\n",
    "time_start = timeit.timeit()\n",
    "\n",
    "if network != \"QSVM\":\n",
    "    if \"vgg\" in network or \"resnet\" in network:\n",
    "        model.network.eval()  # Set model to eval mode\n",
    "    if network == \"hybridqnn_shallow\":\n",
    "        model.eval()  # Set model to eval mode\n",
    "    with no_grad():\n",
    "        correct = 0\n",
    "        for batch_idx, (data, target) in enumerate(test_loader):\n",
    "            output = model(data)\n",
    "            if len(output.shape) == 1:\n",
    "                output = output.reshape(1, *output.shape)\n",
    "            pred = output.argmax(dim=1, keepdim=True)\n",
    "\n",
    "            # change target class identifiers towards 0 to n_classes\n",
    "            for sample_idx, value in enumerate(target):\n",
    "                target[sample_idx]=classes2spec[target[sample_idx].item()]\n",
    "\n",
    "            correct += pred.eq(target.view_as(pred)).sum().item()\n",
    "            loss = loss_func(output, target)\n",
    "            total_loss.append(loss.item())\n",
    "\n",
    "        print(\n",
    "            \"Performance on test data:\\n\\tLoss: {:.4f}\\n\\tAccuracy: {:.1f}%\".format(\n",
    "                sum(total_loss) / len(total_loss), correct / len(test_loader) / batch_size * 100\n",
    "            )\n",
    "        )\n",
    "\n",
    "    time_end = timeit.timeit()\n",
    "    time_elapsed = time_end - time_start\n",
    "    print(f\"Test time: {time_elapsed} s\")\n",
    "    \n",
    "    \n"
   ]
  },
  {
   "cell_type": "code",
   "execution_count": 10,
   "id": "416d08bb",
   "metadata": {},
   "outputs": [
    {
     "data": {
      "text/plain": [
       "<Figure size 432x288 with 0 Axes>"
      ]
     },
     "metadata": {},
     "output_type": "display_data"
    },
    {
     "data": {
      "image/png": "[encoded data removed]",
      "text/plain": [
       "<Figure size 72x1728 with 24 Axes>"
      ]
     },
     "metadata": {},
     "output_type": "display_data"
    },
    {
     "data": {
      "text/plain": [
       "<Figure size 432x288 with 0 Axes>"
      ]
     },
     "metadata": {},
     "output_type": "display_data"
    },
    {
     "data": {
      "image/png": "[encoded data removed]",
      "text/plain": [
       "<Figure size 72x1656 with 24 Axes>"
      ]
     },
     "metadata": {},
     "output_type": "display_data"
    },
    {
     "data": {
      "text/plain": [
       "<Figure size 432x288 with 0 Axes>"
      ]
     },
     "metadata": {},
     "output_type": "display_data"
    },
    {
     "data": {
      "image/png": "[encoded data removed]",
      "text/plain": [
       "<Figure size 72x1584 with 24 Axes>"
      ]
     },
     "metadata": {},
     "output_type": "display_data"
    },
    {
     "data": {
      "text/plain": [
       "<Figure size 432x288 with 0 Axes>"
      ]
     },
     "metadata": {},
     "output_type": "display_data"
    },
    {
     "data": {
      "image/png": "[encoded data removed]",
      "text/plain": [
       "<Figure size 72x1512 with 24 Axes>"
      ]
     },
     "metadata": {},
     "output_type": "display_data"
    },
    {
     "data": {
      "text/plain": [
       "<Figure size 432x288 with 0 Axes>"
      ]
     },
     "metadata": {},
     "output_type": "display_data"
    },
    {
     "data": {
      "image/png": "[encoded data removed]",
      "text/plain": [
       "<Figure size 72x1440 with 24 Axes>"
      ]
     },
     "metadata": {},
     "output_type": "display_data"
    },
    {
     "data": {
      "text/plain": [
       "<Figure size 432x288 with 0 Axes>"
      ]
     },
     "metadata": {},
     "output_type": "display_data"
    },
    {
     "data": {
      "image/png": "[encoded data removed]",
      "text/plain": [
       "<Figure size 72x1368 with 24 Axes>"
      ]
     },
     "metadata": {},
     "output_type": "display_data"
    },
    {
     "data": {
      "text/plain": [
       "<Figure size 432x288 with 0 Axes>"
      ]
     },
     "metadata": {},
     "output_type": "display_data"
    },
    {
     "data": {
      "image/png": "[encoded data removed]",
      "text/plain": [
       "<Figure size 72x1296 with 24 Axes>"
      ]
     },
     "metadata": {},
     "output_type": "display_data"
    },
    {
     "data": {
      "text/plain": [
       "<Figure size 432x288 with 0 Axes>"
      ]
     },
     "metadata": {},
     "output_type": "display_data"
    },
    {
     "data": {
      "image/png": "[encoded data removed]",
      "text/plain": [
       "<Figure size 72x1224 with 24 Axes>"
      ]
     },
     "metadata": {},
     "output_type": "display_data"
    },
    {
     "data": {
      "text/plain": [
       "<Figure size 432x288 with 0 Axes>"
      ]
     },
     "metadata": {},
     "output_type": "display_data"
    },
    {
     "data": {
      "image/png": "[encoded data removed]",
      "text/plain": [
       "<Figure size 72x1152 with 24 Axes>"
      ]
     },
     "metadata": {},
     "output_type": "display_data"
    },
    {
     "data": {
      "text/plain": [
       "<Figure size 432x288 with 0 Axes>"
      ]
     },
     "metadata": {},
     "output_type": "display_data"
    },
    {
     "data": {
      "image/png": "[encoded data removed]",
      "text/plain": [
       "<Figure size 72x1080 with 24 Axes>"
      ]
     },
     "metadata": {},
     "output_type": "display_data"
    },
    {
     "data": {
      "text/plain": [
       "<Figure size 432x288 with 0 Axes>"
      ]
     },
     "metadata": {},
     "output_type": "display_data"
    },
    {
     "data": {
      "image/png": "[encoded data removed]",
      "text/plain": [
       "<Figure size 72x1008 with 24 Axes>"
      ]
     },
     "metadata": {},
     "output_type": "display_data"
    },
    {
     "data": {
      "text/plain": [
       "<Figure size 432x288 with 0 Axes>"
      ]
     },
     "metadata": {},
     "output_type": "display_data"
    },
    {
     "data": {
      "image/png": "[encoded data removed]",
      "text/plain": [
       "<Figure size 72x936 with 24 Axes>"
      ]
     },
     "metadata": {},
     "output_type": "display_data"
    },
    {
     "data": {
      "text/plain": [
       "<Figure size 432x288 with 0 Axes>"
      ]
     },
     "metadata": {},
     "output_type": "display_data"
    },
    {
     "data": {
      "image/png": "[encoded data removed]",
      "text/plain": [
       "<Figure size 72x864 with 24 Axes>"
      ]
     },
     "metadata": {},
     "output_type": "display_data"
    },
    {
     "data": {
      "text/plain": [
       "<Figure size 432x288 with 0 Axes>"
      ]
     },
     "metadata": {},
     "output_type": "display_data"
    },
    {
     "data": {
      "image/png": "[encoded data removed]",
      "text/plain": [
       "<Figure size 72x792 with 24 Axes>"
      ]
     },
     "metadata": {},
     "output_type": "display_data"
    },
    {
     "data": {
      "text/plain": [
       "<Figure size 432x288 with 0 Axes>"
      ]
     },
     "metadata": {},
     "output_type": "display_data"
    },
    {
     "data": {
      "image/png": "[encoded data removed]",
      "text/plain": [
       "<Figure size 72x720 with 24 Axes>"
      ]
     },
     "metadata": {},
     "output_type": "display_data"
    },
    {
     "data": {
      "text/plain": [
       "<Figure size 432x288 with 0 Axes>"
      ]
     },
     "metadata": {},
     "output_type": "display_data"
    },
    {
     "data": {
      "image/png": "[encoded data removed]",
      "text/plain": [
       "<Figure size 72x648 with 24 Axes>"
      ]
     },
     "metadata": {},
     "output_type": "display_data"
    },
    {
     "data": {
      "text/plain": [
       "<Figure size 432x288 with 0 Axes>"
      ]
     },
     "metadata": {},
     "output_type": "display_data"
    },
    {
     "data": {
      "image/png": "[encoded data removed]",
      "text/plain": [
       "<Figure size 72x576 with 24 Axes>"
      ]
     },
     "metadata": {},
     "output_type": "display_data"
    },
    {
     "data": {
      "text/plain": [
       "<Figure size 432x288 with 0 Axes>"
      ]
     },
     "metadata": {},
     "output_type": "display_data"
    },
    {
     "data": {
      "image/png": "[encoded data removed]",
      "text/plain": [
       "<Figure size 72x504 with 24 Axes>"
      ]
     },
     "metadata": {},
     "output_type": "display_data"
    },
    {
     "data": {
      "text/plain": [
       "<Figure size 432x288 with 0 Axes>"
      ]
     },
     "metadata": {},
     "output_type": "display_data"
    },
    {
     "data": {
      "image/png": "[encoded data removed]",
      "text/plain": [
       "<Figure size 72x432 with 24 Axes>"
      ]
     },
     "metadata": {},
     "output_type": "display_data"
    },
    {
     "data": {
      "text/plain": [
       "<Figure size 432x288 with 0 Axes>"
      ]
     },
     "metadata": {},
     "output_type": "display_data"
    },
    {
     "data": {
      "image/png": "[encoded data removed]",
      "text/plain": [
       "<Figure size 72x360 with 24 Axes>"
      ]
     },
     "metadata": {},
     "output_type": "display_data"
    },
    {
     "data": {
      "text/plain": [
       "<Figure size 432x288 with 0 Axes>"
      ]
     },
     "metadata": {},
     "output_type": "display_data"
    },
    {
     "data": {
      "image/png": "[encoded data removed]",
      "text/plain": [
       "<Figure size 72x288 with 24 Axes>"
      ]
     },
     "metadata": {},
     "output_type": "display_data"
    },
    {
     "data": {
      "text/plain": [
       "<Figure size 432x288 with 0 Axes>"
      ]
     },
     "metadata": {},
     "output_type": "display_data"
    },
    {
     "data": {
      "image/png": "[encoded data removed]",
      "text/plain": [
       "<Figure size 72x216 with 24 Axes>"
      ]
     },
     "metadata": {},
     "output_type": "display_data"
    },
    {
     "data": {
      "text/plain": [
       "<Figure size 432x288 with 0 Axes>"
      ]
     },
     "metadata": {},
     "output_type": "display_data"
    },
    {
     "data": {
      "image/png": "[encoded data removed]",
      "text/plain": [
       "<Figure size 72x144 with 24 Axes>"
      ]
     },
     "metadata": {},
     "output_type": "display_data"
    },
    {
     "data": {
      "text/plain": [
       "<Figure size 432x288 with 0 Axes>"
      ]
     },
     "metadata": {},
     "output_type": "display_data"
    },
    {
     "data": {
      "image/png": "[encoded data removed]",
      "text/plain": [
       "<Figure size 72x72 with 24 Axes>"
      ]
     },
     "metadata": {},
     "output_type": "display_data"
    }
   ],
   "source": [
    "# Plot predicted labels\n",
    "n_samples_show_alt = n_samples_show\n",
    "while n_samples_show_alt > 0:\n",
    "    plt.clf()\n",
    "    count = 0\n",
    "    fig, axes = plt.subplots(nrows=1, ncols=n_samples_show, figsize=(1, n_samples_show_alt)) #n_samples_show*2, batch_size*3\n",
    "    if n_samples_show == 1:\n",
    "        axes = [axes]\n",
    "    for batch_idx, (data, target) in enumerate(test_loader):    \n",
    "        if count == n_samples_show:\n",
    "            #plt.savefig(f\"plots/{dataset}_classification{classes_str}_subplots{n_samples_show_alt}_lr{LR}_pred_q{n_qubits}_{n_samples}samples_bsize{batch_size}_{epochs}epoch.png\")\n",
    "            plt.show()\n",
    "            break\n",
    "        output = model(data)\n",
    "        if len(output.shape) == 1:\n",
    "            output = output.reshape(1, *output.shape)\n",
    "        pred = output.argmax(dim=1, keepdim=True)\n",
    "        for sample_idx in range(batch_size):\n",
    "            try:\n",
    "                class_label = classes_list[specific_classes[pred[sample_idx].item()]]\n",
    "            except:\n",
    "                class_label = classes_list[specific_classes[pred[sample_idx].item()-1]]\n",
    "            axes[count].imshow(np.moveaxis(data[sample_idx].numpy().squeeze(),0,-1))\n",
    "            axes[count].set_xticks([])\n",
    "            axes[count].set_yticks([])\n",
    "            axes[count].set_title(class_label)\n",
    "            count += 1\n",
    "    n_samples_show_alt -= 1"
   ]
  },
  {
   "cell_type": "markdown",
   "id": "72d31d1c",
   "metadata": {},
   "source": [
    "### "
   ]
  }
 ],
 "metadata": {
  "kernelspec": {
   "display_name": "Python 3 (ipykernel)",
   "language": "python",
   "name": "python3"
  },
  "language_info": {
   "codemirror_mode": {
    "name": "ipython",
    "version": 3
   },
   "file_extension": ".py",
   "mimetype": "text/x-python",
   "name": "python",
   "nbconvert_exporter": "python",
   "pygments_lexer": "ipython3",
   "version": "3.9.7"
  }
 },
 "nbformat": 4,
 "nbformat_minor": 5
}
